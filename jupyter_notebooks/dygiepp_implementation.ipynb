{
 "cells": [
  {
   "cell_type": "markdown",
   "metadata": {},
   "source": [
    "# DyGIE++: NER, RE, and EE with Coreference Resolution\n",
    "--------------------------------------\n",
    "[DyGIE++ paper](https://arxiv.org/pdf/1909.03546.pdf) <br>\n",
    "[DyGIE++ GitHub](https://github.com/dwadden/dygiepp)"
   ]
  },
  {
   "cell_type": "markdown",
   "metadata": {},
   "source": [
    "In this notebook, I will implement the first 3 steps in KG construction, named entity recognition (NER), relation extraction (RE) and event extraction (EE) using the DyGIE++ pre-trained model on the [GENIA corpus](https://wayback.archive-it.org/org-350/20200626194727/https://orbit.nlm.nih.gov/browse-repository/dataset/human-annotated/83-genia-corpus). DyGIE++ performs these tasks simultaneously, using coreference resolution to enhance the performance of the model."
   ]
  },
  {
   "cell_type": "markdown",
   "metadata": {},
   "source": [
    "## 0. Formatting unlabeled data\n",
    "In order to apply a pre-trained model to unlabeled data, some formatting requirements must be met. From the [docs](https://github.com/dwadden/dygiepp/blob/master/doc/data.md): \n",
    "* \"In the case where your unlabeled data are stored as a directory of `.txt` files (one file per document), you can run `python scripts/data/new-dataset/format_new_dataset.py [input-directory] [output-file]` to format the documents into a `jsonl` file, with one line per document. If your dataset is scientific text, add the `--use-scispacy` flag to have SciSpacy do the tokenization.\"\n",
    "    * This is the most straightforward way to format new data. Since I am using abstracts which are downloaded from PubMed as a `.txt` file, and already have written a (rough) abstract extractor, this is fairly simple. \n",
    "* \"If you'd like to use a pretrained DyGIE++ model to make predictions on a new dataset, the `dataset` field in your new dataset must match the `dataset` that the original model was trained on; this indicates to the model which label namespace it should use for predictions.\"\n",
    "    * In this case, the `dataset` field for the unlabeled data should be `GENIA`"
   ]
  },
  {
   "cell_type": "markdown",
   "metadata": {},
   "source": [
    "### Make a directory of `.txt` files"
   ]
  },
  {
   "cell_type": "markdown",
   "metadata": {},
   "source": [
    "First, define a function to get abstracts from a PubMed search `.txt` results file (from NLP class project methods):"
   ]
  },
  {
   "cell_type": "code",
   "execution_count": 5,
   "metadata": {},
   "outputs": [],
   "source": [
    "import re\n",
    "from collections import defaultdict"
   ]
  },
  {
   "cell_type": "code",
   "execution_count": 6,
   "metadata": {},
   "outputs": [],
   "source": [
    "def separateAbstracts(data_path, abstract_num):\n",
    "    \"\"\"\n",
    "    Function to read a .txt file downloaded from PubMed and separate the text of the abstract from its metadata.\n",
    "    \n",
    "    parameters:\n",
    "        data_path, str: path to a .txt file with abstracts downloaded from PubMed\n",
    "        abstract_num, int: the number of abstracts in the file (from PubMed search interface)\n",
    "        \n",
    "    returns: \n",
    "        abstracts, list of str: list of the abstract plain text for all abstracts in data_path\n",
    "    \"\"\"\n",
    "    abstract_start_chars = [f'{x+1}. ' for x in range(abstract_num)]\n",
    "    abstract_start_re = '\\d+. '\n",
    "    \n",
    "    abstract_text = []\n",
    "    with open(data_path) as f:\n",
    "        \n",
    "        # Set up housekeeping variables\n",
    "        started_newline_count = False\n",
    "        newlines = 0\n",
    "        start_recording_abstract = False\n",
    "        current_abstract = ''\n",
    "        \n",
    "        # Iterate through lines in the file \n",
    "        for line in f:\n",
    "            # print(line)\n",
    "            ###################################\n",
    "            # 1. Find start of abstract section\n",
    "            ###################################\n",
    "            \n",
    "            if not started_newline_count and not start_recording_abstract: \n",
    "                # print('Looking for a start line...')\n",
    "                \n",
    "                # See if there's a number followed by a period in the line\n",
    "                match = re.search(abstract_start_re, line)\n",
    "                \n",
    "                if match is not None:\n",
    "                    \n",
    "                    # Check if it's the first thing in the line\n",
    "                    if match.start() == 0:\n",
    "                    \n",
    "                        # Check if it's in the list of abstract start characters\n",
    "                        if line[match.start():match.end()] in abstract_start_chars:\n",
    "                            \n",
    "                            # print('Found a start line!')\n",
    "                            # print(f'This line begins with {line[match.start():match.end()]}')\n",
    "                            started_newline_count = True \n",
    "                            \n",
    "                        \n",
    "            ########################################\n",
    "            # Count newlines until start of abstract\n",
    "            ########################################\n",
    "            \n",
    "            elif started_newline_count:\n",
    "                # print('Looking for the start of abstract text')\n",
    "                \n",
    "                # Check if this line is a newline \n",
    "                if line == '\\n':\n",
    "                    newlines += 1\n",
    "                    # print('This is a new line!')\n",
    "                    # print(f'Number of newlines including this one = {newlines}')\n",
    "                    \n",
    "                    if newlines == 4:\n",
    "                        # print(f'Found the start of an abstract! Begins with {line}')\n",
    "                        \n",
    "                        # If that was the fourth newline, indicate the next line starts the abstract\n",
    "                        start_recording_abstract = True \n",
    "                        \n",
    "                        # Reset the newlines counter variables\n",
    "                        started_newline_count = False\n",
    "                        newlines = 0\n",
    "                        \n",
    "                else: newlines += 0\n",
    "\n",
    "            #################\n",
    "            # Record abstract\n",
    "            #################\n",
    "            \n",
    "            elif start_recording_abstract:\n",
    "                \n",
    "                if line != '\\n':\n",
    "                    \n",
    "                    # Add this line to the current abstract \n",
    "                    current_abstract += line\n",
    "                    \n",
    "                elif line == '\\n':\n",
    "                    \n",
    "                    # Indicate that the abstract is over \n",
    "                    start_recording_abstract = False\n",
    "                    \n",
    "                    # Put the abstract in abstract list \n",
    "                    abstract_text.append(current_abstract)\n",
    "                    \n",
    "                    # Overwrite current_abstract\n",
    "                    current_abstract = ''\n",
    "                    \n",
    "                    \n",
    "    return abstract_text\n",
    "                    "
   ]
  },
  {
   "cell_type": "markdown",
   "metadata": {},
   "source": [
    "Choose abstracts to use. 50 Abstracts were selected from the PubMed search results for \"jasmonic acid arabidopsis\". Papers were manually selected as being \"molecular\" if they contained gene, protein, or pathway names in the title, or keywords like \"pathway\", \"signalling\" and \"crosstalk\". "
   ]
  },
  {
   "cell_type": "code",
   "execution_count": 8,
   "metadata": {},
   "outputs": [],
   "source": [
    "import os\n",
    "import random"
   ]
  },
  {
   "cell_type": "code",
   "execution_count": 3,
   "metadata": {},
   "outputs": [],
   "source": [
    "abstract_num = 50\n",
    "data_path    = '../data/jasmonic_molec_abstract_50.txt'\n",
    "data_path    = os.path.abspath(data_path)"
   ]
  },
  {
   "cell_type": "markdown",
   "metadata": {},
   "source": [
    "Read in the file and extract abstracts:"
   ]
  },
  {
   "cell_type": "code",
   "execution_count": 9,
   "metadata": {},
   "outputs": [
    {
     "name": "stdout",
     "output_type": "stream",
     "text": [
      "Example abstract:\n",
      "-------------------------------------------------\n",
      "Methyl jasmonate is a plant volatile that acts as an important cellular \n",
      "regulator mediating diverse developmental processes and defense responses. We \n",
      "have cloned the novel gene JMT encoding an S-adenosyl-l-methionine:jasmonic acid \n",
      "carboxyl methyltransferase (JMT) from Arabidopsis thaliana. Recombinant JMT \n",
      "protein expressed in Escherichia coli catalyzed the formation of methyl \n",
      "jasmonate from jasmonic acid with K(m) value of 38.5 microM. JMT RNA was not \n",
      "detected in young seedlings but was detected in rosettes, cauline leaves, and \n",
      "developing flowers. In addition, expression of the gene was induced both locally \n",
      "and systemically by wounding or methyl jasmonate treatment. This result suggests \n",
      "that JMT can perceive and respond to local and systemic signals generated by \n",
      "external stimuli, and that the signals may include methyl jasmonate itself. \n",
      "Transgenic Arabidopsis overexpressing JMT had a 3-fold elevated level of \n",
      "endogenous methyl jasmonate without altering jasmonic acid content. The \n",
      "transgenic plants exhibited constitutive expression of jasmonate-responsive \n",
      "genes, including VSP and PDF1.2. Furthermore, the transgenic plants showed \n",
      "enhanced level of resistance against the virulent fungus Botrytis cinerea. Thus, \n",
      "our data suggest that the jasmonic acid carboxyl methyltransferase is a key \n",
      "enzyme for jasmonate-regulated plant responses. Activation of JMT expression \n",
      "leads to production of methyl jasmonate that could act as an intracellular \n",
      "regulator, a diffusible intercellular signal transducer, and an airborne signal \n",
      "mediating intra- and interplant communications.\n",
      "\n"
     ]
    }
   ],
   "source": [
    "abstract_texts = separateAbstracts(data_path, abstract_num)\n",
    "\n",
    "print('Example abstract:')\n",
    "print('-------------------------------------------------')\n",
    "print(abstract_texts[random.randint(0, abstract_num)])"
   ]
  },
  {
   "cell_type": "markdown",
   "metadata": {},
   "source": [
    "Check for extraction exceptions (see explanation in NLP project methods development notebook):"
   ]
  },
  {
   "cell_type": "code",
   "execution_count": 10,
   "metadata": {},
   "outputs": [
    {
     "name": "stdout",
     "output_type": "stream",
     "text": [
      "1 abstracts were lost to foreign language formatting edge case\n"
     ]
    }
   ],
   "source": [
    "# Drop any texts that match the author info regex\n",
    "author_info_re = 'Author information:'\n",
    "\n",
    "abstract_texts_clean = [x for x in abstract_texts if re.match(author_info_re, x) is None]\n",
    "\n",
    "print(f'{len(abstract_texts) - len(abstract_texts_clean)} abstracts were lost to foreign language formatting edge case')"
   ]
  },
  {
   "cell_type": "markdown",
   "metadata": {},
   "source": [
    "Write the abstracts to `.txt` files, one per abstract."
   ]
  },
  {
   "cell_type": "code",
   "execution_count": 12,
   "metadata": {},
   "outputs": [],
   "source": [
    "data_dir = '../data/dygiepp_50_molec/'\n",
    "data_dir = os.path.abspath(data_dir)\n",
    "\n",
    "for i, abstract in enumerate(abstract_texts_clean):\n",
    "        with open(f'{data_dir}/abstract{i}', 'w') as f:\n",
    "            f.write(abstract)"
   ]
  }
 ],
 "metadata": {
  "kernelspec": {
   "display_name": "Python 3",
   "language": "python",
   "name": "python3"
  },
  "language_info": {
   "codemirror_mode": {
    "name": "ipython",
    "version": 3
   },
   "file_extension": ".py",
   "mimetype": "text/x-python",
   "name": "python",
   "nbconvert_exporter": "python",
   "pygments_lexer": "ipython3",
   "version": "3.8.5"
  }
 },
 "nbformat": 4,
 "nbformat_minor": 4
}
