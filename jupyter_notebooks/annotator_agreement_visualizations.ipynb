{
 "cells": [
  {
   "cell_type": "markdown",
   "metadata": {},
   "source": [
    "# Annotator agreement visualizations\n",
    "Code to make plots of inter-annotator agreement for entity and relation annotation."
   ]
  },
  {
   "cell_type": "markdown",
   "metadata": {},
   "source": [
    "## Entity IAA\n",
    "The code to calculate the raw numbers for this section is found in the script `annotation/iaa/entity_iaa.py`. An example of how to run this script is:\n",
    "\n",
    "```\n",
    "python entityIAA.py path/to/project/dir > my_output_file.py\n",
    "```\n",
    "\n",
    "Since we use code from the [bratiaa](https://github.com/kldtz/bratiaa) project for this script, there is a specific directory structure required in order to run it, which is specified in the module documentation at the top of the script.\n",
    "<br>\n",
    "\n",
    "I ran this script after each round of entity annotation on all annotators in order to get the double-blind IAA. Then, after final refinement of the guidelines and making one final gold standard annotation, I used the gold standard annotation as an \"annotator\" in order to calculate the single-blind IAA. This was somewhat labor-intensive, because due to the required directory structure, it involved a lot of copying and pasting on the command line; there is a lot of room for imptovement in efficiency here. The files being read in here are the result of this process."
   ]
  },
  {
   "cell_type": "code",
   "execution_count": 1,
   "metadata": {},
   "outputs": [],
   "source": [
    "import pandas as pd \n",
    "from io import StringIO\n",
    "import matplotlib.pyplot as plt\n",
    "%matplotlib inline\n",
    "from os import listdir\n",
    "from os.path import join, splitext\n",
    "import numpy as np"
   ]
  },
  {
   "cell_type": "markdown",
   "metadata": {},
   "source": [
    "### Read in files and pre-process data"
   ]
  },
  {
   "cell_type": "code",
   "execution_count": 2,
   "metadata": {},
   "outputs": [],
   "source": [
    "# Define a function to read in the files\n",
    "def read_entity_iaa(ent_iaa_path):\n",
    "    \"\"\"\n",
    "    Read in the IAA from a bratiaa markdown file.\n",
    "    \n",
    "    parameters:\n",
    "        ent_iaa_path, str: path to Markdown file \n",
    "        \n",
    "    returns:\n",
    "        dfs, dict: keys are IAA type names, values are df's with IAA values \n",
    "        overalls, dict: keys are overall names, values are 2-tuples of (mean, sd)\n",
    "    \"\"\"\n",
    "    per_doc_inst_table = []\n",
    "    per_label_inst_table = []\n",
    "    overall_inst = ()\n",
    "    per_doc_tok_table = []\n",
    "    per_label_tok_table = []\n",
    "    overall_tok = ()\n",
    "    \n",
    "    tok_inst_counter = 0   # 0: none\n",
    "                           # 1: in instance-based \n",
    "                           # 2: in token-based\n",
    "    doc_label_counter = 0  # 0: reading irrelevant lines \n",
    "                           # 1: reading per-doc \n",
    "                           # 2: reading per-label\n",
    "                \n",
    "    # Read info for tables \n",
    "    with open(ent_iaa_path) as myfile:\n",
    "        lines = myfile.readlines()\n",
    "        for line in lines:\n",
    "            # Check which section we're in \n",
    "            if 'Instance-based' in line:\n",
    "                tok_inst_counter = 1\n",
    "            elif 'Token-based' in line:\n",
    "                tok_inst_counter = 2\n",
    "            \n",
    "            # Check which subsection we're in\n",
    "            if 'Agreement per Document' in line:\n",
    "                doc_label_counter = 1\n",
    "            elif 'Agreement per Label' in line:\n",
    "                doc_label_counter = 2\n",
    "                \n",
    "            # Check if this is a line to read \n",
    "            if line[0] == '|':\n",
    "                # Put it in the proper table list \n",
    "                if tok_inst_counter == 1 and doc_label_counter == 1:\n",
    "                    per_doc_inst_table.append(line)\n",
    "                elif tok_inst_counter == 1 and doc_label_counter == 2:\n",
    "                    per_label_inst_table.append(line)\n",
    "                elif tok_inst_counter == 2 and doc_label_counter == 1:\n",
    "                    per_doc_tok_table.append(line)\n",
    "                elif tok_inst_counter == 2 and doc_label_counter == 2:\n",
    "                    per_label_tok_table.append(line)\n",
    "            elif '* Mean F1:' in line:\n",
    "                first_colon = line.index(':')\n",
    "                second_colon = line.index(':', first_colon+1)\n",
    "                first_comma = line.index(',', first_colon+1)\n",
    "                mean = float(line[first_colon+1:first_comma].strip())\n",
    "                sd = float(line[second_colon+1:].strip())\n",
    "                if tok_inst_counter == 1:\n",
    "                    overall_inst = (mean, sd)\n",
    "                elif tok_inst_counter == 2:\n",
    "                    overall_tok = (mean, sd)\n",
    "                    \n",
    "    # Convert markdown tables to pandas df \n",
    "    tables = {'inst_doc':per_doc_inst_table, 'inst_label':per_label_inst_table,\n",
    "             'tok_doc':per_doc_tok_table, 'tok_label':per_label_tok_table}\n",
    "    dfs = {}\n",
    "    for table_name, table_contents in tables.items():\n",
    "        # Convert string to readable object\n",
    "        DATA = StringIO(\"\\n\".join(table_contents))\n",
    "        # Read into pandas df \n",
    "        df = pd.read_csv(DATA, sep=\"|\", index_col=1, header=0)\n",
    "        # Drop the NA columns caused by the pipe chars on either side of the table\n",
    "        df = df.dropna(axis=1, how='all')\n",
    "        # Strip whitespace from column and index names \n",
    "        df.columns = df.columns.str.strip()\n",
    "        df.index = df.index.str.strip()\n",
    "        # Drop the underline row \n",
    "        df = df[df['Mean F1'].str.contains(\"-\")==False]\n",
    "        # Drop rows with 'nan'\n",
    "        df = df[df['Mean F1'].str.contains('nan')==False]\n",
    "        # Convert str to int \n",
    "        df['Mean F1'] = pd.to_numeric(df['Mean F1'], downcast='float', errors='ignore')\n",
    "        df['SD F1'] = pd.to_numeric(df['SD F1'], downcast='float', errors='ignore')\n",
    "        # Add to dict\n",
    "        dfs[table_name] = df\n",
    "            \n",
    "    # Make dict for overall values \n",
    "    overalls = {'inst':overall_inst, 'tok':overall_tok}\n",
    "    \n",
    "    return dfs, overalls"
   ]
  },
  {
   "cell_type": "code",
   "execution_count": 3,
   "metadata": {},
   "outputs": [],
   "source": [
    "# Define paths for each round\n",
    "double_ent_paths = {'round_1': '../data/straying_off_topic_data/iaa/ten_gold_standard_docs.md',\n",
    "        'round_2': '../data/straying_off_topic_data/iaa/second_ten_gold_standard_docs.md',\n",
    "        'round_3': '../data/straying_off_topic_data/iaa/third_ten_gold_standard_docs_entityIAA.md',\n",
    "        'round_4': '../data/straying_off_topic_data/iaa/top_ten_journals_entity_IAA.md',\n",
    "        'round_5': '../data/straying_off_topic_data/iaa/five_gold_standard_docs_entity_IAA.md',\n",
    "        'round_6': '../data/straying_off_topic_data/iaa/last_ten_with_types.md'}\n",
    "\n",
    "single_ent_path = '../data/straying_off_topic_data/iaa/single_blind_entity_iaa/'"
   ]
  },
  {
   "cell_type": "code",
   "execution_count": 4,
   "metadata": {},
   "outputs": [],
   "source": [
    "# Read in the files\n",
    "double_ents = {}\n",
    "for r, path in double_ent_paths.items():\n",
    "    _, r_overalls = read_entity_iaa(path)\n",
    "    double_ents[r] = r_overalls\n",
    "    \n",
    "single_ents_sep_annotators = {}\n",
    "for f in listdir(single_ent_path):\n",
    "    _, overall = read_entity_iaa(join(single_ent_path, f))\n",
    "    name = splitext(f)[0]\n",
    "    single_ents_sep_annotators[name] = overall"
   ]
  },
  {
   "cell_type": "code",
   "execution_count": 5,
   "metadata": {},
   "outputs": [
    {
     "data": {
      "text/plain": [
       "{'round_1': (0.322, 0.097),\n",
       " 'round_2': (0.56, 0.098),\n",
       " 'round_3': (0.335, 0.072),\n",
       " 'round_4': (0.462, 0.039),\n",
       " 'round_5': (0.54, 0.031),\n",
       " 'round_6': (0.61, 0.0)}"
      ]
     },
     "execution_count": 5,
     "metadata": {},
     "output_type": "execute_result"
    }
   ],
   "source": [
    "# Process the double blind entity dictionary\n",
    "ent_round_double = {k: v['inst'] for k, v in double_ents.items()}\n",
    "ent_round_double"
   ]
  },
  {
   "cell_type": "code",
   "execution_count": 6,
   "metadata": {
    "scrolled": true
   },
   "outputs": [
    {
     "data": {
      "text/plain": [
       "{'round_1': (0.151, 0.05032395056034453),\n",
       " 'round_2': (0.3325, 0.03506066171651643),\n",
       " 'round_3': (0.3105, 0.057482606064791456),\n",
       " 'round_4': (0.3296666666666667, 0.04195500235040183),\n",
       " 'round_5': (0.617, 0.03698648401781389),\n",
       " 'round_6': (0.702, 0.043999999999999984)}"
      ]
     },
     "execution_count": 6,
     "metadata": {},
     "output_type": "execute_result"
    }
   ],
   "source": [
    "# Process the single blind entity dictionary\n",
    "# Get the individual values we want\n",
    "ent_round_single = {}\n",
    "for docset in ['set1', 'set2', 'set3', 'set4', 'set5', 'set6']:\n",
    "    round_name = f'round_{docset[-1]}'\n",
    "    ent_round_single[round_name] = [v['inst'][0] for k, v in single_ents_sep_annotators.items() if docset in k]\n",
    "# Then get mean and standard deviation\n",
    "ent_round_single = {k:(sum(v)/len(v), np.std(v)) for k, v in ent_round_single.items()}\n",
    "ent_round_single"
   ]
  },
  {
   "cell_type": "markdown",
   "metadata": {},
   "source": [
    "### Make plot"
   ]
  },
  {
   "cell_type": "code",
   "execution_count": 21,
   "metadata": {},
   "outputs": [
    {
     "data": {
      "image/png": "[encoded data removed]",
      "text/plain": [
       "<Figure size 432x288 with 1 Axes>"
      ]
     },
     "metadata": {
      "needs_background": "light"
     },
     "output_type": "display_data"
    }
   ],
   "source": [
    "round_names = ent_round_double.keys()\n",
    "db_means = [v[0] for k,v in ent_round_double.items()]\n",
    "db_std = [v[1] for k,v in ent_round_double.items()]\n",
    "sg_means = [v[0] for k,v in ent_round_single.items()]\n",
    "sg_std = [v[1] for k,v in ent_round_single.items()]\n",
    "\n",
    "plt.plot(round_names, db_means,'bo:', label='Double-blind agreement')\n",
    "plt.errorbar(round_names, db_means, yerr=db_std, fmt='bo:')\n",
    "plt.plot(round_names, sg_means, 'co-.', label='Single-blind agreement') \n",
    "plt.errorbar(round_names, sg_means, yerr=sg_std, fmt='co-.')\n",
    "plt.ylabel('F1 agreement score', fontsize=14)\n",
    "plt.xlabel('Annotation round', fontsize=14)\n",
    "plt.legend(loc='lower right')\n",
    "plt.savefig('../data/straying_off_topic_data/iaa/entity_single_double_blind_iaa.png')"
   ]
  },
  {
   "cell_type": "markdown",
   "metadata": {},
   "source": [
    "## Relation IAA\n",
    "This code was written from scratch, and so doesn't suffer as many limitations in terms of directory structure. It still required some command-line copying, as I needed to make a directory for the gold standard as an annotator, that has the same subdirectory structure as the original annotators, but I didn't have to move anything besides that. Additionally, the data is saved in a csv, instead of a Markdown file, which makes it easier to read in."
   ]
  },
  {
   "cell_type": "code",
   "execution_count": 9,
   "metadata": {},
   "outputs": [],
   "source": [
    "# Define function to read in the data\n",
    "def read_relation_iaa(path, prefix):\n",
    "    \"\"\"\n",
    "    Read in the relation IAA data. \n",
    "    \n",
    "    parameters:\n",
    "        path, str: path to directory containing relation IAA files \n",
    "        prefix, str: the prefix used to save the files \n",
    "    \n",
    "    returns: \n",
    "        per_doc, df: IAA per document \n",
    "        overall, df: agg df with overall mean and SD\n",
    "    \"\"\"\n",
    "    per_doc = pd.read_csv(f'{path}/{prefix}_per_doc.csv', index_col=0, header=1)\n",
    "    overall = pd.read_csv(f'{path}/{prefix}_overall.csv', index_col=0)\n",
    "    \n",
    "    return per_doc, overall"
   ]
  },
  {
   "cell_type": "code",
   "execution_count": 16,
   "metadata": {},
   "outputs": [],
   "source": [
    "# Define paths\n",
    "double_pre_path = '../data/straying_off_topic_data/iaa/relation_double_iaa'\n",
    "single_pre_path = '../data/straying_off_topic_data/iaa/relation_single_blind'\n",
    "\n",
    "rel_double_prefixes = {'round_1': 'ten_gold_standard_docs_RELATIONS_LOOSE',\n",
    "        'round_2': 'second_ten_gold_standard_docs_RELATIONS_LOOSE',\n",
    "        'round_3': 'third_ten_gold_standard_docs_RELATIONS_LOOSE',\n",
    "        'round_4': 'ten_top_journal_abstracts_RELATIONS_LOOSE',\n",
    "        'round_5': 'five_gold_standard_docs_RELATIONS_LOOSE',\n",
    "        'round_6': 'last_ten_gold_standard_docs_RELATIONS_LOOSE'}\n",
    "\n",
    "rel_single_prefixes = {k:'_'.join(v.split('_')[:-1]) for k,v in rel_double_prefixes.items()}"
   ]
  },
  {
   "cell_type": "code",
   "execution_count": 17,
   "metadata": {},
   "outputs": [],
   "source": [
    "# Read in files\n",
    "rel_double_overall_dfs = {}\n",
    "for r, prefix in rel_double_prefixes.items():\n",
    "    _, overall = read_relation_iaa(double_pre_path, prefix)\n",
    "    rel_double_overall_dfs[r] = overall\n",
    "    \n",
    "rel_single_overall_dfs = {}\n",
    "for r, prefix in rel_single_prefixes.items():\n",
    "    _, overall = read_relation_iaa(single_pre_path, prefix)\n",
    "    rel_single_overall_dfs[r] = overall"
   ]
  },
  {
   "cell_type": "code",
   "execution_count": 20,
   "metadata": {},
   "outputs": [],
   "source": [
    "# Get data in same tuple format as we did for entities\n",
    "rel_double_overall = {k:(v.loc['mean', 'iaa'], v.loc['std', 'iaa']) for k,v in rel_double_overall_dfs.items()}\n",
    "rel_single_overall = {k:(v.loc['mean', 'iaa'], v.loc['std', 'iaa']) for k,v in rel_single_overall_dfs.items()}"
   ]
  },
  {
   "cell_type": "markdown",
   "metadata": {},
   "source": [
    "### Make plot"
   ]
  },
  {
   "cell_type": "code",
   "execution_count": 23,
   "metadata": {},
   "outputs": [
    {
     "data": {
      "image/png": "[encoded data removed]",
      "text/plain": [
       "<Figure size 432x288 with 1 Axes>"
      ]
     },
     "metadata": {
      "needs_background": "light"
     },
     "output_type": "display_data"
    }
   ],
   "source": [
    "rel_round_names = rel_double_overall.keys()\n",
    "db_rel_means = [v[0] for k,v in rel_double_overall.items()]\n",
    "db_rel_std = [v[1] for k,v in rel_double_overall.items()]\n",
    "sg_rel_means = [v[0] for k,v in rel_single_overall.items()]\n",
    "sg_rel_std = [v[1] for k,v in rel_single_overall.items()]\n",
    "\n",
    "plt.plot(rel_round_names, db_rel_means,'bo:', label='Double-blind agreement')\n",
    "plt.errorbar(rel_round_names, db_rel_means, yerr=db_rel_std, fmt='bo:')\n",
    "plt.plot(rel_round_names, sg_rel_means, 'co-.', label='Single-blind agreement') \n",
    "plt.errorbar(rel_round_names, sg_rel_means, yerr=sg_rel_std, fmt='co-.')\n",
    "plt.ylabel('F1 agreement score', fontsize=14)\n",
    "plt.xlabel('Annotation round', fontsize=14)\n",
    "plt.legend(loc='lower right')\n",
    "plt.savefig('../data/straying_off_topic_data/iaa/relation_single_double_blind_iaa_LOOSE.png')"
   ]
  }
 ],
 "metadata": {
  "kernelspec": {
   "display_name": "dygiepp_fresh",
   "language": "python",
   "name": "dygiepp_fresh"
  },
  "language_info": {
   "codemirror_mode": {
    "name": "ipython",
    "version": 3
   },
   "file_extension": ".py",
   "mimetype": "text/x-python",
   "name": "python",
   "nbconvert_exporter": "python",
   "pygments_lexer": "ipython3",
   "version": "3.7.13"
  }
 },
 "nbformat": 4,
 "nbformat_minor": 2
}
