{
 "cells": [
  {
   "cell_type": "markdown",
   "metadata": {},
   "source": [
    "## Prediction heatmaps\n",
    "The gold standard & different models are the columns, and the words in the gold standard are the rows. Here, I'll experiment with different groupsings of the rows to help visualize what, if any, the differences are in the types of entities that the models tend to predict."
   ]
  },
  {
   "cell_type": "markdown",
   "metadata": {},
   "source": [
    "I'll make separate plots for unigrams, bigrams, and trigrams."
   ]
  },
  {
   "cell_type": "code",
   "execution_count": 47,
   "metadata": {},
   "outputs": [],
   "source": [
    "import matplotlib.pyplot as plt\n",
    "%matplotlib inline\n",
    "import seaborn as sns"
   ]
  },
  {
   "cell_type": "code",
   "execution_count": 21,
   "metadata": {},
   "outputs": [],
   "source": [
    "import jsonlines\n",
    "import pandas as pd\n",
    "import numpy as np"
   ]
  },
  {
   "cell_type": "code",
   "execution_count": 3,
   "metadata": {},
   "outputs": [],
   "source": [
    "data = {'gold_std':'../data/straying_off_topic_data/unified_annotations_processed/jsonl_files/all_gold_standard_abstracts_GOLD_STD_10Jan2022.jsonl',\n",
    "       'dygiepp_ace05':'../data/straying_off_topic_data/dygiepp/pretrained_output/lightweight/ace05/all_gold_standard_abstracts_10Jan2022_ace05_predictions.jsonl',\n",
    "       'dygiepp_scierc_light':'../data/straying_off_topic_data/dygiepp/pretrained_output/lightweight/scierc-light/all_gold_standard_abstracts_10Jan2022_scierc-light_predictions.jsonl',\n",
    "       'dygiepp_genia_light':'../data/straying_off_topic_data/dygiepp/pretrained_output/lightweight/genia-light/all_gold_standard_abstracts_10Jan2022_genia-light_predictions.jsonl',\n",
    "       'dygiepp_genia':'../data/straying_off_topic_data/dygiepp/pretrained_output/withCoref/genia/all_gold_standard_abstracts_10Jan2022_genia_predictions.jsonl',\n",
    "       'dygiepp_scierc':'../data/straying_off_topic_data/dygiepp/pretrained_output/withCoref/scierc/all_gold_standard_abstracts_10Jan2022_scierc_predictions.jsonl',\n",
    "       'phrasematched_plain':'../data/straying_off_topic_data/model_output/keyword_match/phrasematch_plain/all_gold_10Jan2022_phrasematched_plain_dygiepp_format.jsonl',\n",
    "       'phrasematched_refined':'../data/straying_off_topic_data/model_output/keyword_match/phrasematch_refined/all_gold_10Jan2022_phrasematched_refined_dygiepp_format.jsonl',\n",
    "       'pure_ace05':'../data/straying_off_topic_data/model_output/pure/ace05/ent-alb-ctx100/ace05_ent_pred_dev.json',\n",
    "       'pure_scierc':'../data/straying_off_topic_data/model_output/pure/scierc/ent-scib-ctx300/scierc_ent_pred_dev.json'}"
   ]
  },
  {
   "cell_type": "markdown",
   "metadata": {},
   "source": [
    "First, need to affirm that the documents in all prediction sets are in the same order:"
   ]
  },
  {
   "cell_type": "code",
   "execution_count": 11,
   "metadata": {},
   "outputs": [],
   "source": [
    "# Read in all datasets\n",
    "for name, filepath in data.items():\n",
    "    contents = []\n",
    "    with jsonlines.open(filepath) as reader:\n",
    "        for obj in reader:\n",
    "            contents.append(obj)\n",
    "    data[name] = contents"
   ]
  },
  {
   "cell_type": "code",
   "execution_count": 14,
   "metadata": {},
   "outputs": [],
   "source": [
    "# Reorder based on value of \"doc_key\" so they're all in the same order\n",
    "for name, dataset in data.items():\n",
    "    sorted_dataset = sorted(dataset, key=lambda d: d['doc_key'])\n",
    "    data[name] = sorted_dataset"
   ]
  },
  {
   "cell_type": "code",
   "execution_count": 15,
   "metadata": {},
   "outputs": [
    {
     "name": "stdout",
     "output_type": "stream",
     "text": [
      "PMID1161793_abstract\n",
      "PMID1161793_abstract\n",
      "PMID1161793_abstract\n",
      "PMID1161793_abstract\n",
      "PMID1161793_abstract\n",
      "PMID1161793_abstract\n",
      "PMID1161793_abstract\n",
      "PMID1161793_abstract\n",
      "PMID1161793_abstract\n",
      "PMID1161793_abstract\n"
     ]
    }
   ],
   "source": [
    "# Check that it worked\n",
    "for name, dataset in data.items():\n",
    "    print(dataset[0]['doc_key'])"
   ]
  },
  {
   "cell_type": "markdown",
   "metadata": {},
   "source": [
    "Get a list of words to be the y-axis:"
   ]
  },
  {
   "cell_type": "code",
   "execution_count": 16,
   "metadata": {},
   "outputs": [],
   "source": [
    "words = [] \n",
    "words_per_doc = [] # Each internal list is a document\n",
    "for d in data['gold_std']:\n",
    "    for sent in d['sentences']:\n",
    "        doc_words = []\n",
    "        for word in sent:\n",
    "            words.append(word)\n",
    "            doc_words.append(word)\n",
    "        words_per_doc.append(doc_words)"
   ]
  },
  {
   "cell_type": "code",
   "execution_count": 17,
   "metadata": {},
   "outputs": [
    {
     "data": {
      "text/plain": [
       "14240"
      ]
     },
     "execution_count": 17,
     "metadata": {},
     "output_type": "execute_result"
    }
   ],
   "source": [
    "len(words)"
   ]
  },
  {
   "cell_type": "markdown",
   "metadata": {},
   "source": [
    "Now, we have to get which words are annotated for each model. Writing a function to accomplish this:"
   ]
  },
  {
   "cell_type": "code",
   "execution_count": 28,
   "metadata": {},
   "outputs": [],
   "source": [
    "def get_annotated_words(words, words_per_doc, model_output, gram_len, pred):\n",
    "    \"\"\"\n",
    "    Get the column for a model for a heatmap.\n",
    "    \n",
    "    parameters:\n",
    "    words, list of str: One list of all words in corpus\n",
    "        words_per_doc, nested list: Each internal list is the words for one doc\n",
    "        model_output, list of dict: The json dicts for the models' predictions\n",
    "        gram_len, int between 1-3: what number of n-gram to check\n",
    "        pred, bool: True if there are predictions, False if it's the gold standard\n",
    "        \n",
    "    returns: \n",
    "        annotations, list: values are 0 if the word was not annotated, 1 if it was\n",
    "    \"\"\"\n",
    "    # Initialize an array for annotations\n",
    "    annotations = np.zeros((len(words)))\n",
    "    \n",
    "    if pred:\n",
    "        key = 'predicted_ner'\n",
    "    else:\n",
    "        key = 'ner'\n",
    "    \n",
    "    prev_words = 0\n",
    "    for wordlist, doc_json in zip(words_per_doc, model_output):\n",
    "        for sent in doc_json[key]:\n",
    "            for anno in sent:\n",
    "                if gram_len == 1:\n",
    "                    if anno[0] == anno[1]:\n",
    "                        annotated_idx = prev_words + anno[0]\n",
    "                        annotations[annotated_idx] = 1.0\n",
    "                if gram_len == 2:\n",
    "                    if anno[0] == anno[1]-1:\n",
    "                        annotated_idx_start = prev_words + anno[0]\n",
    "                        annotated_idx_end = annotated_idx_start + 2\n",
    "                        annotations[annotated_idx_start:annotated_idx_end] = 1.0\n",
    "                if gram_len == 3:\n",
    "                    if anno[0] == anno[1]-2:\n",
    "                        annotated_idx_start = prev_words + anno[0]\n",
    "                        annotated_idx_end = annotated_idx_start + 3\n",
    "                        annotations[annotated_idx_start:annotated_idx_end] = 1.0\n",
    "        prev_words += len(wordlist)-1\n",
    "                        \n",
    "    return list(annotations)"
   ]
  },
  {
   "cell_type": "code",
   "execution_count": 24,
   "metadata": {},
   "outputs": [],
   "source": [
    "# Quick test\n",
    "test_words = ['hello', 'world', 'I', 'am', 'Sparty']\n",
    "test_words_per_doc = [['hello', 'world'], ['I', 'am', 'Sparty']]\n",
    "test_model_output = [{'predicted_ner':[[[0, 0], [0, 1]],[[2,4]]]}]"
   ]
  },
  {
   "cell_type": "code",
   "execution_count": 29,
   "metadata": {},
   "outputs": [
    {
     "data": {
      "text/plain": [
       "[1.0, 0.0, 0.0, 0.0, 0.0]"
      ]
     },
     "execution_count": 29,
     "metadata": {},
     "output_type": "execute_result"
    }
   ],
   "source": [
    "get_annotated_words(test_words, test_words_per_doc, test_model_output, 1, True)"
   ]
  },
  {
   "cell_type": "code",
   "execution_count": 30,
   "metadata": {},
   "outputs": [
    {
     "data": {
      "text/plain": [
       "[1.0, 1.0, 0.0, 0.0, 0.0]"
      ]
     },
     "execution_count": 30,
     "metadata": {},
     "output_type": "execute_result"
    }
   ],
   "source": [
    "get_annotated_words(test_words, test_words_per_doc, test_model_output, 2, True)"
   ]
  },
  {
   "cell_type": "code",
   "execution_count": 31,
   "metadata": {},
   "outputs": [
    {
     "data": {
      "text/plain": [
       "[0.0, 0.0, 1.0, 1.0, 1.0]"
      ]
     },
     "execution_count": 31,
     "metadata": {},
     "output_type": "execute_result"
    }
   ],
   "source": [
    "get_annotated_words(test_words, test_words_per_doc, test_model_output, 3, True)"
   ]
  },
  {
   "cell_type": "markdown",
   "metadata": {},
   "source": [
    "Passed the test! Now do it for real data:"
   ]
  },
  {
   "cell_type": "code",
   "execution_count": 38,
   "metadata": {},
   "outputs": [],
   "source": [
    "unigram_cols = {}\n",
    "for name, dataset in data.items():\n",
    "    if name == 'gold_std':\n",
    "        col = get_annotated_words(words, words_per_doc, dataset, 1, False)\n",
    "        unigram_cols[name] = col\n",
    "    else:\n",
    "        col = get_annotated_words(words, words_per_doc, dataset, 1, True)\n",
    "        unigram_cols[name] = col"
   ]
  },
  {
   "cell_type": "code",
   "execution_count": 39,
   "metadata": {},
   "outputs": [],
   "source": [
    "bigram_cols = {}\n",
    "for name, dataset in data.items():\n",
    "    if name == 'gold_std':\n",
    "        col = get_annotated_words(words, words_per_doc, dataset, 2, False)\n",
    "        bigram_cols[name] = col\n",
    "    else:\n",
    "        col = get_annotated_words(words, words_per_doc, dataset, 2, True)\n",
    "        bigram_cols[name] = col"
   ]
  },
  {
   "cell_type": "code",
   "execution_count": 40,
   "metadata": {},
   "outputs": [],
   "source": [
    "trigram_cols = {}\n",
    "for name, dataset in data.items():\n",
    "    if name == 'gold_std':\n",
    "        col = get_annotated_words(words, words_per_doc, dataset, 3, False)\n",
    "        trigram_cols[name] = col\n",
    "    else:\n",
    "        col = get_annotated_words(words, words_per_doc, dataset, 3, True)\n",
    "        trigram_cols[name] = col"
   ]
  },
  {
   "cell_type": "markdown",
   "metadata": {},
   "source": [
    "Make dataframes:"
   ]
  },
  {
   "cell_type": "code",
   "execution_count": 41,
   "metadata": {},
   "outputs": [
    {
     "data": {
      "text/html": [
       "<div>\n",
       "<style scoped>\n",
       "    .dataframe tbody tr th:only-of-type {\n",
       "        vertical-align: middle;\n",
       "    }\n",
       "\n",
       "    .dataframe tbody tr th {\n",
       "        vertical-align: top;\n",
       "    }\n",
       "\n",
       "    .dataframe thead th {\n",
       "        text-align: right;\n",
       "    }\n",
       "</style>\n",
       "<table border=\"1\" class=\"dataframe\">\n",
       "  <thead>\n",
       "    <tr style=\"text-align: right;\">\n",
       "      <th></th>\n",
       "      <th>gold_std</th>\n",
       "      <th>dygiepp_ace05</th>\n",
       "      <th>dygiepp_scierc_light</th>\n",
       "      <th>dygiepp_genia_light</th>\n",
       "      <th>dygiepp_genia</th>\n",
       "      <th>dygiepp_scierc</th>\n",
       "      <th>phrasematched_plain</th>\n",
       "      <th>phrasematched_refined</th>\n",
       "      <th>pure_ace05</th>\n",
       "      <th>pure_scierc</th>\n",
       "    </tr>\n",
       "  </thead>\n",
       "  <tbody>\n",
       "    <tr>\n",
       "      <th>Solanum</th>\n",
       "      <td>0.0</td>\n",
       "      <td>0.0</td>\n",
       "      <td>0.0</td>\n",
       "      <td>0.0</td>\n",
       "      <td>0.0</td>\n",
       "      <td>0.0</td>\n",
       "      <td>0.0</td>\n",
       "      <td>0.0</td>\n",
       "      <td>0.0</td>\n",
       "      <td>0.0</td>\n",
       "    </tr>\n",
       "    <tr>\n",
       "      <th>laciniatum</th>\n",
       "      <td>0.0</td>\n",
       "      <td>0.0</td>\n",
       "      <td>0.0</td>\n",
       "      <td>0.0</td>\n",
       "      <td>0.0</td>\n",
       "      <td>0.0</td>\n",
       "      <td>0.0</td>\n",
       "      <td>0.0</td>\n",
       "      <td>0.0</td>\n",
       "      <td>0.0</td>\n",
       "    </tr>\n",
       "    <tr>\n",
       "      <th>Aiton</th>\n",
       "      <td>0.0</td>\n",
       "      <td>0.0</td>\n",
       "      <td>0.0</td>\n",
       "      <td>0.0</td>\n",
       "      <td>0.0</td>\n",
       "      <td>0.0</td>\n",
       "      <td>0.0</td>\n",
       "      <td>0.0</td>\n",
       "      <td>0.0</td>\n",
       "      <td>0.0</td>\n",
       "    </tr>\n",
       "    <tr>\n",
       "      <th>treated</th>\n",
       "      <td>0.0</td>\n",
       "      <td>0.0</td>\n",
       "      <td>0.0</td>\n",
       "      <td>0.0</td>\n",
       "      <td>0.0</td>\n",
       "      <td>0.0</td>\n",
       "      <td>0.0</td>\n",
       "      <td>0.0</td>\n",
       "      <td>0.0</td>\n",
       "      <td>0.0</td>\n",
       "    </tr>\n",
       "    <tr>\n",
       "      <th>with</th>\n",
       "      <td>0.0</td>\n",
       "      <td>0.0</td>\n",
       "      <td>0.0</td>\n",
       "      <td>0.0</td>\n",
       "      <td>0.0</td>\n",
       "      <td>0.0</td>\n",
       "      <td>0.0</td>\n",
       "      <td>0.0</td>\n",
       "      <td>0.0</td>\n",
       "      <td>0.0</td>\n",
       "    </tr>\n",
       "  </tbody>\n",
       "</table>\n",
       "</div>"
      ],
      "text/plain": [
       "            gold_std  dygiepp_ace05  dygiepp_scierc_light  \\\n",
       "Solanum          0.0            0.0                   0.0   \n",
       "laciniatum       0.0            0.0                   0.0   \n",
       "Aiton            0.0            0.0                   0.0   \n",
       "treated          0.0            0.0                   0.0   \n",
       "with             0.0            0.0                   0.0   \n",
       "\n",
       "            dygiepp_genia_light  dygiepp_genia  dygiepp_scierc  \\\n",
       "Solanum                     0.0            0.0             0.0   \n",
       "laciniatum                  0.0            0.0             0.0   \n",
       "Aiton                       0.0            0.0             0.0   \n",
       "treated                     0.0            0.0             0.0   \n",
       "with                        0.0            0.0             0.0   \n",
       "\n",
       "            phrasematched_plain  phrasematched_refined  pure_ace05  \\\n",
       "Solanum                     0.0                    0.0         0.0   \n",
       "laciniatum                  0.0                    0.0         0.0   \n",
       "Aiton                       0.0                    0.0         0.0   \n",
       "treated                     0.0                    0.0         0.0   \n",
       "with                        0.0                    0.0         0.0   \n",
       "\n",
       "            pure_scierc  \n",
       "Solanum             0.0  \n",
       "laciniatum          0.0  \n",
       "Aiton               0.0  \n",
       "treated             0.0  \n",
       "with                0.0  "
      ]
     },
     "execution_count": 41,
     "metadata": {},
     "output_type": "execute_result"
    }
   ],
   "source": [
    "unigram_map = pd.DataFrame(unigram_cols, index=words)\n",
    "unigram_map.head()"
   ]
  },
  {
   "cell_type": "code",
   "execution_count": 44,
   "metadata": {},
   "outputs": [
    {
     "data": {
      "text/html": [
       "<div>\n",
       "<style scoped>\n",
       "    .dataframe tbody tr th:only-of-type {\n",
       "        vertical-align: middle;\n",
       "    }\n",
       "\n",
       "    .dataframe tbody tr th {\n",
       "        vertical-align: top;\n",
       "    }\n",
       "\n",
       "    .dataframe thead th {\n",
       "        text-align: right;\n",
       "    }\n",
       "</style>\n",
       "<table border=\"1\" class=\"dataframe\">\n",
       "  <thead>\n",
       "    <tr style=\"text-align: right;\">\n",
       "      <th></th>\n",
       "      <th>gold_std</th>\n",
       "      <th>dygiepp_ace05</th>\n",
       "      <th>dygiepp_scierc_light</th>\n",
       "      <th>dygiepp_genia_light</th>\n",
       "      <th>dygiepp_genia</th>\n",
       "      <th>dygiepp_scierc</th>\n",
       "      <th>phrasematched_plain</th>\n",
       "      <th>phrasematched_refined</th>\n",
       "      <th>pure_ace05</th>\n",
       "      <th>pure_scierc</th>\n",
       "    </tr>\n",
       "  </thead>\n",
       "  <tbody>\n",
       "    <tr>\n",
       "      <th>Solanum</th>\n",
       "      <td>0.0</td>\n",
       "      <td>0.0</td>\n",
       "      <td>0.0</td>\n",
       "      <td>0.0</td>\n",
       "      <td>0.0</td>\n",
       "      <td>0.0</td>\n",
       "      <td>0.0</td>\n",
       "      <td>0.0</td>\n",
       "      <td>0.0</td>\n",
       "      <td>0.0</td>\n",
       "    </tr>\n",
       "    <tr>\n",
       "      <th>laciniatum</th>\n",
       "      <td>0.0</td>\n",
       "      <td>0.0</td>\n",
       "      <td>0.0</td>\n",
       "      <td>0.0</td>\n",
       "      <td>0.0</td>\n",
       "      <td>0.0</td>\n",
       "      <td>0.0</td>\n",
       "      <td>0.0</td>\n",
       "      <td>0.0</td>\n",
       "      <td>0.0</td>\n",
       "    </tr>\n",
       "    <tr>\n",
       "      <th>Aiton</th>\n",
       "      <td>0.0</td>\n",
       "      <td>0.0</td>\n",
       "      <td>0.0</td>\n",
       "      <td>0.0</td>\n",
       "      <td>0.0</td>\n",
       "      <td>0.0</td>\n",
       "      <td>0.0</td>\n",
       "      <td>0.0</td>\n",
       "      <td>0.0</td>\n",
       "      <td>0.0</td>\n",
       "    </tr>\n",
       "    <tr>\n",
       "      <th>treated</th>\n",
       "      <td>0.0</td>\n",
       "      <td>0.0</td>\n",
       "      <td>0.0</td>\n",
       "      <td>0.0</td>\n",
       "      <td>0.0</td>\n",
       "      <td>0.0</td>\n",
       "      <td>0.0</td>\n",
       "      <td>0.0</td>\n",
       "      <td>0.0</td>\n",
       "      <td>0.0</td>\n",
       "    </tr>\n",
       "    <tr>\n",
       "      <th>with</th>\n",
       "      <td>0.0</td>\n",
       "      <td>0.0</td>\n",
       "      <td>0.0</td>\n",
       "      <td>0.0</td>\n",
       "      <td>0.0</td>\n",
       "      <td>0.0</td>\n",
       "      <td>0.0</td>\n",
       "      <td>0.0</td>\n",
       "      <td>0.0</td>\n",
       "      <td>0.0</td>\n",
       "    </tr>\n",
       "  </tbody>\n",
       "</table>\n",
       "</div>"
      ],
      "text/plain": [
       "            gold_std  dygiepp_ace05  dygiepp_scierc_light  \\\n",
       "Solanum          0.0            0.0                   0.0   \n",
       "laciniatum       0.0            0.0                   0.0   \n",
       "Aiton            0.0            0.0                   0.0   \n",
       "treated          0.0            0.0                   0.0   \n",
       "with             0.0            0.0                   0.0   \n",
       "\n",
       "            dygiepp_genia_light  dygiepp_genia  dygiepp_scierc  \\\n",
       "Solanum                     0.0            0.0             0.0   \n",
       "laciniatum                  0.0            0.0             0.0   \n",
       "Aiton                       0.0            0.0             0.0   \n",
       "treated                     0.0            0.0             0.0   \n",
       "with                        0.0            0.0             0.0   \n",
       "\n",
       "            phrasematched_plain  phrasematched_refined  pure_ace05  \\\n",
       "Solanum                     0.0                    0.0         0.0   \n",
       "laciniatum                  0.0                    0.0         0.0   \n",
       "Aiton                       0.0                    0.0         0.0   \n",
       "treated                     0.0                    0.0         0.0   \n",
       "with                        0.0                    0.0         0.0   \n",
       "\n",
       "            pure_scierc  \n",
       "Solanum             0.0  \n",
       "laciniatum          0.0  \n",
       "Aiton               0.0  \n",
       "treated             0.0  \n",
       "with                0.0  "
      ]
     },
     "execution_count": 44,
     "metadata": {},
     "output_type": "execute_result"
    }
   ],
   "source": [
    "bigram_map = pd.DataFrame(bigram_cols, index=words)\n",
    "bigram_map.head()"
   ]
  },
  {
   "cell_type": "code",
   "execution_count": 45,
   "metadata": {},
   "outputs": [
    {
     "data": {
      "text/html": [
       "<div>\n",
       "<style scoped>\n",
       "    .dataframe tbody tr th:only-of-type {\n",
       "        vertical-align: middle;\n",
       "    }\n",
       "\n",
       "    .dataframe tbody tr th {\n",
       "        vertical-align: top;\n",
       "    }\n",
       "\n",
       "    .dataframe thead th {\n",
       "        text-align: right;\n",
       "    }\n",
       "</style>\n",
       "<table border=\"1\" class=\"dataframe\">\n",
       "  <thead>\n",
       "    <tr style=\"text-align: right;\">\n",
       "      <th></th>\n",
       "      <th>gold_std</th>\n",
       "      <th>dygiepp_ace05</th>\n",
       "      <th>dygiepp_scierc_light</th>\n",
       "      <th>dygiepp_genia_light</th>\n",
       "      <th>dygiepp_genia</th>\n",
       "      <th>dygiepp_scierc</th>\n",
       "      <th>phrasematched_plain</th>\n",
       "      <th>phrasematched_refined</th>\n",
       "      <th>pure_ace05</th>\n",
       "      <th>pure_scierc</th>\n",
       "    </tr>\n",
       "  </thead>\n",
       "  <tbody>\n",
       "    <tr>\n",
       "      <th>Solanum</th>\n",
       "      <td>1.0</td>\n",
       "      <td>1.0</td>\n",
       "      <td>0.0</td>\n",
       "      <td>0.0</td>\n",
       "      <td>0.0</td>\n",
       "      <td>0.0</td>\n",
       "      <td>0.0</td>\n",
       "      <td>0.0</td>\n",
       "      <td>0.0</td>\n",
       "      <td>0.0</td>\n",
       "    </tr>\n",
       "    <tr>\n",
       "      <th>laciniatum</th>\n",
       "      <td>1.0</td>\n",
       "      <td>1.0</td>\n",
       "      <td>0.0</td>\n",
       "      <td>0.0</td>\n",
       "      <td>0.0</td>\n",
       "      <td>0.0</td>\n",
       "      <td>0.0</td>\n",
       "      <td>0.0</td>\n",
       "      <td>0.0</td>\n",
       "      <td>0.0</td>\n",
       "    </tr>\n",
       "    <tr>\n",
       "      <th>Aiton</th>\n",
       "      <td>1.0</td>\n",
       "      <td>1.0</td>\n",
       "      <td>0.0</td>\n",
       "      <td>0.0</td>\n",
       "      <td>0.0</td>\n",
       "      <td>0.0</td>\n",
       "      <td>0.0</td>\n",
       "      <td>0.0</td>\n",
       "      <td>0.0</td>\n",
       "      <td>0.0</td>\n",
       "    </tr>\n",
       "    <tr>\n",
       "      <th>treated</th>\n",
       "      <td>0.0</td>\n",
       "      <td>0.0</td>\n",
       "      <td>0.0</td>\n",
       "      <td>0.0</td>\n",
       "      <td>0.0</td>\n",
       "      <td>0.0</td>\n",
       "      <td>0.0</td>\n",
       "      <td>0.0</td>\n",
       "      <td>0.0</td>\n",
       "      <td>0.0</td>\n",
       "    </tr>\n",
       "    <tr>\n",
       "      <th>with</th>\n",
       "      <td>0.0</td>\n",
       "      <td>0.0</td>\n",
       "      <td>0.0</td>\n",
       "      <td>0.0</td>\n",
       "      <td>0.0</td>\n",
       "      <td>0.0</td>\n",
       "      <td>0.0</td>\n",
       "      <td>0.0</td>\n",
       "      <td>0.0</td>\n",
       "      <td>0.0</td>\n",
       "    </tr>\n",
       "  </tbody>\n",
       "</table>\n",
       "</div>"
      ],
      "text/plain": [
       "            gold_std  dygiepp_ace05  dygiepp_scierc_light  \\\n",
       "Solanum          1.0            1.0                   0.0   \n",
       "laciniatum       1.0            1.0                   0.0   \n",
       "Aiton            1.0            1.0                   0.0   \n",
       "treated          0.0            0.0                   0.0   \n",
       "with             0.0            0.0                   0.0   \n",
       "\n",
       "            dygiepp_genia_light  dygiepp_genia  dygiepp_scierc  \\\n",
       "Solanum                     0.0            0.0             0.0   \n",
       "laciniatum                  0.0            0.0             0.0   \n",
       "Aiton                       0.0            0.0             0.0   \n",
       "treated                     0.0            0.0             0.0   \n",
       "with                        0.0            0.0             0.0   \n",
       "\n",
       "            phrasematched_plain  phrasematched_refined  pure_ace05  \\\n",
       "Solanum                     0.0                    0.0         0.0   \n",
       "laciniatum                  0.0                    0.0         0.0   \n",
       "Aiton                       0.0                    0.0         0.0   \n",
       "treated                     0.0                    0.0         0.0   \n",
       "with                        0.0                    0.0         0.0   \n",
       "\n",
       "            pure_scierc  \n",
       "Solanum             0.0  \n",
       "laciniatum          0.0  \n",
       "Aiton               0.0  \n",
       "treated             0.0  \n",
       "with                0.0  "
      ]
     },
     "execution_count": 45,
     "metadata": {},
     "output_type": "execute_result"
    }
   ],
   "source": [
    "trigram_map = pd.DataFrame(trigram_cols, index=words)\n",
    "trigram_map.head()"
   ]
  },
  {
   "cell_type": "markdown",
   "metadata": {},
   "source": [
    "Now make heatmaps from these dataframes:"
   ]
  },
  {
   "cell_type": "code",
   "execution_count": 48,
   "metadata": {},
   "outputs": [
    {
     "data": {
      "image/png": "[encoded data removed]",
      "text/plain": [
       "<Figure size 432x288 with 2 Axes>"
      ]
     },
     "metadata": {
      "needs_background": "light"
     },
     "output_type": "display_data"
    }
   ],
   "source": [
    "ax = sns.heatmap(unigram_map)"
   ]
  },
  {
   "cell_type": "code",
   "execution_count": 49,
   "metadata": {},
   "outputs": [
    {
     "data": {
      "image/png": "[encoded data removed]",
      "text/plain": [
       "<Figure size 432x288 with 2 Axes>"
      ]
     },
     "metadata": {
      "needs_background": "light"
     },
     "output_type": "display_data"
    }
   ],
   "source": [
    "ax = sns.heatmap(bigram_map)"
   ]
  },
  {
   "cell_type": "code",
   "execution_count": 50,
   "metadata": {},
   "outputs": [
    {
     "data": {
      "image/png": "[encoded data removed]",
      "text/plain": [
       "<Figure size 432x288 with 2 Axes>"
      ]
     },
     "metadata": {
      "needs_background": "light"
     },
     "output_type": "display_data"
    }
   ],
   "source": [
    "ax = sns.heatmap(trigram_map)"
   ]
  }
 ],
 "metadata": {
  "kernelspec": {
   "display_name": "dygiepp",
   "language": "python",
   "name": "dygiepp"
  },
  "language_info": {
   "codemirror_mode": {
    "name": "ipython",
    "version": 3
   },
   "file_extension": ".py",
   "mimetype": "text/x-python",
   "name": "python",
   "nbconvert_exporter": "python",
   "pygments_lexer": "ipython3",
   "version": "3.7.11"
  }
 },
 "nbformat": 4,
 "nbformat_minor": 2
}
