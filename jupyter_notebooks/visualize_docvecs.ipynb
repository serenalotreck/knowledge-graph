{
 "cells": [
  {
   "cell_type": "markdown",
   "metadata": {},
   "source": [
    "# Visualizing document vector clusters\n",
    "____________________________________\n",
    "This code generates graphs of the document vectors made by doc2vec.py, to determine if the clustering pattern observed with mean-shift clustering (almost all abstracts in one cluster and only 1 or 2 in all other clusters) is reflective of the underlying pattern of the data, or if it reflects a silent error in the clustering code."
   ]
  },
  {
   "cell_type": "markdown",
   "metadata": {},
   "source": [
    "## Dimensionality reduction\n",
    "Given that the document vectors are 50-dimensional, we need to perform some kind of dimensionality reduction on the data before plotting. Here, we're going to use both [tSNE](https://yinsenm.github.io/2015/01/01/High-Dimensional-Data-Visualizing-using-tSNE/) and PCA, and compare the results."
   ]
  },
  {
   "cell_type": "code",
   "execution_count": 2,
   "metadata": {},
   "outputs": [],
   "source": [
    "# Import packages\n",
    "from sklearn.manifold import TSNE\n",
    "from sklearn.decomposition import PCA\n",
    "import pandas as pd\n",
    "import numpy as np \n",
    "\n",
    "from matplotlib import pyplot as plt\n",
    "%matplotlib inline"
   ]
  },
  {
   "cell_type": "code",
   "execution_count": 3,
   "metadata": {},
   "outputs": [
    {
     "data": {
      "text/html": [
       "<div>\n",
       "<style scoped>\n",
       "    .dataframe tbody tr th:only-of-type {\n",
       "        vertical-align: middle;\n",
       "    }\n",
       "\n",
       "    .dataframe tbody tr th {\n",
       "        vertical-align: top;\n",
       "    }\n",
       "\n",
       "    .dataframe thead th {\n",
       "        text-align: right;\n",
       "    }\n",
       "</style>\n",
       "<table border=\"1\" class=\"dataframe\">\n",
       "  <thead>\n",
       "    <tr style=\"text-align: right;\">\n",
       "      <th></th>\n",
       "      <th>vector_dim0</th>\n",
       "      <th>vector_dim1</th>\n",
       "      <th>vector_dim2</th>\n",
       "      <th>vector_dim3</th>\n",
       "      <th>vector_dim4</th>\n",
       "      <th>vector_dim5</th>\n",
       "      <th>vector_dim6</th>\n",
       "      <th>vector_dim7</th>\n",
       "      <th>vector_dim8</th>\n",
       "      <th>vector_dim9</th>\n",
       "      <th>...</th>\n",
       "      <th>vector_dim40</th>\n",
       "      <th>vector_dim41</th>\n",
       "      <th>vector_dim42</th>\n",
       "      <th>vector_dim43</th>\n",
       "      <th>vector_dim44</th>\n",
       "      <th>vector_dim45</th>\n",
       "      <th>vector_dim46</th>\n",
       "      <th>vector_dim47</th>\n",
       "      <th>vector_dim48</th>\n",
       "      <th>vector_dim49</th>\n",
       "    </tr>\n",
       "  </thead>\n",
       "  <tbody>\n",
       "    <tr>\n",
       "      <th>PMID18402723_abstract.txt</th>\n",
       "      <td>-0.129086</td>\n",
       "      <td>0.650693</td>\n",
       "      <td>-0.088430</td>\n",
       "      <td>-0.065803</td>\n",
       "      <td>-1.001440</td>\n",
       "      <td>-0.112901</td>\n",
       "      <td>0.060875</td>\n",
       "      <td>1.340077</td>\n",
       "      <td>-0.859160</td>\n",
       "      <td>-0.441170</td>\n",
       "      <td>...</td>\n",
       "      <td>1.019848</td>\n",
       "      <td>-0.137158</td>\n",
       "      <td>0.686309</td>\n",
       "      <td>-0.231976</td>\n",
       "      <td>0.976090</td>\n",
       "      <td>0.613285</td>\n",
       "      <td>-0.070006</td>\n",
       "      <td>-0.220025</td>\n",
       "      <td>0.051589</td>\n",
       "      <td>0.261808</td>\n",
       "    </tr>\n",
       "    <tr>\n",
       "      <th>PMID19214562_abstract.txt</th>\n",
       "      <td>-0.456743</td>\n",
       "      <td>-0.118816</td>\n",
       "      <td>0.415290</td>\n",
       "      <td>0.623608</td>\n",
       "      <td>0.533538</td>\n",
       "      <td>-0.410313</td>\n",
       "      <td>0.865479</td>\n",
       "      <td>0.266716</td>\n",
       "      <td>-0.511132</td>\n",
       "      <td>-0.395730</td>\n",
       "      <td>...</td>\n",
       "      <td>0.647158</td>\n",
       "      <td>0.102877</td>\n",
       "      <td>0.141661</td>\n",
       "      <td>-0.368813</td>\n",
       "      <td>0.814127</td>\n",
       "      <td>0.129849</td>\n",
       "      <td>-0.016899</td>\n",
       "      <td>0.496250</td>\n",
       "      <td>0.171736</td>\n",
       "      <td>0.018547</td>\n",
       "    </tr>\n",
       "    <tr>\n",
       "      <th>PMID30176884_abstract.txt</th>\n",
       "      <td>0.232214</td>\n",
       "      <td>1.241996</td>\n",
       "      <td>1.385572</td>\n",
       "      <td>0.097348</td>\n",
       "      <td>-0.477107</td>\n",
       "      <td>0.799544</td>\n",
       "      <td>0.320565</td>\n",
       "      <td>1.024906</td>\n",
       "      <td>-1.740750</td>\n",
       "      <td>-0.018401</td>\n",
       "      <td>...</td>\n",
       "      <td>0.032785</td>\n",
       "      <td>-0.142508</td>\n",
       "      <td>-0.293224</td>\n",
       "      <td>-1.693219</td>\n",
       "      <td>1.352372</td>\n",
       "      <td>0.917716</td>\n",
       "      <td>1.649895</td>\n",
       "      <td>-0.091840</td>\n",
       "      <td>0.480721</td>\n",
       "      <td>-0.952170</td>\n",
       "    </tr>\n",
       "    <tr>\n",
       "      <th>PMID20854394_abstract.txt</th>\n",
       "      <td>-1.018279</td>\n",
       "      <td>-0.503299</td>\n",
       "      <td>0.446571</td>\n",
       "      <td>0.017640</td>\n",
       "      <td>-1.738541</td>\n",
       "      <td>-0.089328</td>\n",
       "      <td>0.975067</td>\n",
       "      <td>0.653705</td>\n",
       "      <td>-0.927264</td>\n",
       "      <td>0.094875</td>\n",
       "      <td>...</td>\n",
       "      <td>1.081211</td>\n",
       "      <td>0.791300</td>\n",
       "      <td>0.886624</td>\n",
       "      <td>-0.775268</td>\n",
       "      <td>0.874677</td>\n",
       "      <td>-0.087801</td>\n",
       "      <td>-1.110482</td>\n",
       "      <td>-1.229061</td>\n",
       "      <td>0.066304</td>\n",
       "      <td>0.698181</td>\n",
       "    </tr>\n",
       "    <tr>\n",
       "      <th>PMID30076223_abstract.txt</th>\n",
       "      <td>-0.280104</td>\n",
       "      <td>0.183829</td>\n",
       "      <td>-0.926360</td>\n",
       "      <td>-0.016239</td>\n",
       "      <td>-0.596970</td>\n",
       "      <td>-0.006804</td>\n",
       "      <td>0.992842</td>\n",
       "      <td>0.242217</td>\n",
       "      <td>0.345840</td>\n",
       "      <td>-0.704596</td>\n",
       "      <td>...</td>\n",
       "      <td>1.017986</td>\n",
       "      <td>1.645920</td>\n",
       "      <td>-0.074721</td>\n",
       "      <td>-0.835617</td>\n",
       "      <td>1.832034</td>\n",
       "      <td>0.818003</td>\n",
       "      <td>-0.348022</td>\n",
       "      <td>0.288649</td>\n",
       "      <td>0.443054</td>\n",
       "      <td>0.271817</td>\n",
       "    </tr>\n",
       "  </tbody>\n",
       "</table>\n",
       "<p>5 rows × 50 columns</p>\n",
       "</div>"
      ],
      "text/plain": [
       "                           vector_dim0  vector_dim1  vector_dim2  vector_dim3  \\\n",
       "PMID18402723_abstract.txt    -0.129086     0.650693    -0.088430    -0.065803   \n",
       "PMID19214562_abstract.txt    -0.456743    -0.118816     0.415290     0.623608   \n",
       "PMID30176884_abstract.txt     0.232214     1.241996     1.385572     0.097348   \n",
       "PMID20854394_abstract.txt    -1.018279    -0.503299     0.446571     0.017640   \n",
       "PMID30076223_abstract.txt    -0.280104     0.183829    -0.926360    -0.016239   \n",
       "\n",
       "                           vector_dim4  vector_dim5  vector_dim6  vector_dim7  \\\n",
       "PMID18402723_abstract.txt    -1.001440    -0.112901     0.060875     1.340077   \n",
       "PMID19214562_abstract.txt     0.533538    -0.410313     0.865479     0.266716   \n",
       "PMID30176884_abstract.txt    -0.477107     0.799544     0.320565     1.024906   \n",
       "PMID20854394_abstract.txt    -1.738541    -0.089328     0.975067     0.653705   \n",
       "PMID30076223_abstract.txt    -0.596970    -0.006804     0.992842     0.242217   \n",
       "\n",
       "                           vector_dim8  vector_dim9  ...  vector_dim40  \\\n",
       "PMID18402723_abstract.txt    -0.859160    -0.441170  ...      1.019848   \n",
       "PMID19214562_abstract.txt    -0.511132    -0.395730  ...      0.647158   \n",
       "PMID30176884_abstract.txt    -1.740750    -0.018401  ...      0.032785   \n",
       "PMID20854394_abstract.txt    -0.927264     0.094875  ...      1.081211   \n",
       "PMID30076223_abstract.txt     0.345840    -0.704596  ...      1.017986   \n",
       "\n",
       "                           vector_dim41  vector_dim42  vector_dim43  \\\n",
       "PMID18402723_abstract.txt     -0.137158      0.686309     -0.231976   \n",
       "PMID19214562_abstract.txt      0.102877      0.141661     -0.368813   \n",
       "PMID30176884_abstract.txt     -0.142508     -0.293224     -1.693219   \n",
       "PMID20854394_abstract.txt      0.791300      0.886624     -0.775268   \n",
       "PMID30076223_abstract.txt      1.645920     -0.074721     -0.835617   \n",
       "\n",
       "                           vector_dim44  vector_dim45  vector_dim46  \\\n",
       "PMID18402723_abstract.txt      0.976090      0.613285     -0.070006   \n",
       "PMID19214562_abstract.txt      0.814127      0.129849     -0.016899   \n",
       "PMID30176884_abstract.txt      1.352372      0.917716      1.649895   \n",
       "PMID20854394_abstract.txt      0.874677     -0.087801     -1.110482   \n",
       "PMID30076223_abstract.txt      1.832034      0.818003     -0.348022   \n",
       "\n",
       "                           vector_dim47  vector_dim48  vector_dim49  \n",
       "PMID18402723_abstract.txt     -0.220025      0.051589      0.261808  \n",
       "PMID19214562_abstract.txt      0.496250      0.171736      0.018547  \n",
       "PMID30176884_abstract.txt     -0.091840      0.480721     -0.952170  \n",
       "PMID20854394_abstract.txt     -1.229061      0.066304      0.698181  \n",
       "PMID30076223_abstract.txt      0.288649      0.443054      0.271817  \n",
       "\n",
       "[5 rows x 50 columns]"
      ]
     },
     "execution_count": 3,
     "metadata": {},
     "output_type": "execute_result"
    }
   ],
   "source": [
    "# Read in the document vectors \n",
    "# These are docvecs from documents containing special characters\n",
    "docvecs = pd.read_csv('../data/first_manuscript_data/clustering_pipeline_output/doc2vec_vectors.csv', index_col=0, engine='python')\n",
    "docvecs.head()"
   ]
  },
  {
   "cell_type": "code",
   "execution_count": 4,
   "metadata": {},
   "outputs": [],
   "source": [
    "# tSNE\n",
    "# This kills the jupyter kernel, so I ran the following lines in hpcc devnode python interpreter:\n",
    "\"\"\"\n",
    "from sklearn.manifold import TSNE\n",
    "import pandas as pd\n",
    "\n",
    "docvecs = pd.read_csv('../data/first_manuscript_data/clustering_pipeline_output/doc2vec_vectors.csv', index_col=0, engine='python')\n",
    "docvecs.head()\n",
    "\n",
    "tsne = TSNE() # Initialize model\n",
    "tsne_reduction = tsne.fit_transform(docvecs.to_numpy(copy=True)) # Fit the model and transform the data\n",
    "\n",
    "tsne_output = pd.DataFrame(tsne_reduction, columns=['component_1', 'component_2'])\n",
    "tsne_output.to_csv('../data/first_manuscript_data/clustering_pipeline_output/tsne_output.csv', index=False)\n",
    "\"\"\""
   ]
  },
  {
   "cell_type": "code",
   "execution_count": 13,
   "metadata": {},
   "outputs": [
    {
     "data": {
      "text/html": [
       "<div>\n",
       "<style scoped>\n",
       "    .dataframe tbody tr th:only-of-type {\n",
       "        vertical-align: middle;\n",
       "    }\n",
       "\n",
       "    .dataframe tbody tr th {\n",
       "        vertical-align: top;\n",
       "    }\n",
       "\n",
       "    .dataframe thead th {\n",
       "        text-align: right;\n",
       "    }\n",
       "</style>\n",
       "<table border=\"1\" class=\"dataframe\">\n",
       "  <thead>\n",
       "    <tr style=\"text-align: right;\">\n",
       "      <th></th>\n",
       "      <th>component_1</th>\n",
       "      <th>component_2</th>\n",
       "    </tr>\n",
       "  </thead>\n",
       "  <tbody>\n",
       "    <tr>\n",
       "      <th>0</th>\n",
       "      <td>-46.118412</td>\n",
       "      <td>-19.077300</td>\n",
       "    </tr>\n",
       "    <tr>\n",
       "      <th>1</th>\n",
       "      <td>-5.112287</td>\n",
       "      <td>-1.066877</td>\n",
       "    </tr>\n",
       "    <tr>\n",
       "      <th>2</th>\n",
       "      <td>37.962720</td>\n",
       "      <td>25.067880</td>\n",
       "    </tr>\n",
       "    <tr>\n",
       "      <th>3</th>\n",
       "      <td>21.566540</td>\n",
       "      <td>41.298670</td>\n",
       "    </tr>\n",
       "    <tr>\n",
       "      <th>4</th>\n",
       "      <td>-37.030200</td>\n",
       "      <td>25.827230</td>\n",
       "    </tr>\n",
       "  </tbody>\n",
       "</table>\n",
       "</div>"
      ],
      "text/plain": [
       "   component_1  component_2\n",
       "0   -46.118412   -19.077300\n",
       "1    -5.112287    -1.066877\n",
       "2    37.962720    25.067880\n",
       "3    21.566540    41.298670\n",
       "4   -37.030200    25.827230"
      ]
     },
     "execution_count": 13,
     "metadata": {},
     "output_type": "execute_result"
    }
   ],
   "source": [
    "# Read in tSNE results\n",
    "tsne_results = pd.read_csv('../data/first_manuscript_data/clustering_pipeline_output/tsne_output.csv')\n",
    "tsne_results.head()"
   ]
  },
  {
   "cell_type": "code",
   "execution_count": 15,
   "metadata": {},
   "outputs": [
    {
     "data": {
      "text/plain": [
       "Text(0, 0.5, 'Component 2')"
      ]
     },
     "execution_count": 15,
     "metadata": {},
     "output_type": "execute_result"
    },
    {
     "data": {
      "image/png": "[encoded data removed]",
      "text/plain": [
       "<Figure size 432x288 with 1 Axes>"
      ]
     },
     "metadata": {
      "needs_background": "light"
     },
     "output_type": "display_data"
    }
   ],
   "source": [
    "# Plot tSNE\n",
    "plt.scatter(tsne_results.component_1, tsne_results.component_2)\n",
    "plt.title('tSNE of docvecs')\n",
    "plt.xlabel('Component 1')\n",
    "plt.ylabel('Component 2')"
   ]
  },
  {
   "cell_type": "code",
   "execution_count": 5,
   "metadata": {},
   "outputs": [],
   "source": [
    "# PCA\n",
    "pca = PCA(n_components=2) # Initialize model \n",
    "pca_reduction = pca.fit_transform(docvecs.to_numpy(copy=True)) # Fit model and transform data"
   ]
  },
  {
   "cell_type": "code",
   "execution_count": 6,
   "metadata": {},
   "outputs": [
    {
     "data": {
      "text/plain": [
       "(8673, 2)"
      ]
     },
     "execution_count": 6,
     "metadata": {},
     "output_type": "execute_result"
    }
   ],
   "source": [
    "pca_reduction.shape"
   ]
  },
  {
   "cell_type": "code",
   "execution_count": 10,
   "metadata": {},
   "outputs": [],
   "source": [
    "pc1_var, pc2_var = pca.explained_variance_ratio_"
   ]
  },
  {
   "cell_type": "code",
   "execution_count": 12,
   "metadata": {},
   "outputs": [
    {
     "data": {
      "text/plain": [
       "Text(0, 0.5, 'PC2 - 7.09%')"
      ]
     },
     "execution_count": 12,
     "metadata": {},
     "output_type": "execute_result"
    },
    {
     "data": {
      "image/png": "[encoded data removed]",
      "text/plain": [
       "<Figure size 432x288 with 1 Axes>"
      ]
     },
     "metadata": {
      "needs_background": "light"
     },
     "output_type": "display_data"
    }
   ],
   "source": [
    "# Plot PCA\n",
    "pca_plotting_data = pca_reduction.transpose()\n",
    "plt.scatter(pca_plotting_data[0], pca_plotting_data[1])\n",
    "plt.title('PCA of docvecs')\n",
    "plt.xlabel(f'PC1 - {pc1_var*100:.2f}%')\n",
    "plt.ylabel(f'PC2 - {pc2_var*100:.2f}%')"
   ]
  },
  {
   "cell_type": "markdown",
   "metadata": {},
   "source": [
    "This is consistent with the result from mean-shift clustering, and isn't necessarily unexpected -- the documents from the PubMed searches are pretty similar. However, I would sort of expect that, given a set of very similar documents, and no \"outgroup\" documents, that the docvecs would be able to have more nuance."
   ]
  }
 ],
 "metadata": {
  "kernelspec": {
   "display_name": "kg",
   "language": "python",
   "name": "kg"
  },
  "language_info": {
   "codemirror_mode": {
    "name": "ipython",
    "version": 3
   },
   "file_extension": ".py",
   "mimetype": "text/x-python",
   "name": "python",
   "nbconvert_exporter": "python",
   "pygments_lexer": "ipython3",
   "version": "3.8.5"
  }
 },
 "nbformat": 4,
 "nbformat_minor": 4
}
