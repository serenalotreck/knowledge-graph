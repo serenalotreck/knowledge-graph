{
 "cells": [
  {
   "cell_type": "markdown",
   "metadata": {},
   "source": [
    "# Corpus semantic & syntactic analysis\n",
    "In this notebooks, I'll explore the following analyses of corpus semantics and syntactics:\n",
    "1. **Vocabulary analysis.** Look for out-of-vocabulary words in each pairwise comparison of corpora. The more out-of-vocabulary words for a given pair, the less similar they are to one another. Expect that SciERC and PICKLE will have more overlapping vocabulary.\n",
    "2. **Token analysis.** Using a word2vec model, embed the tokens from each corpus, and see how they cluster in the vector space. Expect that PICKLE and SciERC tokens will cluster together in space.\n",
    "3. **Document analysis.** Using some kind of document embedding (doc2vec, a BERT based embedding, etc), perform the same style of analysis as for the tokens. Expect PICKLE and SciERC documents to cluster together more often."
   ]
  },
  {
   "cell_type": "code",
   "execution_count": 1,
   "metadata": {},
   "outputs": [],
   "source": [
    "from gensim.models import KeyedVectors\n",
    "import jsonlines\n",
    "from sklearn.decomposition import PCA\n",
    "from sklearn.cluster import KMeans\n",
    "from sklearn.metrics.pairwise import euclidean_distances\n",
    "import matplotlib.pyplot as plt\n",
    "import pandas as pd\n",
    "import numpy as np\n",
    "\n",
    "# Importing my own Dataset class\n",
    "import sys\n",
    "sys.path.append('../models/corpus_comparison/')\n",
    "from dataset import Dataset"
   ]
  },
  {
   "cell_type": "markdown",
   "metadata": {},
   "source": [
    "## 1. Vocabulary analysis\n",
    "For this analysis, we'll use the SciERC, GENIA, and PICKLE corpora to get the sets of tokens that make up the three corpora. We'll then look for out-of-vocabulary words in each pairwise comparison of corpora. Based on the pre-trained model results, in which SciERC outperformed GENIA on the PICKLE corpus, we expect to see that there are more out-of-vocabulary words in the GENIA-PICKLE comparison than in the SciERC-PICKLE comparison.\n",
    "### Getting our corpus vocabularies\n",
    "First, we have to get the GENIA and SciERC datasets."
   ]
  },
  {
   "cell_type": "markdown",
   "metadata": {},
   "source": [
    "#### Downloading SciERC and GENIA data\n",
    "We'll use the code provided in the [DyGIE++](https://github.com/dwadden/dygiepp) repo for this purpose, running the following commands from the root of the `dygiepp` repo:\n",
    "\n",
    "```\n",
    "bash ./scripts/data/get_scierc.sh\n",
    "```\n",
    "\n",
    "```\n",
    "bash ./scripts/data/get_genia.sh\n",
    "```"
   ]
  },
  {
   "cell_type": "markdown",
   "metadata": {},
   "source": [
    "### Comparing vocabularies\n",
    "Now that we have all three datasets, we can compare them. This is done with the script `out_of_vocab_comparison.py`, found in the `models/corpus_comparison` directory.\n",
    "\n",
    "<br>\n",
    "\n",
    "*A summary of the comparisons:* For each pair of datasets, a total of 6 metrics were calculated. For each of unigrams, bigrams, and trigrams, the datasets were compared in both directions, and the number of out-of-vocabulary words for that comparison were computed. In order to be able to compare the differences between PICKLE/GENIA and PICKLE/SciERC, the comparisons were normalized by the number of words of that n-gram length in the comparison corpus, making the final calculation equivalent to:\n",
    "\n",
    "```len(set(ngrams in PICKLE) - set(ngrams in GENIA/SciERC)) / len(ngrams in GENIA/SciERC)```"
   ]
  },
  {
   "cell_type": "markdown",
   "metadata": {},
   "source": [
    "#### Commands used to generate comparisons\n",
    "The relative paths here are specific to my local filesystem/data directory structure, which doesn't come along with this repository. These commands were run form the `models/corpus_comparison/` directory.\n",
    "\n",
    "To compare GENIA to PICKLE:\n",
    "```\n",
    "python out_of_vocab_comparison.py pickle ../../data/straying_off_topic_data/unified_annotations_processed/jsonl_files/FINAL_FOR_EVALUATION_ent_and_rel_all_gold_std_abstracts_08Nov2022.jsonl genia ../../../dygiepp/data/genia/processed-data/json-coref-ident-only/train.json  ../../data/straying_off_topic_data/corpus_comparison/ pickle_vs_genia_normalized -v\n",
    "```\n",
    "\n",
    "To compare SciERC to PICKLE:\n",
    "```\n",
    "python out_of_vocab_comparison.py pickle ../../data/straying_off_topic_data/unified_annotations_processed/jsonl_files/FINAL_FOR_EVALUATION_ent_and_rel_all_gold_std_abstracts_08Nov2022.jsonl scierc ../../../dygiepp/data/scierc/processed_data/json/train.json  ../../data/straying_off_topic_data/corpus_comparison/ pickle_vs_scierc_normalized -v\n",
    "```"
   ]
  },
  {
   "cell_type": "markdown",
   "metadata": {},
   "source": [
    "#### Looking at comparison outputs\n",
    "Now, lets read in the data and see what the situation is."
   ]
  },
  {
   "cell_type": "code",
   "execution_count": 6,
   "metadata": {},
   "outputs": [],
   "source": [
    "genia_vs_pickle_path = '../data/straying_off_topic_data/corpus_comparison/pickle_vs_genia_normalized_oov_comparison.jsonl'\n",
    "scierc_vs_pickle_path = '../data/straying_off_topic_data/corpus_comparison/pickle_vs_scierc_normalized_oov_comparison.jsonl'"
   ]
  },
  {
   "cell_type": "code",
   "execution_count": 7,
   "metadata": {},
   "outputs": [],
   "source": [
    "genia_vs_pickle = []\n",
    "with jsonlines.open(genia_vs_pickle_path) as reader:\n",
    "    for obj in reader:\n",
    "        genia_vs_pickle.append(obj)\n",
    "        \n",
    "scierc_vs_pickle = []\n",
    "with jsonlines.open(scierc_vs_pickle_path) as reader:\n",
    "    for obj in reader:\n",
    "        scierc_vs_pickle.append(obj)"
   ]
  },
  {
   "cell_type": "markdown",
   "metadata": {},
   "source": [
    "To better visualize the situation, let's make a bar plot!"
   ]
  },
  {
   "cell_type": "code",
   "execution_count": 11,
   "metadata": {},
   "outputs": [
    {
     "data": {
      "image/png": "[encoded data removed]",
      "text/plain": [
       "<Figure size 432x288 with 1 Axes>"
      ]
     },
     "metadata": {
      "needs_background": "light"
     },
     "output_type": "display_data"
    }
   ],
   "source": [
    "pickle_labels = ['SciERC', 'GENIA']\n",
    "unigrams = [scierc_vs_pickle[0]['unigrams_oov_pickle_frac'], genia_vs_pickle[0]['unigrams_oov_pickle_frac']]\n",
    "bigrams = [scierc_vs_pickle[0]['bigrams_oov_pickle_frac'], genia_vs_pickle[0]['bigrams_oov_pickle_frac']]\n",
    "trigrams = [scierc_vs_pickle[0]['trigrams_oov_pickle_frac'], genia_vs_pickle[0]['trigrams_oov_pickle_frac']]\n",
    "\n",
    "x = np.arange(len(pickle_labels))\n",
    "x = 0.5*x\n",
    "width = 0.1\n",
    "\n",
    "#fig, ax = plt.subplots()\n",
    "plt.bar(x - width, unigrams, width, color='tab:purple', label='Unigrams')\n",
    "plt.bar(x, bigrams, width, color='tab:grey', label='Bigrams')\n",
    "plt.bar(x + width, trigrams, width, color='tab:brown', label='Trigrams')\n",
    "\n",
    "plt.ylabel('Out-of-vocabulary fraction for PICKLE')\n",
    "plt.xticks(x, pickle_labels)\n",
    "plt.legend(loc='upper right')\n",
    "\n",
    "plt.savefig('../data/straying_off_topic_data/corpus_comparison/figures/oov_plot.png', bbox_inches='tight', dpi=300)"
   ]
  },
  {
   "cell_type": "markdown",
   "metadata": {},
   "source": [
    "In all three categories, the amount of PICKLE's vocabulary that is out of the vocabulary of the other corpus is much greater for SciERC than for GENIA. This is the opposite of what we expected, since SciERC performs better for entity recognition on the PICKLE corpus than GENIA does. However, it's possible that the semantics of the words in SciERC are more similar to those in PICKLE than in GENIA, which could account for the phenomenon. That's what we'll look at next."
   ]
  },
  {
   "cell_type": "markdown",
   "metadata": {},
   "source": [
    "-----------\n",
    "## Token Analysis\n",
    "Now, lets generate word vectors for the unigram, bigram, and trigram tokens in the three corpora, and compare their semantics by looking at how those vectors cluster.\n",
    "\n",
    "<br>\n",
    "\n",
    "We'll use the script `models/corpus_comparison/train_word2vec.py` to generate these word vectors, and read them in here. This script uses all the uni-, bi-, and trigrams from all three corpora to train a new Word2Vec model using the [gensim implementation](https://radimrehurek.com/gensim/models/word2vec.html)."
   ]
  },
  {
   "cell_type": "markdown",
   "metadata": {},
   "source": [
    "### Code to generate the word vectors\n",
    "The following command was used to generate the word vectors:\n",
    "```\n",
    "python train_word2vec.py -corpora ../../data/straying_off_topic_data/unified_annotations_processed/jsonl_files/FINAL_ENTITIES_all_gold_standard_abstracts_GOLD_STD_03Mar2022.jsonl ../../../dygiepp/data/scierc/processed_data/json/train.json ../../../dygiepp/data/genia/processed-data/json-coref-ident-only/train.json -out_loc ../../data/straying_off_topic_data/corpus_comparison/ -out_prefix pickle_scierc_genia_combined -v\n",
    "```"
   ]
  },
  {
   "cell_type": "markdown",
   "metadata": {},
   "source": [
    "### Reading in and plotting the word vectors\n",
    "Now we want to take a look at the differences between the vectors from the different corpora. In order to do this, we're going to read them in, sort them to the corpus from which they came, and then using PCA to generate 2-D versions of the vectors that we can visualize."
   ]
  },
  {
   "cell_type": "code",
   "execution_count": null,
   "metadata": {},
   "outputs": [],
   "source": [
    "# Import the word vectors\n",
    "word2vecs = '../data/straying_off_topic_data/corpus_comparison/pickle_scierc_genia_combined_word2vec_skipgram.wordvectors'\n",
    "vecs = KeyedVectors.load(word2vecs)"
   ]
  },
  {
   "cell_type": "code",
   "execution_count": null,
   "metadata": {},
   "outputs": [],
   "source": [
    "# Import the datasets\n",
    "def read_dataset(path, name):\n",
    "    \"\"\"\n",
    "    Read in a dataset to a Dataset object.\n",
    "    \"\"\"\n",
    "    objs = []\n",
    "    with jsonlines.open(path) as reader:\n",
    "        for obj in reader:\n",
    "            objs.append(obj)\n",
    "            \n",
    "    dset = Dataset(name, objs)\n",
    "    \n",
    "    return dset"
   ]
  },
  {
   "cell_type": "code",
   "execution_count": null,
   "metadata": {},
   "outputs": [],
   "source": [
    "scierc_path = '../../dygiepp/data/scierc/processed_data/json/train.json'\n",
    "genia_path = '../../dygiepp/data/genia/processed-data/json-coref-ident-only/train.json'\n",
    "pickle_path = '../data/straying_off_topic_data/unified_annotations_processed/jsonl_files/FINAL_ENTITIES_all_gold_standard_abstracts_GOLD_STD_03Mar2022.jsonl'\n",
    "\n",
    "scierc = read_dataset(scierc_path, 'scierc')\n",
    "genia = read_dataset(genia_path, 'genia')\n",
    "pickle = read_dataset(pickle_path, 'pickle')"
   ]
  },
  {
   "cell_type": "code",
   "execution_count": null,
   "metadata": {},
   "outputs": [],
   "source": [
    "# Sort vectors\n",
    "# Heads up that this is slow\n",
    "sep_vecs = {}\n",
    "for dset in [scierc, genia, pickle]:\n",
    "    _ = dset.get_dataset_vocab()\n",
    "    dset_comb_vocab = list(dset.vocab['unigrams']) + list(dset.vocab['bigrams']) + list(dset.vocab['trigrams'])\n",
    "    dset_vecs = {k:vecs[k] for k in vecs.index_to_key if k in dset_comb_vocab}\n",
    "    sep_vecs[dset.get_dataset_name()] = dset_vecs"
   ]
  },
  {
   "cell_type": "markdown",
   "metadata": {},
   "source": [
    "Legend solution in below code is from [this stackoverflow answer](https://stackoverflow.com/a/31311862/13340814)"
   ]
  },
  {
   "cell_type": "code",
   "execution_count": null,
   "metadata": {
    "scrolled": true
   },
   "outputs": [],
   "source": [
    "# Do PCA to get plottable shaped vectors\n",
    "# Fit on all the vectors, then transform each individually to keep the sorted structure\n",
    "\n",
    "# Make input array\n",
    "X = []\n",
    "for k in vecs.index_to_key:\n",
    "    X.append(vecs[k])\n",
    "\n",
    "# Fit PCA\n",
    "pca = PCA(n_components=2)\n",
    "pca.fit(X)\n",
    "\n",
    "# Transform the vectors\n",
    "x, y, group = [], [], []\n",
    "for dset in sep_vecs:\n",
    "    for word in sep_vecs[dset]:\n",
    "        word_vec = sep_vecs[dset][word].reshape(1, -1)\n",
    "        transformed = pca.transform(word_vec).flatten()\n",
    "        x.append(transformed[0])\n",
    "        y.append(transformed[1])\n",
    "        group.append(dset)\n",
    "        \n",
    "# Plot\n",
    "color_dict = {'scierc': 'blue', 'genia':'orange', 'pickle':'green'}\n",
    "colors = [color_dict[i] for i in group]\n",
    "scatter = plt.scatter(x=x, y=y, c=colors, alpha = 0.5, s=4)\n",
    "plt.xlabel('PC1')\n",
    "plt.ylabel('PC2')\n",
    "markers = [plt.Line2D([0,0],[0,0],color=color, marker='o', linestyle='') for color in color_dict.values()]\n",
    "plt.legend(markers, color_dict.keys(), numpoints=1)\n",
    "\n",
    "plt.savefig('../data/straying_off_topic_data/corpus_comparison/figures/full_corpus_wordvec_compare.png', bbox_inches='tight', dpi=300)"
   ]
  },
  {
   "cell_type": "markdown",
   "metadata": {},
   "source": [
    "### Further exploration of word vectors with clustering\n",
    "Generally speaking, it looks like all three corpora form two clusters. There are no telling visual differences between the three corpora here, but it might be helpful to see what typical words from those two clusters look like for each of the corpora. In orer to do this, we'll use K-Means clustering with k=2 for each of the three corpoora. We can then draw random words from each cluster, as well as compute the distance between the centroids of each cluster, for all three corpora."
   ]
  },
  {
   "cell_type": "code",
   "execution_count": null,
   "metadata": {},
   "outputs": [],
   "source": [
    "# Pre-process the data\n",
    "cluster_prep = {}\n",
    "for dset in sep_vecs:\n",
    "    vec_df = pd.DataFrame.from_dict(sep_vecs[dset], orient='index')\n",
    "    cluster_prep[dset] = vec_df"
   ]
  },
  {
   "cell_type": "code",
   "execution_count": null,
   "metadata": {},
   "outputs": [],
   "source": [
    "# Run clustering alg to get cluster labels for all rows in df\n",
    "def get_clusters(cluster_prep, k=2):\n",
    "    \"\"\"\n",
    "    Get cluster labels and centroid for each dataset.\n",
    "    \n",
    "    parameters:\n",
    "        cluster_prep, dict: keys are dset names, values are arrays of vectors\n",
    "        k, int: number of clusters\n",
    "    \"\"\"\n",
    "    clusters = {}\n",
    "    centroids = {}\n",
    "    for dset in cluster_prep:\n",
    "        kmeans = KMeans(n_clusters=k, random_state=0).fit(cluster_prep[dset])\n",
    "        preds = kmeans.predict(cluster_prep[dset])\n",
    "        pred_df = pd.DataFrame({'word': cluster_prep[dset].index, 'cluster': preds})\n",
    "        clusters[dset] = pred_df\n",
    "        centroids[dset] = kmeans.cluster_centers_\n",
    "        \n",
    "    return clusters, centroids"
   ]
  },
  {
   "cell_type": "code",
   "execution_count": null,
   "metadata": {},
   "outputs": [],
   "source": [
    "clusters_2, centroids_2 = get_clusters(cluster_prep, k=2)"
   ]
  },
  {
   "cell_type": "markdown",
   "metadata": {},
   "source": [
    "Now that we have our clusters, let's make three separate plots, one for each dataset, where the two clusters are colored differently, with their centroids marked with a large red dot. This means we have to do PCA again to get the plottable forms. We still want to fit the PCA on all three datasets together, so the resulting plots are comparable, but we then want to separate out the three datasets into different plots, and use the cluster labels to color them instead."
   ]
  },
  {
   "cell_type": "code",
   "execution_count": null,
   "metadata": {},
   "outputs": [],
   "source": [
    "# Do PCA to get plottable shaped vectors\n",
    "# Fit on all the vectors, then transform each individually to keep the sorted structure\n",
    "\n",
    "def plot_clusters(vecs, cluster_prep, clusters, centroids, color_dict):\n",
    "    \"\"\"\n",
    "    Plot clusters.\n",
    "    \n",
    "    parameters:\n",
    "        vecs, KeyedVector obj: original vector object\n",
    "        cluster_prep, dict: keys are dset names, values are arrays of vectors\n",
    "        clusters, dict: keys are dset names, values are df with word as idx and cluster number as column\n",
    "        centroids, dict: keys are dset names, values are arrays with centroids\n",
    "        color_dict, dict: keys are cluster labels, values are colors\n",
    "    \"\"\"\n",
    "    # Make input array\n",
    "    X = []\n",
    "    for k in vecs.index_to_key:\n",
    "        X.append(vecs[k])\n",
    "\n",
    "    # Fit PCA\n",
    "    pca = PCA(n_components=2)\n",
    "    pca.fit(X)\n",
    "\n",
    "    # Make fig\n",
    "    fig, axs = plt.subplots(nrows=3, ncols=1, sharex=True, sharey=True, figsize=(4, 9))\n",
    "    fig.supxlabel('PC1')\n",
    "    fig.supylabel('PC2')\n",
    "    plt.subplots_adjust(bottom=0.1, left=0.2)\n",
    "    \n",
    "    # Transform the vectors and plot\n",
    "    for dset, ax in zip(cluster_prep.keys(), axs):\n",
    "        # Word vectors\n",
    "        x, y, cluster = [], [], []\n",
    "        for i in range(cluster_prep[dset].shape[0]):\n",
    "            word_vec = cluster_prep[dset].iloc[i].to_numpy().reshape(1, -1)\n",
    "            transformed = pca.transform(word_vec).flatten()\n",
    "            x.append(transformed[0])\n",
    "            y.append(transformed[1])\n",
    "            cluster.append(clusters[dset].iloc[i].values[1])\n",
    "\n",
    "        # Centroids\n",
    "        centroid_arr = centroids[dset]\n",
    "        x_centr, y_centr = [], []\n",
    "        for row in centroid_arr:\n",
    "            sample = row.reshape(1, -1)\n",
    "            transformed = pca.transform(sample).flatten()\n",
    "            x_centr.append(transformed[0])\n",
    "            y_centr.append(transformed[1])\n",
    "\n",
    "        # Plot\n",
    "        colors = [color_dict[i] for i in cluster]\n",
    "        ax.scatter(x=x, y=y, c=colors, alpha = 0.5, s=4)\n",
    "        ax.scatter(x=x_centr, y=y_centr, c='red', s=20)\n",
    "        ax.set_title(dset)\n",
    "\n",
    "    plt.savefig(f'../data/straying_off_topic_data/corpus_comparison/figures/k{len(color_dict.keys())}_clusters_sep_dsets.png', bbox_inches='tight', dpi=300)"
   ]
  },
  {
   "cell_type": "code",
   "execution_count": null,
   "metadata": {},
   "outputs": [],
   "source": [
    "# k = 2\n",
    "color_dict_2 = {0: 'blue', 1:'orange'}\n",
    "plot_clusters(vecs, cluster_prep, clusters_2, centroids_2, color_dict_2)"
   ]
  },
  {
   "cell_type": "markdown",
   "metadata": {},
   "source": [
    "These plots actually make it look like there are 3 clusters, and k=2 isn't the correct choice.  The yellow cluster, in all 3 datasets, is clearly two clusters. Lets try that again, but with k=3:"
   ]
  },
  {
   "cell_type": "code",
   "execution_count": null,
   "metadata": {},
   "outputs": [],
   "source": [
    "# k = 3\n",
    "clusters_3, centroids_3 = get_clusters(cluster_prep, k=3)\n",
    "color_dict_3 = {0: 'blue', 1:'orange', 2:'cyan'}\n",
    "plot_clusters(vecs, cluster_prep, clusters_3, centroids_3, color_dict_3)"
   ]
  },
  {
   "cell_type": "markdown",
   "metadata": {},
   "source": [
    "Interestingly enough, PICKLE clusters differently than the other two corpora, looking more like it should maybe have 4 clusters instead of 3. However, I am inclined to believe that this is a consequence of the fact that PICKLE is so much smaller than the other two corpora."
   ]
  },
  {
   "cell_type": "markdown",
   "metadata": {},
   "source": [
    "TODO: Look at random words from each cluster."
   ]
  },
  {
   "cell_type": "markdown",
   "metadata": {},
   "source": [
    "### Wordvectors for unique words only\n",
    "Another approach to dig into what's going on here is to make the same plots as above (all three datsets together, each of the three datasets but clustered), but only using the words that each corpus contains uniquely of the other two. For example, what words are there in PICKLE that don't appear in either SciERC or GENIA? I would expect that the three corpora would form separate clusters, but with the semantic (euclidian) distance between the clusters for SciERC and PICKLE being less than the distance between GENIA and PICKLE. This rests on the assumption that a model will perform better on a new domain if the out-of-vocabulary words in the new domain are close to its own unique words."
   ]
  },
  {
   "cell_type": "code",
   "execution_count": null,
   "metadata": {},
   "outputs": [],
   "source": [
    "# Use set difference to get unique words form sep_vecs\n",
    "unique_sep_vecs = {}\n",
    "for dset in sep_vecs:\n",
    "    other_dset_names = [d for d in sep_vecs if dset != d]\n",
    "    other_dset_set = set(list(sep_vecs[other_dset_names[0]].keys()) + list(sep_vecs[other_dset_names[1]].keys()))\n",
    "    dset_set = set(list(sep_vecs[dset].keys()))\n",
    "    diff = dset_set.difference(other_dset_set)\n",
    "    un_vecs = {w:v for w, v in sep_vecs[dset].items() if w in diff}\n",
    "    unique_sep_vecs[dset] = un_vecs"
   ]
  },
  {
   "cell_type": "code",
   "execution_count": null,
   "metadata": {},
   "outputs": [],
   "source": [
    "# Do PCA to get plottable shaped vectors\n",
    "# Fit on all the vectors, then transform each individually to keep the sorted structure\n",
    "\n",
    "# Make input array\n",
    "X = []\n",
    "for k in vecs.index_to_key:\n",
    "    X.append(vecs[k])\n",
    "\n",
    "# Fit PCA\n",
    "pca = PCA(n_components=2)\n",
    "pca.fit(X)\n",
    "\n",
    "# Transform the vectors\n",
    "x, y, group = [], [], []\n",
    "for dset in unique_sep_vecs:\n",
    "    for word in unique_sep_vecs[dset]:\n",
    "        word_vec = unique_sep_vecs[dset][word].reshape(1, -1)\n",
    "        transformed = pca.transform(word_vec).flatten()\n",
    "        x.append(transformed[0])\n",
    "        y.append(transformed[1])\n",
    "        group.append(dset)\n",
    "        \n",
    "# Plot\n",
    "color_dict = {'scierc': 'blue', 'genia':'orange', 'pickle':'green'}\n",
    "colors = [color_dict[i] for i in group]\n",
    "scatter = plt.scatter(x=x, y=y, c=colors, alpha = 0.5, s=4)\n",
    "plt.xlabel('PC1')\n",
    "plt.ylabel('PC2')\n",
    "markers = [plt.Line2D([0,0],[0,0],color=color, marker='o', linestyle='') for color in color_dict.values()]\n",
    "plt.legend(markers, color_dict.keys(), numpoints=1)\n",
    "\n",
    "plt.savefig('../data/straying_off_topic_data/corpus_comparison/figures/unique_words_scatter.png', bbox_inches='tight', dpi=300)"
   ]
  },
  {
   "cell_type": "markdown",
   "metadata": {},
   "source": [
    "Whilst that doesn't correspond to my expectation, I do think that it looks like the PICKLE and SciERC unique words more frequently fall near each other in space, and that there are more \"distracting\" words in the GENIA unique words set. To test this, let's look at [some distance metrics](https://online.stat.psu.edu/stat505/lesson/14/14.4) used to compute the distance between clusters (we'll look at single, complete and average linkage). Here, we'll consider each dataset's unique word vectors to be a cluster, as those are the groupings we're interested in."
   ]
  },
  {
   "cell_type": "code",
   "execution_count": null,
   "metadata": {},
   "outputs": [],
   "source": [
    "# Set up dfs to get differences\n",
    "unique_dfs = {}\n",
    "for dset in unique_sep_vecs:\n",
    "    df = pd.DataFrame.from_dict(unique_sep_vecs[dset], orient='index')\n",
    "    unique_dfs[dset] = df"
   ]
  },
  {
   "cell_type": "code",
   "execution_count": null,
   "metadata": {},
   "outputs": [],
   "source": [
    "# Calculate raw differences\n",
    "distance_matrices = {}\n",
    "for pair in [('scierc', 'genia'), ('scierc', 'pickle'), ('genia', 'pickle')]:\n",
    "    dist = euclidean_distances(unique_dfs[pair[0]], unique_dfs[pair[1]])\n",
    "    distance_matrices[f'{pair[0]}_{pair[1]}'] = dist"
   ]
  },
  {
   "cell_type": "markdown",
   "metadata": {},
   "source": [
    "Each matrix has unique values on both the x and y axes, so every comparison (value in the matrix) represents a unique pair. We can now get the max, min and average distance for each dataset:"
   ]
  },
  {
   "cell_type": "code",
   "execution_count": null,
   "metadata": {},
   "outputs": [],
   "source": [
    "pair_metrics = {}\n",
    "for pair in distance_matrices:\n",
    "    min_dist = distance_matrices[pair].min() # Single linkage\n",
    "    max_dist = distance_matrices[pair].max() # Complete linkage\n",
    "    mean_dist = distance_matrices[pair].mean() # Average linkage\n",
    "    pair_metrics[pair] = (min_dist, max_dist, mean_dist)"
   ]
  },
  {
   "cell_type": "code",
   "execution_count": null,
   "metadata": {},
   "outputs": [],
   "source": [
    "pair_metrics"
   ]
  },
  {
   "cell_type": "markdown",
   "metadata": {},
   "source": [
    "Now let's make a bar plot to easily visualize these distances for the comparisons to PICKLE:"
   ]
  },
  {
   "cell_type": "code",
   "execution_count": null,
   "metadata": {},
   "outputs": [],
   "source": [
    "pair_labels = ['SciERC', 'GENIA']\n",
    "single = [pair_metrics['scierc_pickle'][0], pair_metrics['genia_pickle'][0]]\n",
    "complete = [pair_metrics['scierc_pickle'][1], pair_metrics['genia_pickle'][1]]\n",
    "average = [pair_metrics['scierc_pickle'][2], pair_metrics['genia_pickle'][2]]\n",
    "\n",
    "x = np.arange(len(pair_labels))\n",
    "x = 0.5*x\n",
    "width = 0.1\n",
    "\n",
    "fig, ax = plt.subplots()\n",
    "rects1 = ax.bar(x - width, single, width, color='tab:pink', label='Single Linkage')\n",
    "rects2 = ax.bar(x, complete, width, color='tab:olive', label='Complete Linkage')\n",
    "rects3 = ax.bar(x + width, average, width, color='tab:cyan', label='Average Linkage')\n",
    "\n",
    "ax.set_ylabel('Linkage Distance')\n",
    "ax.set_xticks(x, pair_labels)\n",
    "ax.legend()\n",
    "\n",
    "fig.tight_layout()\n",
    "\n",
    "plt.savefig('../data/straying_off_topic_data/corpus_comparison/figures/linkage_distances.png', bbox_inches='tight', dpi=300)"
   ]
  },
  {
   "cell_type": "markdown",
   "metadata": {},
   "source": [
    "This conforms with our expectation! If we look at the printout of the distances, we can see that the single linkage is slightly less for GENIA than for SciERC. However, the complete and average linkages are less for SciERC than they are for GENIA! This aligns with the idea that GENIA has a greater variety of words which \"distract\" the model from being able to perform well on PICKLE."
   ]
  }
 ],
 "metadata": {
  "kernelspec": {
   "display_name": "dygiepp_fresh",
   "language": "python",
   "name": "dygiepp_fresh"
  },
  "language_info": {
   "codemirror_mode": {
    "name": "ipython",
    "version": 3
   },
   "file_extension": ".py",
   "mimetype": "text/x-python",
   "name": "python",
   "nbconvert_exporter": "python",
   "pygments_lexer": "ipython3",
   "version": "3.7.13"
  }
 },
 "nbformat": 4,
 "nbformat_minor": 2
}
