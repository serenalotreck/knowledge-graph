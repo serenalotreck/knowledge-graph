{
 "cells": [
  {
   "cell_type": "markdown",
   "metadata": {},
   "source": [
    "# Visualizing KG statistics\n",
    "In this notebook, we will be visualizing statistics about the KG generated with DyGIE++, as well as statistics about the corpus from which the graphs were generated: number of docs, words per doc, mean/median number of predictions (entities and relations) for each model, number of unique entities overall, mean/median number of predictions for each doc, as well as plotting the softmax scores for predictions from each model.\n",
    "<br><br>\n",
    "Due to Jupyter's memory limitations, each section with its corresponding markdown explanations will only have function definitions. The function definitions will be applied to one dataset at a time at the end of the notebook, deleting the unused data between each run to avoid saturating the memory allocation."
   ]
  },
  {
   "cell_type": "code",
   "execution_count": 2,
   "metadata": {},
   "outputs": [],
   "source": [
    "import pandas as pd\n",
    "import jsonlines\n",
    "\n",
    "from statistics import mean, median\n",
    "import matplotlib.pyplot as plt\n",
    "import seaborn as sns\n",
    "%matplotlib inline"
   ]
  },
  {
   "cell_type": "markdown",
   "metadata": {},
   "source": [
    "## Reading in the data \n",
    "----------------------------"
   ]
  },
  {
   "cell_type": "code",
   "execution_count": 3,
   "metadata": {},
   "outputs": [],
   "source": [
    "def read_predictions(path):\n",
    "    \"\"\"\n",
    "    Read in the dygiepp prediction file.\n",
    "    \n",
    "    parameters:\n",
    "        path, str: path to dygiepp output file\n",
    "        \n",
    "    returns: \n",
    "        results, list of dict: list of prediction dicts\n",
    "    \"\"\"\n",
    "    results = []\n",
    "    with jsonlines.open(path) as reader:\n",
    "        for obj in reader:\n",
    "            results.append(obj)\n",
    "    \n",
    "    return results"
   ]
  },
  {
   "cell_type": "markdown",
   "metadata": {},
   "source": [
    "## Application corpus statistics\n",
    "---------------------\n",
    "### Number of docs\n",
    "There is one json object in the prediction file per document. The same set of docs was used to build both graphs."
   ]
  },
  {
   "cell_type": "code",
   "execution_count": 8,
   "metadata": {},
   "outputs": [],
   "source": [
    "def get_num_docs(results):\n",
    "    \"\"\"\n",
    "    Helper for get_corpus_stats.\n",
    "    \"\"\"\n",
    "    print(f'{len(results)} documents were used to build the graphs.\\n')"
   ]
  },
  {
   "cell_type": "markdown",
   "metadata": {},
   "source": [
    "### Total sentences & sentences per doc, total words & words per doc\n",
    "Each object contains a list of lists, where each internal list is a sentence, and list elements are sentence tokens. This includes periods -- will not subtract these from the count, since the model considers them to be words."
   ]
  },
  {
   "cell_type": "code",
   "execution_count": 33,
   "metadata": {},
   "outputs": [],
   "source": [
    "def get_sentence_stats(results, dataset_name):\n",
    "    \"\"\"\n",
    "    Helper for get_corpus_stats\n",
    "    \"\"\"\n",
    "    # Get number of sentences in each doc\n",
    "    num_sent_in_docs = []\n",
    "    for doc in results:\n",
    "        num_sent_in_docs.append(len(doc['sentences']))\n",
    "\n",
    "    # Calculate stats\n",
    "    total_sent = sum(num_sent_in_docs)\n",
    "    mean_sent_per_doc = mean(num_sent_in_docs)\n",
    "    median_sent_per_doc = median(num_sent_in_docs)\n",
    "    largest_doc = max(num_sent_in_docs)\n",
    "    smallest_doc = min(num_sent_in_docs)\n",
    "\n",
    "    print(f'{total_sent} sentences were used to build the graphs using the {dataset_name} model.')\n",
    "    print(f'There are an average of {mean_sent_per_doc:.2f} sentences per doc, and a median value of {median_sent_per_doc} sentences per doc.')\n",
    "    print(f'The largest doc has {largest_doc} sentences, and the smallest doc has {smallest_doc}.\\n')\n",
    "    \n",
    "    return num_sent_in_docs"
   ]
  },
  {
   "cell_type": "code",
   "execution_count": 34,
   "metadata": {},
   "outputs": [],
   "source": [
    "def get_word_stats(results, dataset_name):\n",
    "    \"\"\"\n",
    "    Helper for get_corpus_stats.\n",
    "    \"\"\"\n",
    "    # Get number of words in each doc\n",
    "    num_words_in_docs = []\n",
    "    for doc in results:\n",
    "        num_words = 0\n",
    "        for sentence in doc['sentences']:\n",
    "            num_words += len(sentence)\n",
    "        num_words_in_docs.append(num_words)\n",
    "\n",
    "    # Calculate stats\n",
    "    total_words = sum(num_words_in_docs)\n",
    "    mean_words_per_doc = mean(num_words_in_docs)\n",
    "    median_words_per_doc = median(num_words_in_docs)\n",
    "    longest_doc = max(num_words_in_docs)\n",
    "    shortest_doc = min(num_words_in_docs)\n",
    "\n",
    "    print(f'There are a total of {total_words} words in the documents used to build the graph using the {dataset_name} model.')\n",
    "    print(f'There are an average of {mean_words_per_doc:.2f} words per doc, and a median value of {median_words_per_doc}')\n",
    "    print(f'The longest doc has {longest_doc} words, and the shortest doc has {shortest_doc}.\\n')\n",
    "    \n",
    "    return num_words_in_docs"
   ]
  },
  {
   "cell_type": "code",
   "execution_count": 11,
   "metadata": {},
   "outputs": [],
   "source": [
    "def get_words_per_sent(results):\n",
    "    \"\"\"\n",
    "    Helper for get_corpus_stats.\n",
    "    \"\"\"\n",
    "    # Words per sentence\n",
    "    num_words_in_sent = []\n",
    "    for doc in results:\n",
    "        for sentence in doc['sentences']:\n",
    "            num_words_in_sent.append(len(sentence))\n",
    "            \n",
    "    return num_words_in_sent"
   ]
  },
  {
   "cell_type": "code",
   "execution_count": 23,
   "metadata": {},
   "outputs": [],
   "source": [
    "def get_corpus_stats(results, dataset_name):\n",
    "    \"\"\"\n",
    "    Get corpus stats.\n",
    "    \n",
    "    parameters: \n",
    "        results, list of dict: prediction results from dygiepp \n",
    "        dataset_name, str: name of the dataset\n",
    "    \n",
    "    returns:\n",
    "        (num_sents, num_words, num_words_in_sent), tuple of list of int\n",
    "    \"\"\"\n",
    "    get_num_docs(results)\n",
    "    num_sents = get_sentence_stats(results, dataset_name)\n",
    "    num_words = get_word_stats(results, dataset_name)\n",
    "    num_words_in_sent = get_words_per_sent(results)\n",
    "    \n",
    "    return (num_sents, num_words, num_words_in_sent)"
   ]
  },
  {
   "cell_type": "markdown",
   "metadata": {},
   "source": [
    "#### Plotting\n",
    "Plotting boxplots for number of words and sentences per document"
   ]
  },
  {
   "cell_type": "code",
   "execution_count": 29,
   "metadata": {},
   "outputs": [],
   "source": [
    "def plot_corpus_sents(num_sent_in_docs):\n",
    "    \"\"\"\n",
    "    Plot the number of sentences in each document.\n",
    "    \"\"\"\n",
    "    # Sentences per document \n",
    "    ax = sns.violinplot(data=num_sent_in_docs)\n",
    "    ax.set_title('Number of sentences in each document')\n",
    "    ax.set_ylabel('Number of sentences')"
   ]
  },
  {
   "cell_type": "code",
   "execution_count": 27,
   "metadata": {},
   "outputs": [],
   "source": [
    "def plot_corpus_words(num_words_in_docs):\n",
    "    \"\"\"\n",
    "    Plot the number of words in each document\n",
    "    \"\"\"\n",
    "    # Words per document \n",
    "    ax = sns.violinplot(data=num_words_in_docs)\n",
    "    ax.set_title('Number of words in each document')\n",
    "    ax.set_ylabel('Number of words')"
   ]
  },
  {
   "cell_type": "code",
   "execution_count": 15,
   "metadata": {},
   "outputs": [],
   "source": [
    "def plot_corpus_words_per_sent(num_words_in_sent):\n",
    "    \"\"\"\n",
    "    Plot the number of words per sentence in the corpus.\n",
    "    \"\"\"        \n",
    "    ax = sns.violinplot(data=num_words_in_sent)\n",
    "    ax.set_title('Number of words per sentence')\n",
    "    ax.set_ylabel('Number of words')"
   ]
  },
  {
   "cell_type": "markdown",
   "metadata": {},
   "source": [
    "## Graph statistics\n",
    "----------------------\n",
    "### Mean & median numbers of predictions, overall and per doc\n",
    "We want to see how many predictions each model made, overall and on a per doc basis. Will get numbers as well as making plots.\n"
   ]
  },
  {
   "cell_type": "code",
   "execution_count": 49,
   "metadata": {},
   "outputs": [],
   "source": [
    "def get_pred_ent_stats(pred_list, model_name):\n",
    "    \"\"\"\n",
    "    Get prediction statistics for model output for NER only. \n",
    "    \n",
    "    parameters:\n",
    "        pred_list, list of dict: json objects from dygiepp output\n",
    "        model_name, str: name of model. Should have suffix of '_ents'\n",
    "        \n",
    "    returns:\n",
    "        stats_df, df: columns are model_name | stats...\n",
    "    \"\"\"\n",
    "    abs_num_preds = []\n",
    "    num_ents_norm_sents = []\n",
    "    num_ents_norm_words = []\n",
    "    for doc in pred_list:\n",
    "\n",
    "        num_preds = sum([len(sentence) for sentence in doc['predicted_ner']])\n",
    "        num_sents = len(doc['sentences'])\n",
    "        num_words = sum([len(sentence) for sentence in doc['sentences']])\n",
    "\n",
    "        abs_num_preds.append(num_preds)\n",
    "        num_ents_norm_sents.append(num_preds/num_sents)\n",
    "        num_ents_norm_words.append(num_preds/num_words)\n",
    "\n",
    "    ### Statistics\n",
    "    stats = {}\n",
    "    stats['model_name'] = model_name\n",
    "    stats['total_preds'] = sum(abs_num_preds)\n",
    "    stats['mean_norm_sents'] = mean(num_ents_norm_sents)\n",
    "    stats['mean_norm_words'] = mean(num_ents_norm_words)\n",
    "    stats['median_norm_sents'] = median(num_ents_norm_sents)\n",
    "    stats['median_norm_words'] = median(num_ents_norm_words)\n",
    "    stats['least_norm_sents'] = min(num_ents_norm_sents)\n",
    "    stats['least_norm_words'] = min(num_ents_norm_words)\n",
    "    stats['greatest_norm_sents'] = max(num_ents_norm_sents)\n",
    "    stats['greatest_norm_words'] = max(num_ents_norm_words)\n",
    "\n",
    "    print(f'Total predictions: {stats[\"total_preds\"]}\\n')\n",
    "    print(f'Mean predictions per doc, normalized by number of sentences: {stats[\"mean_norm_sents\"]:.2f} predictions per sentence')\n",
    "    print(f'Mean predictions per doc, normalized by number of words: {stats[\"mean_norm_words\"]:.2f} predictions per word\\n')\n",
    "    print(f'Median predictions per doc, normalized by number of sentences: {stats[\"median_norm_sents\"]:.2f} predictions per sentence')\n",
    "    print(f'Median predictions per doc, normalized by number of words: {stats[\"median_norm_words\"]:.2f} predictions per word\\n')\n",
    "    print(f'Least number of predictions per doc, normalized by number of sentences: {stats[\"least_norm_sents\"]:.2f} predictions per sentence')\n",
    "    print(f'Least number of predictions per doc, normalized by number of words: {stats[\"least_norm_words\"]:.2f} predictions per word\\n')\n",
    "    print(f'Greatest number of predictions per doc, normalized by number of sentences: {stats[\"greatest_norm_sents\"]:.2f} predictions per sentence')\n",
    "    print(f'Greatest number of predictions per doc, normalized by number of words: {stats[\"greatest_norm_words\"]:.2f} predictions per word\\n')\n",
    "\n",
    "    for key, value in stats.items():\n",
    "        stats[key] = [value]\n",
    "    \n",
    "    stats_df = pd.DataFrame(stats)\n",
    "    \n",
    "    return stats_df"
   ]
  },
  {
   "cell_type": "code",
   "execution_count": 48,
   "metadata": {},
   "outputs": [],
   "source": [
    "# Relations (triples)\n",
    "def get_pred_rels_stats(pred_list, model_name):\n",
    "    \"\"\"\n",
    "    Get prediction statistics for model output for triples only. \n",
    "    \n",
    "    parameters:\n",
    "        pred_list, list of dict: json objects from dygiepp output\n",
    "        model_name, str: name of model. Should have suffix of '_rels'\n",
    "        \n",
    "    returns:\n",
    "        stats_df, df: columns are model_name | stats...\n",
    "    \"\"\"\n",
    "    abs_num_preds = []\n",
    "    num_rels_norm_sents = []\n",
    "    num_rels_norm_words = []\n",
    "    for doc in pred_list:\n",
    "\n",
    "        num_preds = sum([len(sentence) for sentence in doc['predicted_relations']])\n",
    "        num_sents = len(doc['sentences'])\n",
    "        num_words = sum([len(sentence) for sentence in doc['sentences']])\n",
    "\n",
    "        abs_num_preds.append(num_preds)\n",
    "        num_rels_norm_sents.append(num_preds/num_sents)\n",
    "        num_rels_norm_words.append(num_preds/num_words)\n",
    "\n",
    "    ### Statistics\n",
    "    stats = {}\n",
    "    stats['model_name'] = model_name\n",
    "    stats['total_preds'] = sum(abs_num_preds)\n",
    "    stats['mean_norm_sents'] = mean(num_rels_norm_sents)\n",
    "    stats['mean_norm_words'] = mean(num_rels_norm_words)\n",
    "    stats['median_norm_sents'] = median(num_rels_norm_sents)\n",
    "    stats['median_norm_words'] = median(num_rels_norm_words)\n",
    "    stats['least_norm_sents'] = min(num_rels_norm_sents)\n",
    "    stats['least_norm_words'] = min(num_rels_norm_words)\n",
    "    stats['greatest_norm_sents'] = max(num_rels_norm_sents)\n",
    "    stats['greatest_norm_words'] = max(num_rels_norm_words)\n",
    "\n",
    "    print(f'Total predictions: {stats[\"total_preds\"]}\\n')\n",
    "    print(f'Mean predictions per doc, normalized by number of sentences: {stats[\"mean_norm_sents\"]:.2f} predictions per sentence')\n",
    "    print(f'Mean predictions per doc, normalized by number of words: {stats[\"mean_norm_words\"]:.2f} predictions per word\\n')\n",
    "    print(f'Median predictions per doc, normalized by number of sentences: {stats[\"median_norm_sents\"]:.2f} predictions per sentence')\n",
    "    print(f'Median predictions per doc, normalized by number of words: {stats[\"median_norm_words\"]:.2f} predictions per word\\n')\n",
    "    print(f'Least number of predictions per doc, normalized by number of sentences: {stats[\"least_norm_sents\"]:.2f} predictions per sentence')\n",
    "    print(f'Least number of predictions per doc, normalized by number of words: {stats[\"least_norm_words\"]:.2f} predictions per word\\n')\n",
    "    print(f'Greatest number of predictions per doc, normalized by number of sentences: {stats[\"greatest_norm_sents\"]:.2f} predictions per sentence')\n",
    "    print(f'Greatest number of predictions per doc, normalized by number of words: {stats[\"greatest_norm_words\"]:.2f} predictions per word\\n')\n",
    "\n",
    "    for key, value in stats.items():\n",
    "        stats[key] = [value]\n",
    "    \n",
    "    stats_df = pd.DataFrame(stats)\n",
    "    \n",
    "    return stats_df"
   ]
  },
  {
   "cell_type": "markdown",
   "metadata": {},
   "source": [
    "#### Plotting\n",
    "Making two plots, one for normalization by sentences and another for normalization by words. There will be 4 items on each plot, two for each model, one rels and one ents. Each dot in the plot represents one document. Swarmplot was too computationally intensive and too big to be interpretable, so there aren't actually dots -- would have preferred to do violin plots here, but they don't come out as interpretable either for some reason here."
   ]
  },
  {
   "cell_type": "code",
   "execution_count": 59,
   "metadata": {},
   "outputs": [],
   "source": [
    "def get_plot_data(pred_list, model_name):\n",
    "    \"\"\"\n",
    "    Get data for plots.\n",
    "    \n",
    "    paramters:\n",
    "        pred_list, list of dict: list of json objects from dygiepp output\n",
    "        model_name, str: name of model (no suffix)\n",
    "        \n",
    "    returns:\n",
    "        plot_data, dict: keys are f'{model_name}_rels', f'{model_name}_ents', values are lists of data points\n",
    "    \"\"\"\n",
    "    # Get entity data\n",
    "    num_ents_norm_sents = []\n",
    "    num_ents_norm_words = []\n",
    "    \n",
    "    for doc in pred_list:\n",
    "\n",
    "        num_preds = sum([len(sentence) for sentence in doc['predicted_ner']])\n",
    "        num_sents = len(doc['sentences'])\n",
    "        num_words = sum([len(sentence) for sentence in doc['sentences']])\n",
    "\n",
    "        num_ents_norm_sents.append(num_preds/num_sents)\n",
    "        num_ents_norm_words.append(num_preds/num_words)\n",
    "        \n",
    "    # Get relation data\n",
    "    num_rels_norm_sents = []\n",
    "    num_rels_norm_words = []\n",
    "    \n",
    "    for doc in pred_list:\n",
    "\n",
    "        num_preds = sum([len(sentence) for sentence in doc['predicted_relations']])\n",
    "        num_sents = len(doc['sentences'])\n",
    "        num_words = sum([len(sentence) for sentence in doc['sentences']])\n",
    "\n",
    "        num_rels_norm_sents.append(num_preds/num_sents)\n",
    "        num_rels_norm_words.append(num_preds/num_words)\n",
    "        \n",
    "    # Make dict\n",
    "    plot_data = {f'{model_name}_ents_norm_sents':num_ents_norm_sents,\n",
    "                f'{model_name}_ents_norm_words':num_ents_norm_words,\n",
    "                f'{model_name}_rels_norm_sents':num_rels_norm_sents,\n",
    "                f'{model_name}_rels_norm_words':num_rels_norm_words}\n",
    "    \n",
    "    return plot_data"
   ]
  },
  {
   "cell_type": "markdown",
   "metadata": {},
   "source": [
    "### Number of unique entities\n",
    "Want to see how many of the total predicted entities (from ner and relations) are unique."
   ]
  },
  {
   "cell_type": "markdown",
   "metadata": {},
   "source": [
    "### Softmax scores\n",
    "Softmax scores represent how confident the model is about its predictions. Unclear whether this is the confidence in predicting the span as an entity or in predicting its type. Each \"dot\" in the plot represents one prediction."
   ]
  },
  {
   "cell_type": "code",
   "execution_count": 61,
   "metadata": {},
   "outputs": [],
   "source": [
    "def get_softmax(pred_list):\n",
    "    \"\"\"\n",
    "    Gets the softmax scores for a model's predictions of entities and relations.\n",
    "    \n",
    "    parameters:\n",
    "        pred_list, list of dict: dygiepp output\n",
    "        \n",
    "    returns:\n",
    "        (ents_softmax, rels_softmax), two lists: softmax scores for predictions of entities and relations, \n",
    "            respectively.\n",
    "    \"\"\"\n",
    "    # Get entity prediction softmax scores \n",
    "    ents_softmax = []\n",
    "    for doc in pred_list:\n",
    "        for sentence in doc['predicted_ner']:\n",
    "            for ent_pred in sentence:\n",
    "                ents_softmax.append(ent_pred[-1])\n",
    "                \n",
    "    # Get relation prediction softmax scores\n",
    "    rels_softmax = []\n",
    "    for doc in pred_list:\n",
    "        for sentence in doc['predicted_relations']:\n",
    "            for rel_pred in sentence:\n",
    "                rels_softmax.append(rel_pred[-1])\n",
    "                \n",
    "    return ents_softmax, rels_softmax"
   ]
  },
  {
   "cell_type": "markdown",
   "metadata": {},
   "source": [
    "## Applying functions\n",
    "---------------------\n",
    "Here, we'll apply the above functions to get statistics and plots about the corpus and model predictions. For code that requires the raw prediction datasets, the first part of this section will be split into three, one for each dataset, and datasets wil be deleted after they are used. Then, the remainder (more memory efficient) plotting data will be used to make the combined plots about all three datasets."
   ]
  },
  {
   "cell_type": "markdown",
   "metadata": {},
   "source": [
    "### SciERC (with coref)"
   ]
  },
  {
   "cell_type": "markdown",
   "metadata": {},
   "source": [
    "#### Reading in the data:"
   ]
  },
  {
   "cell_type": "code",
   "execution_count": 50,
   "metadata": {},
   "outputs": [],
   "source": [
    "results = read_predictions('../data/first_manuscript_data/dygiepp/pretrained_output/withCoref/scierc/noPunct_SciERC_predictions.jsonl')"
   ]
  },
  {
   "cell_type": "markdown",
   "metadata": {},
   "source": [
    "#### Getting corpus statistics: \n",
    "Since the corpus is identical across models, we'll get corpus statistics here."
   ]
  },
  {
   "cell_type": "code",
   "execution_count": 51,
   "metadata": {},
   "outputs": [
    {
     "name": "stdout",
     "output_type": "stream",
     "text": [
      "8000 documents were used to build the graphs.\n",
      "\n",
      "77719 sentences were used to build the graphs using the scierc model.\n",
      "There are an average of 9.71 sentences per doc, and a median value of 10.0 sentences per doc.\n",
      "The largest doc has 32 sentences, and the smallest doc has 1.\n",
      "\n",
      "There are a total of 1700963 words in the documents used to build the graph using the scierc model.\n",
      "There are an average of 212.62 words per doc, and a median value of 212.0\n",
      "The longest doc has 621 words, and the shortest doc has 7.\n",
      "\n"
     ]
    }
   ],
   "source": [
    "num_sents, num_words, num_word_in_sent = get_corpus_stats(results, 'scierc')"
   ]
  },
  {
   "cell_type": "code",
   "execution_count": 52,
   "metadata": {},
   "outputs": [
    {
     "data": {
      "image/png": "[encoded data removed]",
      "text/plain": [
       "<Figure size 432x288 with 1 Axes>"
      ]
     },
     "metadata": {
      "needs_background": "light"
     },
     "output_type": "display_data"
    }
   ],
   "source": [
    "plot_corpus_sents(num_sents)"
   ]
  },
  {
   "cell_type": "code",
   "execution_count": 53,
   "metadata": {},
   "outputs": [
    {
     "data": {
      "image/png": "[encoded data removed]",
      "text/plain": [
       "<Figure size 432x288 with 1 Axes>"
      ]
     },
     "metadata": {
      "needs_background": "light"
     },
     "output_type": "display_data"
    }
   ],
   "source": [
    "plot_corpus_words(num_words)"
   ]
  },
  {
   "cell_type": "code",
   "execution_count": 54,
   "metadata": {},
   "outputs": [
    {
     "data": {
      "image/png": "[encoded data removed]",
      "text/plain": [
       "<Figure size 432x288 with 1 Axes>"
      ]
     },
     "metadata": {
      "needs_background": "light"
     },
     "output_type": "display_data"
    }
   ],
   "source": [
    "plot_corpus_words_per_sent(num_word_in_sent)"
   ]
  },
  {
   "cell_type": "markdown",
   "metadata": {},
   "source": [
    "#### Getting per graph data:"
   ]
  },
  {
   "cell_type": "code",
   "execution_count": 56,
   "metadata": {
    "scrolled": true
   },
   "outputs": [
    {
     "name": "stdout",
     "output_type": "stream",
     "text": [
      "Total predictions: 237206\n",
      "\n",
      "Mean predictions per doc, normalized by number of sentences: 3.14 predictions per sentence\n",
      "Mean predictions per doc, normalized by number of words: 0.14 predictions per word\n",
      "\n",
      "Median predictions per doc, normalized by number of sentences: 3.10 predictions per sentence\n",
      "Median predictions per doc, normalized by number of words: 0.14 predictions per word\n",
      "\n",
      "Least number of predictions per doc, normalized by number of sentences: 0.00 predictions per sentence\n",
      "Least number of predictions per doc, normalized by number of words: 0.00 predictions per word\n",
      "\n",
      "Greatest number of predictions per doc, normalized by number of sentences: 10.00 predictions per sentence\n",
      "Greatest number of predictions per doc, normalized by number of words: 0.25 predictions per word\n",
      "\n"
     ]
    }
   ],
   "source": [
    "scierc_ent_stats = get_pred_ent_stats(results, 'scierc')"
   ]
  },
  {
   "cell_type": "code",
   "execution_count": 57,
   "metadata": {},
   "outputs": [
    {
     "name": "stdout",
     "output_type": "stream",
     "text": [
      "Total predictions: 65338\n",
      "\n",
      "Mean predictions per doc, normalized by number of sentences: 0.87 predictions per sentence\n",
      "Mean predictions per doc, normalized by number of words: 0.04 predictions per word\n",
      "\n",
      "Median predictions per doc, normalized by number of sentences: 0.78 predictions per sentence\n",
      "Median predictions per doc, normalized by number of words: 0.04 predictions per word\n",
      "\n",
      "Least number of predictions per doc, normalized by number of sentences: 0.00 predictions per sentence\n",
      "Least number of predictions per doc, normalized by number of words: 0.00 predictions per word\n",
      "\n",
      "Greatest number of predictions per doc, normalized by number of sentences: 5.00 predictions per sentence\n",
      "Greatest number of predictions per doc, normalized by number of words: 0.28 predictions per word\n",
      "\n"
     ]
    }
   ],
   "source": [
    "scierc_rels_stats = get_pred_rels_stats(results, 'scierc')"
   ]
  },
  {
   "cell_type": "code",
   "execution_count": 60,
   "metadata": {},
   "outputs": [],
   "source": [
    "scierc_plot_data = get_plot_data(results, 'scierc')"
   ]
  },
  {
   "cell_type": "markdown",
   "metadata": {},
   "source": [
    "#### Getting softmax scores:"
   ]
  },
  {
   "cell_type": "code",
   "execution_count": 63,
   "metadata": {},
   "outputs": [],
   "source": [
    "scierc_ents_softmax, scierc_rels_softmax = get_softmax(results)"
   ]
  },
  {
   "cell_type": "markdown",
   "metadata": {},
   "source": [
    "### ACE05 (naturally lightweight)"
   ]
  },
  {
   "cell_type": "markdown",
   "metadata": {},
   "source": [
    "#### Reading in the data:"
   ]
  },
  {
   "cell_type": "code",
   "execution_count": 64,
   "metadata": {},
   "outputs": [],
   "source": [
    "results = read_predictions('../data/first_manuscript_data/dygiepp/pretrained_output/lightweight/ace05/noPunct_ACE05_predictions.jsonl')"
   ]
  },
  {
   "cell_type": "markdown",
   "metadata": {},
   "source": [
    "#### Getting per graph data:"
   ]
  },
  {
   "cell_type": "code",
   "execution_count": 65,
   "metadata": {
    "scrolled": true
   },
   "outputs": [
    {
     "name": "stdout",
     "output_type": "stream",
     "text": [
      "Total predictions: 82670\n",
      "\n",
      "Mean predictions per doc, normalized by number of sentences: 1.09 predictions per sentence\n",
      "Mean predictions per doc, normalized by number of words: 0.05 predictions per word\n",
      "\n",
      "Median predictions per doc, normalized by number of sentences: 1.00 predictions per sentence\n",
      "Median predictions per doc, normalized by number of words: 0.05 predictions per word\n",
      "\n",
      "Least number of predictions per doc, normalized by number of sentences: 0.00 predictions per sentence\n",
      "Least number of predictions per doc, normalized by number of words: 0.00 predictions per word\n",
      "\n",
      "Greatest number of predictions per doc, normalized by number of sentences: 5.10 predictions per sentence\n",
      "Greatest number of predictions per doc, normalized by number of words: 0.20 predictions per word\n",
      "\n"
     ]
    }
   ],
   "source": [
    "ace05_ent_stats = get_pred_ent_stats(results, 'ace05')"
   ]
  },
  {
   "cell_type": "code",
   "execution_count": 66,
   "metadata": {},
   "outputs": [
    {
     "name": "stdout",
     "output_type": "stream",
     "text": [
      "Total predictions: 1040\n",
      "\n",
      "Mean predictions per doc, normalized by number of sentences: 0.01 predictions per sentence\n",
      "Mean predictions per doc, normalized by number of words: 0.00 predictions per word\n",
      "\n",
      "Median predictions per doc, normalized by number of sentences: 0.00 predictions per sentence\n",
      "Median predictions per doc, normalized by number of words: 0.00 predictions per word\n",
      "\n",
      "Least number of predictions per doc, normalized by number of sentences: 0.00 predictions per sentence\n",
      "Least number of predictions per doc, normalized by number of words: 0.00 predictions per word\n",
      "\n",
      "Greatest number of predictions per doc, normalized by number of sentences: 1.50 predictions per sentence\n",
      "Greatest number of predictions per doc, normalized by number of words: 0.08 predictions per word\n",
      "\n"
     ]
    }
   ],
   "source": [
    "ace05_rels_stats = get_pred_rels_stats(results, 'ace05')"
   ]
  },
  {
   "cell_type": "code",
   "execution_count": 67,
   "metadata": {},
   "outputs": [],
   "source": [
    "ace05_plot_data = get_plot_data(results, 'ace05')"
   ]
  },
  {
   "cell_type": "markdown",
   "metadata": {},
   "source": [
    "#### Getting softmax scores:"
   ]
  },
  {
   "cell_type": "code",
   "execution_count": 68,
   "metadata": {},
   "outputs": [],
   "source": [
    "ace05_ents_softmax, ace05_rels_softmax = get_softmax(results)"
   ]
  },
  {
   "cell_type": "markdown",
   "metadata": {},
   "source": [
    "### SciERC (lightweight)"
   ]
  },
  {
   "cell_type": "markdown",
   "metadata": {},
   "source": [
    "#### Reading in the data: "
   ]
  },
  {
   "cell_type": "code",
   "execution_count": 69,
   "metadata": {},
   "outputs": [],
   "source": [
    "results = read_predictions('../data/first_manuscript_data/dygiepp/pretrained_output/lightweight/scierc/SciERC_predictions.jsonl')"
   ]
  },
  {
   "cell_type": "markdown",
   "metadata": {},
   "source": [
    "#### Getting per graph data:"
   ]
  },
  {
   "cell_type": "code",
   "execution_count": 70,
   "metadata": {
    "scrolled": true
   },
   "outputs": [
    {
     "name": "stdout",
     "output_type": "stream",
     "text": [
      "Total predictions: 301015\n",
      "\n",
      "Mean predictions per doc, normalized by number of sentences: 4.04 predictions per sentence\n",
      "Mean predictions per doc, normalized by number of words: 0.15 predictions per word\n",
      "\n",
      "Median predictions per doc, normalized by number of sentences: 3.91 predictions per sentence\n",
      "Median predictions per doc, normalized by number of words: 0.15 predictions per word\n",
      "\n",
      "Least number of predictions per doc, normalized by number of sentences: 0.00 predictions per sentence\n",
      "Least number of predictions per doc, normalized by number of words: 0.00 predictions per word\n",
      "\n",
      "Greatest number of predictions per doc, normalized by number of sentences: 19.00 predictions per sentence\n",
      "Greatest number of predictions per doc, normalized by number of words: 0.41 predictions per word\n",
      "\n"
     ]
    }
   ],
   "source": [
    "scierc_light_ent_stats = get_pred_ent_stats(results, 'scierc_light')"
   ]
  },
  {
   "cell_type": "code",
   "execution_count": 71,
   "metadata": {},
   "outputs": [
    {
     "name": "stdout",
     "output_type": "stream",
     "text": [
      "Total predictions: 112563\n",
      "\n",
      "Mean predictions per doc, normalized by number of sentences: 1.49 predictions per sentence\n",
      "Mean predictions per doc, normalized by number of words: 0.06 predictions per word\n",
      "\n",
      "Median predictions per doc, normalized by number of sentences: 1.00 predictions per sentence\n",
      "Median predictions per doc, normalized by number of words: 0.04 predictions per word\n",
      "\n",
      "Least number of predictions per doc, normalized by number of sentences: 0.00 predictions per sentence\n",
      "Least number of predictions per doc, normalized by number of words: 0.00 predictions per word\n",
      "\n",
      "Greatest number of predictions per doc, normalized by number of sentences: 41.93 predictions per sentence\n",
      "Greatest number of predictions per doc, normalized by number of words: 2.38 predictions per word\n",
      "\n"
     ]
    }
   ],
   "source": [
    "scierc_light_rels_stats = get_pred_rels_stats(results, 'scierc_light')"
   ]
  },
  {
   "cell_type": "code",
   "execution_count": 72,
   "metadata": {},
   "outputs": [],
   "source": [
    "scierc_light_plot_data = get_plot_data(results, 'scierc_light')"
   ]
  },
  {
   "cell_type": "markdown",
   "metadata": {},
   "source": [
    "#### Getting softmax scores:"
   ]
  },
  {
   "cell_type": "code",
   "execution_count": 73,
   "metadata": {},
   "outputs": [],
   "source": [
    "scierc_light_ents_softmax, scierc_light_rels_softmax = get_softmax(results)"
   ]
  },
  {
   "cell_type": "code",
   "execution_count": 77,
   "metadata": {},
   "outputs": [
    {
     "data": {
      "text/plain": [
       "dict_keys(['scierc_light_ents_norm_sents', 'scierc_light_ents_norm_words', 'scierc_light_rels_norm_sents', 'scierc_light_rels_norm_words'])"
      ]
     },
     "execution_count": 77,
     "metadata": {},
     "output_type": "execute_result"
    }
   ],
   "source": [
    "scierc_light_plot_data.keys()"
   ]
  },
  {
   "cell_type": "markdown",
   "metadata": {},
   "source": [
    "### Combined plots "
   ]
  },
  {
   "cell_type": "markdown",
   "metadata": {},
   "source": [
    "#### Prediction numbers\n",
    "---------------------"
   ]
  },
  {
   "cell_type": "code",
   "execution_count": 85,
   "metadata": {},
   "outputs": [
    {
     "data": {
      "text/plain": [
       "[Text(0, 0, 'scierc_entities'),\n",
       " Text(1, 0, 'ace05_entities'),\n",
       " Text(2, 0, 'scierc_light_entities'),\n",
       " Text(3, 0, 'scierc_relations'),\n",
       " Text(4, 0, 'ace05_relations'),\n",
       " Text(5, 0, 'scierc_light_relations')]"
      ]
     },
     "execution_count": 85,
     "metadata": {},
     "output_type": "execute_result"
    },
    {
     "data": {
      "image/png": "[encoded data removed]",
      "text/plain": [
       "<Figure size 432x288 with 1 Axes>"
      ]
     },
     "metadata": {
      "needs_background": "light"
     },
     "output_type": "display_data"
    }
   ],
   "source": [
    "# Sentence plot \n",
    "## Make dtaframe \n",
    "sentence_df = pd.DataFrame({'scierc_entities':scierc_plot_data['scierc_ents_norm_sents'],\n",
    "                           'ace05_entities':ace05_plot_data['ace05_ents_norm_sents'],\n",
    "                           'scierc_light_entities':scierc_light_plot_data['scierc_light_ents_norm_sents'],  \n",
    "                           'scierc_relations':scierc_plot_data['scierc_rels_norm_sents'],\n",
    "                           'ace05_relations':ace05_plot_data['ace05_rels_norm_sents'],\n",
    "                           'scierc_light_relations':scierc_light_plot_data['scierc_light_rels_norm_sents']})\n",
    "\n",
    "## Make plot\n",
    "ax = sns.boxplot(data=sentence_df)\n",
    "ax.set_title('Number of predictions per sentence in document', fontsize=14)\n",
    "ax.set_ylabel('# predictions / # of sentences in doc', fontsize=12)\n",
    "ax.set_xticklabels(sentence_df.columns.values.tolist(), rotation=45)"
   ]
  },
  {
   "cell_type": "code",
   "execution_count": 87,
   "metadata": {
    "scrolled": true
   },
   "outputs": [
    {
     "data": {
      "text/plain": [
       "[Text(0, 0, 'scierc_entities'),\n",
       " Text(1, 0, 'ace05_entities'),\n",
       " Text(2, 0, 'scierc_light_entities'),\n",
       " Text(3, 0, 'scierc_relations'),\n",
       " Text(4, 0, 'ace05_relations'),\n",
       " Text(5, 0, 'scierc_light_relations')]"
      ]
     },
     "execution_count": 87,
     "metadata": {},
     "output_type": "execute_result"
    },
    {
     "data": {
      "image/png": "[encoded data removed]",
      "text/plain": [
       "<Figure size 432x288 with 1 Axes>"
      ]
     },
     "metadata": {
      "needs_background": "light"
     },
     "output_type": "display_data"
    }
   ],
   "source": [
    "# Word plot \n",
    "## Make dtaframe \n",
    "words_df = pd.DataFrame({'scierc_entities':scierc_plot_data['scierc_ents_norm_words'],\n",
    "                           'ace05_entities':ace05_plot_data['ace05_ents_norm_words'],\n",
    "                           'scierc_light_entities':scierc_light_plot_data['scierc_light_ents_norm_words'],\n",
    "                           'scierc_relations':scierc_plot_data['scierc_rels_norm_words'],\n",
    "                           'ace05_relations':ace05_plot_data['ace05_rels_norm_words'],\n",
    "                           'scierc_light_relations':scierc_light_plot_data['scierc_light_rels_norm_words']})\n",
    "\n",
    "## Make plot\n",
    "ax = sns.boxplot(data=words_df)\n",
    "ax.set_title('Number of predictions per word in document', fontsize=14)\n",
    "ax.set_ylabel('# predictions / # of words in doc', fontsize=12)\n",
    "ax.set_xticklabels(words_df.columns.values.tolist(), rotation=45)"
   ]
  },
  {
   "cell_type": "markdown",
   "metadata": {},
   "source": [
    "Also want to plot a bar plot with the total numbers of each type of prediction for each model."
   ]
  },
  {
   "cell_type": "code",
   "execution_count": 99,
   "metadata": {},
   "outputs": [
    {
     "data": {
      "text/html": [
       "<div>\n",
       "<style scoped>\n",
       "    .dataframe tbody tr th:only-of-type {\n",
       "        vertical-align: middle;\n",
       "    }\n",
       "\n",
       "    .dataframe tbody tr th {\n",
       "        vertical-align: top;\n",
       "    }\n",
       "\n",
       "    .dataframe thead th {\n",
       "        text-align: right;\n",
       "    }\n",
       "</style>\n",
       "<table border=\"1\" class=\"dataframe\">\n",
       "  <thead>\n",
       "    <tr style=\"text-align: right;\">\n",
       "      <th></th>\n",
       "      <th>model_name</th>\n",
       "      <th>total_preds</th>\n",
       "      <th>mean_norm_sents</th>\n",
       "      <th>mean_norm_words</th>\n",
       "      <th>median_norm_sents</th>\n",
       "      <th>median_norm_words</th>\n",
       "      <th>least_norm_sents</th>\n",
       "      <th>least_norm_words</th>\n",
       "      <th>greatest_norm_sents</th>\n",
       "      <th>greatest_norm_words</th>\n",
       "    </tr>\n",
       "  </thead>\n",
       "  <tbody>\n",
       "    <tr>\n",
       "      <th>0</th>\n",
       "      <td>ace05</td>\n",
       "      <td>1040</td>\n",
       "      <td>0.013175</td>\n",
       "      <td>0.00058</td>\n",
       "      <td>0.0</td>\n",
       "      <td>0.0</td>\n",
       "      <td>0.0</td>\n",
       "      <td>0.0</td>\n",
       "      <td>1.5</td>\n",
       "      <td>0.07619</td>\n",
       "    </tr>\n",
       "  </tbody>\n",
       "</table>\n",
       "</div>"
      ],
      "text/plain": [
       "  model_name  total_preds  mean_norm_sents  mean_norm_words  \\\n",
       "0      ace05         1040         0.013175          0.00058   \n",
       "\n",
       "   median_norm_sents  median_norm_words  least_norm_sents  least_norm_words  \\\n",
       "0                0.0                0.0               0.0               0.0   \n",
       "\n",
       "   greatest_norm_sents  greatest_norm_words  \n",
       "0                  1.5              0.07619  "
      ]
     },
     "execution_count": 99,
     "metadata": {},
     "output_type": "execute_result"
    }
   ],
   "source": [
    "ace05_rels_stats"
   ]
  },
  {
   "cell_type": "code",
   "execution_count": 102,
   "metadata": {},
   "outputs": [
    {
     "data": {
      "text/html": [
       "<div>\n",
       "<style scoped>\n",
       "    .dataframe tbody tr th:only-of-type {\n",
       "        vertical-align: middle;\n",
       "    }\n",
       "\n",
       "    .dataframe tbody tr th {\n",
       "        vertical-align: top;\n",
       "    }\n",
       "\n",
       "    .dataframe thead th {\n",
       "        text-align: right;\n",
       "    }\n",
       "</style>\n",
       "<table border=\"1\" class=\"dataframe\">\n",
       "  <thead>\n",
       "    <tr style=\"text-align: right;\">\n",
       "      <th></th>\n",
       "      <th>scierc_ents</th>\n",
       "      <th>ace05_ents</th>\n",
       "      <th>scierc_light_ents</th>\n",
       "      <th>scierc_rels</th>\n",
       "      <th>ace05_rels</th>\n",
       "      <th>scierc_light_rels</th>\n",
       "    </tr>\n",
       "  </thead>\n",
       "  <tbody>\n",
       "    <tr>\n",
       "      <th>0</th>\n",
       "      <td>237206</td>\n",
       "      <td>82670</td>\n",
       "      <td>301015</td>\n",
       "      <td>65338</td>\n",
       "      <td>1040</td>\n",
       "      <td>112563</td>\n",
       "    </tr>\n",
       "  </tbody>\n",
       "</table>\n",
       "</div>"
      ],
      "text/plain": [
       "   scierc_ents  ace05_ents  scierc_light_ents  scierc_rels  ace05_rels  \\\n",
       "0       237206       82670             301015        65338        1040   \n",
       "\n",
       "   scierc_light_rels  \n",
       "0             112563  "
      ]
     },
     "execution_count": 102,
     "metadata": {},
     "output_type": "execute_result"
    }
   ],
   "source": [
    "# Get numbers for each\n",
    "stats_dict = {}\n",
    "for model_stat_df in [scierc_ent_stats, ace05_ent_stats, scierc_light_ent_stats]:\n",
    "    stats_dict[model_stat_df['model_name'].loc[0] + '_ents'] = [model_stat_df['total_preds'].loc[0]]\n",
    "    \n",
    "for model_stat_df in [scierc_rels_stats, ace05_rels_stats, scierc_light_rels_stats]:\n",
    "    stats_dict[model_stat_df['model_name'].loc[0] + '_rels'] = [model_stat_df['total_preds'].loc[0]]\n",
    "\n",
    "total_stats_df = pd.DataFrame(stats_dict)\n",
    "total_stats_df.head()"
   ]
  },
  {
   "cell_type": "code",
   "execution_count": 104,
   "metadata": {},
   "outputs": [
    {
     "data": {
      "text/plain": [
       "(array([0, 1, 2, 3, 4, 5]),\n",
       " [Text(0, 0, 'scierc_ents'),\n",
       "  Text(1, 0, 'ace05_ents'),\n",
       "  Text(2, 0, 'scierc_light_ents'),\n",
       "  Text(3, 0, 'scierc_rels'),\n",
       "  Text(4, 0, 'ace05_rels'),\n",
       "  Text(5, 0, 'scierc_light_rels')])"
      ]
     },
     "execution_count": 104,
     "metadata": {},
     "output_type": "execute_result"
    },
    {
     "data": {
      "image/png": "[encoded data removed]",
      "text/plain": [
       "<Figure size 432x288 with 1 Axes>"
      ]
     },
     "metadata": {
      "needs_background": "light"
     },
     "output_type": "display_data"
    }
   ],
   "source": [
    "# Plot \n",
    "ax = sns.barplot(data=total_stats_df)\n",
    "ax.set_title('Total number of predictions', fontsize=14)\n",
    "ax.set_ylabel('Total number of predictions', fontsize=12)\n",
    "plt.xticks(rotation=90)"
   ]
  },
  {
   "cell_type": "code",
   "execution_count": 108,
   "metadata": {
    "scrolled": true
   },
   "outputs": [
    {
     "data": {
      "text/plain": [
       "(array([0, 1, 2, 3, 4, 5]),\n",
       " [Text(0, 0, 'scierc_entities'),\n",
       "  Text(1, 0, 'ace05_entities'),\n",
       "  Text(2, 0, 'scierc_light_entities'),\n",
       "  Text(3, 0, 'scierc_relations'),\n",
       "  Text(4, 0, 'ace05_relations'),\n",
       "  Text(5, 0, 'scierc_light_relations')])"
      ]
     },
     "execution_count": 108,
     "metadata": {},
     "output_type": "execute_result"
    },
    {
     "data": {
      "image/png": "[encoded data removed]",
      "text/plain": [
       "<Figure size 432x288 with 1 Axes>"
      ]
     },
     "metadata": {
      "needs_background": "light"
     },
     "output_type": "display_data"
    }
   ],
   "source": [
    "# Softmax plot \n",
    "## Make dataframe\n",
    "lists =  [scierc_ents_softmax, ace05_ents_softmax, scierc_light_ents_softmax, scierc_rels_softmax, ace05_rels_softmax, scierc_light_rels_softmax]\n",
    "list_names = ['scierc_entities', 'ace05_entities', 'scierc_light_entities', 'scierc_relations', 'ace05_relations', 'scierc_light_relations']\n",
    "index_col = []\n",
    "softmax_col = []\n",
    "for name, data in zip(list_names, lists):\n",
    "    for item in data:\n",
    "        index_col.append(name)\n",
    "        softmax_col.append(item)\n",
    "\n",
    "long_softmax_df = pd.DataFrame({'prediction_type':index_col, 'softmax_score':softmax_col})\n",
    "\n",
    "## Make plot\n",
    "ax = sns.violinplot(x='prediction_type', y='softmax_score', data=long_softmax_df)\n",
    "ax.set_title('Softmax scores for model predictions', fontsize=14)\n",
    "ax.set_xlabel('Prediction type', fontsize=12)\n",
    "ax.set_ylabel('Softmax score', fontsize=12)\n",
    "plt.xticks(rotation=90)"
   ]
  },
  {
   "cell_type": "code",
   "execution_count": 109,
   "metadata": {},
   "outputs": [
    {
     "data": {
      "text/html": [
       "<div>\n",
       "<style scoped>\n",
       "    .dataframe tbody tr th:only-of-type {\n",
       "        vertical-align: middle;\n",
       "    }\n",
       "\n",
       "    .dataframe tbody tr th {\n",
       "        vertical-align: top;\n",
       "    }\n",
       "\n",
       "    .dataframe thead th {\n",
       "        text-align: right;\n",
       "    }\n",
       "</style>\n",
       "<table border=\"1\" class=\"dataframe\">\n",
       "  <thead>\n",
       "    <tr style=\"text-align: right;\">\n",
       "      <th></th>\n",
       "      <th>softmax_score</th>\n",
       "    </tr>\n",
       "    <tr>\n",
       "      <th>prediction_type</th>\n",
       "      <th></th>\n",
       "    </tr>\n",
       "  </thead>\n",
       "  <tbody>\n",
       "    <tr>\n",
       "      <th>ace05_entities</th>\n",
       "      <td>0.883853</td>\n",
       "    </tr>\n",
       "    <tr>\n",
       "      <th>ace05_relations</th>\n",
       "      <td>0.867150</td>\n",
       "    </tr>\n",
       "    <tr>\n",
       "      <th>scierc_entities</th>\n",
       "      <td>0.940701</td>\n",
       "    </tr>\n",
       "    <tr>\n",
       "      <th>scierc_light_entities</th>\n",
       "      <td>0.897008</td>\n",
       "    </tr>\n",
       "    <tr>\n",
       "      <th>scierc_light_relations</th>\n",
       "      <td>0.805659</td>\n",
       "    </tr>\n",
       "    <tr>\n",
       "      <th>scierc_relations</th>\n",
       "      <td>0.948415</td>\n",
       "    </tr>\n",
       "  </tbody>\n",
       "</table>\n",
       "</div>"
      ],
      "text/plain": [
       "                        softmax_score\n",
       "prediction_type                      \n",
       "ace05_entities               0.883853\n",
       "ace05_relations              0.867150\n",
       "scierc_entities              0.940701\n",
       "scierc_light_entities        0.897008\n",
       "scierc_light_relations       0.805659\n",
       "scierc_relations             0.948415"
      ]
     },
     "execution_count": 109,
     "metadata": {},
     "output_type": "execute_result"
    }
   ],
   "source": [
    "# Get mean and median for each \n",
    "grouped_df = long_softmax_df.groupby('prediction_type')\n",
    "grouped_df.mean()"
   ]
  },
  {
   "cell_type": "code",
   "execution_count": 110,
   "metadata": {},
   "outputs": [
    {
     "data": {
      "text/html": [
       "<div>\n",
       "<style scoped>\n",
       "    .dataframe tbody tr th:only-of-type {\n",
       "        vertical-align: middle;\n",
       "    }\n",
       "\n",
       "    .dataframe tbody tr th {\n",
       "        vertical-align: top;\n",
       "    }\n",
       "\n",
       "    .dataframe thead th {\n",
       "        text-align: right;\n",
       "    }\n",
       "</style>\n",
       "<table border=\"1\" class=\"dataframe\">\n",
       "  <thead>\n",
       "    <tr style=\"text-align: right;\">\n",
       "      <th></th>\n",
       "      <th>softmax_score</th>\n",
       "    </tr>\n",
       "    <tr>\n",
       "      <th>prediction_type</th>\n",
       "      <th></th>\n",
       "    </tr>\n",
       "  </thead>\n",
       "  <tbody>\n",
       "    <tr>\n",
       "      <th>ace05_entities</th>\n",
       "      <td>0.9921</td>\n",
       "    </tr>\n",
       "    <tr>\n",
       "      <th>ace05_relations</th>\n",
       "      <td>0.9469</td>\n",
       "    </tr>\n",
       "    <tr>\n",
       "      <th>scierc_entities</th>\n",
       "      <td>0.9998</td>\n",
       "    </tr>\n",
       "    <tr>\n",
       "      <th>scierc_light_entities</th>\n",
       "      <td>0.9896</td>\n",
       "    </tr>\n",
       "    <tr>\n",
       "      <th>scierc_light_relations</th>\n",
       "      <td>0.9481</td>\n",
       "    </tr>\n",
       "    <tr>\n",
       "      <th>scierc_relations</th>\n",
       "      <td>0.9997</td>\n",
       "    </tr>\n",
       "  </tbody>\n",
       "</table>\n",
       "</div>"
      ],
      "text/plain": [
       "                        softmax_score\n",
       "prediction_type                      \n",
       "ace05_entities                 0.9921\n",
       "ace05_relations                0.9469\n",
       "scierc_entities                0.9998\n",
       "scierc_light_entities          0.9896\n",
       "scierc_light_relations         0.9481\n",
       "scierc_relations               0.9997"
      ]
     },
     "execution_count": 110,
     "metadata": {},
     "output_type": "execute_result"
    }
   ],
   "source": [
    "grouped_df.median()"
   ]
  }
 ],
 "metadata": {
  "kernelspec": {
   "display_name": "kg",
   "language": "python",
   "name": "kg"
  },
  "language_info": {
   "codemirror_mode": {
    "name": "ipython",
    "version": 3
   },
   "file_extension": ".py",
   "mimetype": "text/x-python",
   "name": "python",
   "nbconvert_exporter": "python",
   "pygments_lexer": "ipython3",
   "version": "3.8.5"
  }
 },
 "nbformat": 4,
 "nbformat_minor": 4
}
