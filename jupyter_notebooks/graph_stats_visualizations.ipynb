{
 "cells": [
  {
   "cell_type": "markdown",
   "metadata": {},
   "source": [
    "# Visualizing KG statistics\n",
    "In this notebook, we will be visualizing statistics about the KG generated with DyGIE++, as well as statistics about the corpus from which the graphs were generated: number of docs, words per doc, mean/median number of predictions (entities and relations) for each model, number of unique entities overall, mean/median number of predictions for each doc, as well as plotting the softmax scores for predictions from each model.\n",
    "<br><br>\n",
    "Due to Jupyter's memory limitations, each section with its corresponding markdown explanations will only have function definitions. The function definitions will be applied to one dataset at a time at the end of the notebook, deleting the unused data between each run to avoid saturating the memory allocation."
   ]
  },
  {
   "cell_type": "code",
   "execution_count": 1,
   "metadata": {},
   "outputs": [],
   "source": [
    "import pandas as pd\n",
    "import jsonlines\n",
    "\n",
    "from statistics import mean, median\n",
    "import matplotlib.pyplot as plt\n",
    "import seaborn as sns\n",
    "%matplotlib inline"
   ]
  },
  {
   "cell_type": "markdown",
   "metadata": {},
   "source": [
    "## Reading in the data \n",
    "----------------------------"
   ]
  },
  {
   "cell_type": "code",
   "execution_count": 2,
   "metadata": {},
   "outputs": [],
   "source": [
    "def read_predictions(path):\n",
    "    \"\"\"\n",
    "    Read in the dygiepp prediction file.\n",
    "    \n",
    "    parameters:\n",
    "        path, str: path to dygiepp output file\n",
    "        \n",
    "    returns: \n",
    "        results, list of dict: list of prediction dicts\n",
    "    \"\"\"\n",
    "    results = []\n",
    "    with jsonlines.open(path) as reader:\n",
    "        for obj in reader:\n",
    "            results.append(obj)\n",
    "    \n",
    "    return results"
   ]
  },
  {
   "cell_type": "markdown",
   "metadata": {},
   "source": [
    "## Application corpus statistics\n",
    "---------------------\n",
    "### Number of docs\n",
    "There is one json object in the prediction file per document. The same set of docs was used to build both graphs."
   ]
  },
  {
   "cell_type": "code",
   "execution_count": 3,
   "metadata": {},
   "outputs": [],
   "source": [
    "def get_num_docs(results):\n",
    "    \"\"\"\n",
    "    Helper for get_corpus_stats.\n",
    "    \"\"\"\n",
    "    print(f'{len(results)} documents were used to build the graphs.\\n')"
   ]
  },
  {
   "cell_type": "markdown",
   "metadata": {},
   "source": [
    "### Total sentences & sentences per doc, total words & words per doc\n",
    "Each object contains a list of lists, where each internal list is a sentence, and list elements are sentence tokens. This includes periods -- will not subtract these from the count, since the model considers them to be words."
   ]
  },
  {
   "cell_type": "code",
   "execution_count": 4,
   "metadata": {},
   "outputs": [],
   "source": [
    "def get_sentence_stats(results, dataset_name):\n",
    "    \"\"\"\n",
    "    Helper for get_corpus_stats\n",
    "    \"\"\"\n",
    "    # Get number of sentences in each doc\n",
    "    num_sent_in_docs = []\n",
    "    for doc in results:\n",
    "        num_sent_in_docs.append(len(doc['sentences']))\n",
    "\n",
    "    # Calculate stats\n",
    "    total_sent = sum(num_sent_in_docs)\n",
    "    mean_sent_per_doc = mean(num_sent_in_docs)\n",
    "    median_sent_per_doc = median(num_sent_in_docs)\n",
    "    largest_doc = max(num_sent_in_docs)\n",
    "    smallest_doc = min(num_sent_in_docs)\n",
    "\n",
    "    print(f'{total_sent} sentences were used to build the graphs using the {dataset_name} model.')\n",
    "    print(f'There are an average of {mean_sent_per_doc:.2f} sentences per doc, and a median value of {median_sent_per_doc} sentences per doc.')\n",
    "    print(f'The largest doc has {largest_doc} sentences, and the smallest doc has {smallest_doc}.\\n')\n",
    "    \n",
    "    return num_sent_in_docs"
   ]
  },
  {
   "cell_type": "code",
   "execution_count": 5,
   "metadata": {},
   "outputs": [],
   "source": [
    "def get_word_stats(results, dataset_name):\n",
    "    \"\"\"\n",
    "    Helper for get_corpus_stats.\n",
    "    \"\"\"\n",
    "    # Get number of words in each doc\n",
    "    num_words_in_docs = []\n",
    "    for doc in results:\n",
    "        num_words = 0\n",
    "        for sentence in doc['sentences']:\n",
    "            num_words += len(sentence)\n",
    "        num_words_in_docs.append(num_words)\n",
    "\n",
    "    # Calculate stats\n",
    "    total_words = sum(num_words_in_docs)\n",
    "    mean_words_per_doc = mean(num_words_in_docs)\n",
    "    median_words_per_doc = median(num_words_in_docs)\n",
    "    longest_doc = max(num_words_in_docs)\n",
    "    shortest_doc = min(num_words_in_docs)\n",
    "\n",
    "    print(f'There are a total of {total_words} words in the documents used to build the graph using the {dataset_name} model.')\n",
    "    print(f'There are an average of {mean_words_per_doc:.2f} words per doc, and a median value of {median_words_per_doc}')\n",
    "    print(f'The longest doc has {longest_doc} words, and the shortest doc has {shortest_doc}.\\n')\n",
    "    \n",
    "    return num_words_in_docs"
   ]
  },
  {
   "cell_type": "code",
   "execution_count": 6,
   "metadata": {},
   "outputs": [],
   "source": [
    "def get_words_per_sent(results):\n",
    "    \"\"\"\n",
    "    Helper for get_corpus_stats.\n",
    "    \"\"\"\n",
    "    # Words per sentence\n",
    "    num_words_in_sent = []\n",
    "    for doc in results:\n",
    "        for sentence in doc['sentences']:\n",
    "            num_words_in_sent.append(len(sentence))\n",
    "            \n",
    "    return num_words_in_sent"
   ]
  },
  {
   "cell_type": "code",
   "execution_count": 7,
   "metadata": {},
   "outputs": [],
   "source": [
    "def get_chars_per_sent(results):\n",
    "    \"\"\"\n",
    "    Get the number of non-space characters per sentence.\n",
    "    \"\"\"\n",
    "    num_chars_in_sent = []\n",
    "    for doc in results:\n",
    "        for sentence in doc['sentences']:\n",
    "            sent_str = ''.join(sentence)\n",
    "            num_chars = len(sent_str)\n",
    "            num_chars_in_sent.append(num_chars)\n",
    "            \n",
    "    return num_chars_in_sent"
   ]
  },
  {
   "cell_type": "code",
   "execution_count": 8,
   "metadata": {},
   "outputs": [],
   "source": [
    "def get_corpus_stats(results, dataset_name):\n",
    "    \"\"\"\n",
    "    Get corpus stats.\n",
    "    \n",
    "    parameters: \n",
    "        results, list of dict: prediction results from dygiepp \n",
    "        dataset_name, str: name of the dataset\n",
    "    \n",
    "    returns:\n",
    "        (num_sents, num_words, num_words_in_sent), tuple of list of int\n",
    "    \"\"\"\n",
    "    get_num_docs(results)\n",
    "    num_sents = get_sentence_stats(results, dataset_name)\n",
    "    num_words = get_word_stats(results, dataset_name)\n",
    "    num_words_in_sent = get_words_per_sent(results)\n",
    "    \n",
    "    return (num_sents, num_words, num_words_in_sent)"
   ]
  },
  {
   "cell_type": "markdown",
   "metadata": {},
   "source": [
    "#### Plotting\n",
    "Plotting boxplots for number of words and sentences per document"
   ]
  },
  {
   "cell_type": "code",
   "execution_count": 9,
   "metadata": {},
   "outputs": [],
   "source": [
    "def plot_corpus_sents(num_sent_in_docs):\n",
    "    \"\"\"\n",
    "    Plot the number of sentences in each document.\n",
    "    \"\"\"\n",
    "    # Sentences per document \n",
    "    ax = sns.violinplot(data=num_sent_in_docs)\n",
    "    ax.set_title('Number of sentences in each document')\n",
    "    ax.set_ylabel('Number of sentences')"
   ]
  },
  {
   "cell_type": "code",
   "execution_count": 10,
   "metadata": {},
   "outputs": [],
   "source": [
    "def plot_corpus_words(num_words_in_docs):\n",
    "    \"\"\"\n",
    "    Plot the number of words in each document\n",
    "    \"\"\"\n",
    "    # Words per document \n",
    "    ax = sns.violinplot(data=num_words_in_docs)\n",
    "    ax.set_title('Number of words in each document')\n",
    "    ax.set_ylabel('Number of words')"
   ]
  },
  {
   "cell_type": "code",
   "execution_count": 11,
   "metadata": {},
   "outputs": [],
   "source": [
    "def plot_corpus_words_per_sent(num_words_in_sent):\n",
    "    \"\"\"\n",
    "    Plot the number of words per sentence in the corpus.\n",
    "    \"\"\"        \n",
    "    ax = sns.violinplot(data=num_words_in_sent)\n",
    "    ax.set_title('Number of words per sentence')\n",
    "    ax.set_ylabel('Number of words')"
   ]
  },
  {
   "cell_type": "code",
   "execution_count": 12,
   "metadata": {},
   "outputs": [],
   "source": [
    "def plot_corpus_chars_per_sent(num_chars_per_sent):\n",
    "    \"\"\"\n",
    "    Plot the unmber of characters in each sentence.\n",
    "    \"\"\"\n",
    "    ax = sns.violinplot(data=num_chars_per_sent)\n",
    "    ax.set_title('Number of characters per sentence')\n",
    "    ax.set_ylabel('Number of characters')"
   ]
  },
  {
   "cell_type": "markdown",
   "metadata": {},
   "source": [
    "## Graph statistics\n",
    "----------------------\n",
    "### Mean & median numbers of predictions, overall and per doc\n",
    "We want to see how many predictions each model made, overall and on a per doc basis. Will get numbers as well as making plots.\n"
   ]
  },
  {
   "cell_type": "code",
   "execution_count": 13,
   "metadata": {},
   "outputs": [],
   "source": [
    "def get_pred_ent_stats(pred_list, model_name):\n",
    "    \"\"\"\n",
    "    Get prediction statistics for model output for NER only. \n",
    "    \n",
    "    parameters:\n",
    "        pred_list, list of dict: json objects from dygiepp output\n",
    "        model_name, str: name of model. Should have suffix of '_ents'\n",
    "        \n",
    "    returns:\n",
    "        stats_df, df: columns are model_name | stats...\n",
    "    \"\"\"\n",
    "    abs_num_preds = []\n",
    "    num_ents_norm_sents = []\n",
    "    num_ents_norm_words = []\n",
    "    for doc in pred_list:\n",
    "\n",
    "        num_preds = sum([len(sentence) for sentence in doc['predicted_ner']])\n",
    "        num_sents = len(doc['sentences'])\n",
    "        num_words = sum([len(sentence) for sentence in doc['sentences']])\n",
    "\n",
    "        abs_num_preds.append(num_preds)\n",
    "        num_ents_norm_sents.append(num_preds/num_sents)\n",
    "        num_ents_norm_words.append(num_preds/num_words)\n",
    "\n",
    "    ### Statistics\n",
    "    stats = {}\n",
    "    stats['model_name'] = model_name\n",
    "    stats['total_preds'] = sum(abs_num_preds)\n",
    "    stats['mean_norm_sents'] = mean(num_ents_norm_sents)\n",
    "    stats['mean_norm_words'] = mean(num_ents_norm_words)\n",
    "    stats['median_norm_sents'] = median(num_ents_norm_sents)\n",
    "    stats['median_norm_words'] = median(num_ents_norm_words)\n",
    "    stats['least_norm_sents'] = min(num_ents_norm_sents)\n",
    "    stats['least_norm_words'] = min(num_ents_norm_words)\n",
    "    stats['greatest_norm_sents'] = max(num_ents_norm_sents)\n",
    "    stats['greatest_norm_words'] = max(num_ents_norm_words)\n",
    "\n",
    "    print(f'Total predictions: {stats[\"total_preds\"]}\\n')\n",
    "    print(f'Mean predictions per doc, normalized by number of sentences: {stats[\"mean_norm_sents\"]:.2f} predictions per sentence')\n",
    "    print(f'Mean predictions per doc, normalized by number of words: {stats[\"mean_norm_words\"]:.2f} predictions per word\\n')\n",
    "    print(f'Median predictions per doc, normalized by number of sentences: {stats[\"median_norm_sents\"]:.2f} predictions per sentence')\n",
    "    print(f'Median predictions per doc, normalized by number of words: {stats[\"median_norm_words\"]:.2f} predictions per word\\n')\n",
    "    print(f'Least number of predictions per doc, normalized by number of sentences: {stats[\"least_norm_sents\"]:.2f} predictions per sentence')\n",
    "    print(f'Least number of predictions per doc, normalized by number of words: {stats[\"least_norm_words\"]:.2f} predictions per word\\n')\n",
    "    print(f'Greatest number of predictions per doc, normalized by number of sentences: {stats[\"greatest_norm_sents\"]:.2f} predictions per sentence')\n",
    "    print(f'Greatest number of predictions per doc, normalized by number of words: {stats[\"greatest_norm_words\"]:.2f} predictions per word\\n')\n",
    "\n",
    "    for key, value in stats.items():\n",
    "        stats[key] = [value]\n",
    "    \n",
    "    stats_df = pd.DataFrame(stats)\n",
    "    \n",
    "    return stats_df"
   ]
  },
  {
   "cell_type": "code",
   "execution_count": 14,
   "metadata": {},
   "outputs": [],
   "source": [
    "# Relations (triples)\n",
    "def get_pred_rels_stats(pred_list, model_name):\n",
    "    \"\"\"\n",
    "    Get prediction statistics for model output for triples only. \n",
    "    \n",
    "    parameters:\n",
    "        pred_list, list of dict: json objects from dygiepp output\n",
    "        model_name, str: name of model. Should have suffix of '_rels'\n",
    "        \n",
    "    returns:\n",
    "        stats_df, df: columns are model_name | stats...\n",
    "    \"\"\"\n",
    "    abs_num_preds = []\n",
    "    num_rels_norm_sents = []\n",
    "    num_rels_norm_words = []\n",
    "    for doc in pred_list:\n",
    "\n",
    "        num_preds = sum([len(sentence) for sentence in doc['predicted_relations']])\n",
    "        num_sents = len(doc['sentences'])\n",
    "        num_words = sum([len(sentence) for sentence in doc['sentences']])\n",
    "\n",
    "        abs_num_preds.append(num_preds)\n",
    "        num_rels_norm_sents.append(num_preds/num_sents)\n",
    "        num_rels_norm_words.append(num_preds/num_words)\n",
    "\n",
    "    ### Statistics\n",
    "    stats = {}\n",
    "    stats['model_name'] = model_name\n",
    "    stats['total_preds'] = sum(abs_num_preds)\n",
    "    stats['mean_norm_sents'] = mean(num_rels_norm_sents)\n",
    "    stats['mean_norm_words'] = mean(num_rels_norm_words)\n",
    "    stats['median_norm_sents'] = median(num_rels_norm_sents)\n",
    "    stats['median_norm_words'] = median(num_rels_norm_words)\n",
    "    stats['least_norm_sents'] = min(num_rels_norm_sents)\n",
    "    stats['least_norm_words'] = min(num_rels_norm_words)\n",
    "    stats['greatest_norm_sents'] = max(num_rels_norm_sents)\n",
    "    stats['greatest_norm_words'] = max(num_rels_norm_words)\n",
    "\n",
    "    print(f'Total predictions: {stats[\"total_preds\"]}\\n')\n",
    "    print(f'Mean predictions per doc, normalized by number of sentences: {stats[\"mean_norm_sents\"]:.2f} predictions per sentence')\n",
    "    print(f'Mean predictions per doc, normalized by number of words: {stats[\"mean_norm_words\"]:.2f} predictions per word\\n')\n",
    "    print(f'Median predictions per doc, normalized by number of sentences: {stats[\"median_norm_sents\"]:.2f} predictions per sentence')\n",
    "    print(f'Median predictions per doc, normalized by number of words: {stats[\"median_norm_words\"]:.2f} predictions per word\\n')\n",
    "    print(f'Least number of predictions per doc, normalized by number of sentences: {stats[\"least_norm_sents\"]:.2f} predictions per sentence')\n",
    "    print(f'Least number of predictions per doc, normalized by number of words: {stats[\"least_norm_words\"]:.2f} predictions per word\\n')\n",
    "    print(f'Greatest number of predictions per doc, normalized by number of sentences: {stats[\"greatest_norm_sents\"]:.2f} predictions per sentence')\n",
    "    print(f'Greatest number of predictions per doc, normalized by number of words: {stats[\"greatest_norm_words\"]:.2f} predictions per word\\n')\n",
    "\n",
    "    for key, value in stats.items():\n",
    "        stats[key] = [value]\n",
    "    \n",
    "    stats_df = pd.DataFrame(stats)\n",
    "    \n",
    "    return stats_df"
   ]
  },
  {
   "cell_type": "markdown",
   "metadata": {},
   "source": [
    "#### Plotting\n",
    "Making two plots, one for normalization by sentences and another for normalization by words. There will be 4 items on each plot, two for each model, one rels and one ents. Each dot in the plot represents one document. Swarmplot was too computationally intensive and too big to be interpretable, so there aren't actually dots -- would have preferred to do violin plots here, but they don't come out as interpretable either for some reason here."
   ]
  },
  {
   "cell_type": "code",
   "execution_count": 15,
   "metadata": {},
   "outputs": [],
   "source": [
    "def get_plot_data(pred_list, model_name):\n",
    "    \"\"\"\n",
    "    Get data for plots.\n",
    "    \n",
    "    paramters:\n",
    "        pred_list, list of dict: list of json objects from dygiepp output\n",
    "        model_name, str: name of model (no suffix)\n",
    "        \n",
    "    returns:\n",
    "        plot_data, dict: keys are f'{model_name}_rels_{normalization_type}', \n",
    "            f'{model_name}_ents_{normalization_type}', values are lists of data points\n",
    "    \"\"\"\n",
    "    # Get entity data\n",
    "    num_ents_norm_sents = []\n",
    "    num_ents_norm_words = []\n",
    "    \n",
    "    for doc in pred_list:\n",
    "\n",
    "        num_preds = sum([len(sentence) for sentence in doc['predicted_ner']])\n",
    "        num_sents = len(doc['sentences'])\n",
    "        num_words = sum([len(sentence) for sentence in doc['sentences']])\n",
    "\n",
    "        num_ents_norm_sents.append(num_preds/num_sents)\n",
    "        num_ents_norm_words.append(num_preds/num_words)\n",
    "        \n",
    "    # Get relation data\n",
    "    num_rels_norm_sents = []\n",
    "    num_rels_norm_words = []\n",
    "    \n",
    "    for doc in pred_list:\n",
    "\n",
    "        num_preds = sum([len(sentence) for sentence in doc['predicted_relations']])\n",
    "        num_sents = len(doc['sentences'])\n",
    "        num_words = sum([len(sentence) for sentence in doc['sentences']])\n",
    "\n",
    "        num_rels_norm_sents.append(num_preds/num_sents)\n",
    "        num_rels_norm_words.append(num_preds/num_words)\n",
    "        \n",
    "    # Make dict\n",
    "    plot_data = {f'{model_name}_ents_norm_sents':num_ents_norm_sents,\n",
    "                f'{model_name}_ents_norm_words':num_ents_norm_words,\n",
    "                f'{model_name}_rels_norm_sents':num_rels_norm_sents,\n",
    "                f'{model_name}_rels_norm_words':num_rels_norm_words}\n",
    "    \n",
    "    return plot_data"
   ]
  },
  {
   "cell_type": "code",
   "execution_count": 16,
   "metadata": {},
   "outputs": [],
   "source": [
    "def get_plot_data_no_rels(pred_list, model_name):\n",
    "    \"\"\"\n",
    "    Get data for plots.\n",
    "    \n",
    "    paramters:\n",
    "        pred_list, list of dict: list of json objects from dygiepp output\n",
    "        model_name, str: name of model (no suffix)\n",
    "        \n",
    "    returns:\n",
    "        plot_data, dict: keys are f'{model_name}_ents_{normalization_type}', values are lists of data points\n",
    "    \"\"\"\n",
    "    # Get entity data\n",
    "    num_ents_norm_sents = []\n",
    "    num_ents_norm_words = []\n",
    "    \n",
    "    for doc in pred_list:\n",
    "\n",
    "        num_preds = sum([len(sentence) for sentence in doc['predicted_ner']])\n",
    "        num_sents = len(doc['sentences'])\n",
    "        num_words = sum([len(sentence) for sentence in doc['sentences']])\n",
    "\n",
    "        num_ents_norm_sents.append(num_preds/num_sents)\n",
    "        num_ents_norm_words.append(num_preds/num_words)\n",
    "        \n",
    "        \n",
    "    # Make dict\n",
    "    plot_data = {f'{model_name}_ents_norm_sents':num_ents_norm_sents,\n",
    "                f'{model_name}_ents_norm_words':num_ents_norm_words}\n",
    "    \n",
    "    return plot_data"
   ]
  },
  {
   "cell_type": "markdown",
   "metadata": {},
   "source": [
    "### Number of unique entities\n",
    "Want to see how many of the total predicted entities (from ner and relations) are unique."
   ]
  },
  {
   "cell_type": "markdown",
   "metadata": {},
   "source": [
    "### Softmax scores\n",
    "Softmax scores represent how confident the model is about its predictions. Unclear whether this is the confidence in predicting the span as an entity or in predicting its type. Each \"dot\" in the plot represents one prediction."
   ]
  },
  {
   "cell_type": "code",
   "execution_count": 17,
   "metadata": {},
   "outputs": [],
   "source": [
    "def get_softmax(pred_list):\n",
    "    \"\"\"\n",
    "    Gets the softmax scores for a model's predictions of entities and relations.\n",
    "    \n",
    "    parameters:\n",
    "        pred_list, list of dict: dygiepp output\n",
    "        \n",
    "    returns:\n",
    "        (ents_softmax, rels_softmax), two lists: softmax scores for predictions of entities and relations, \n",
    "            respectively.\n",
    "    \"\"\"\n",
    "    # Get entity prediction softmax scores \n",
    "    ents_softmax = []\n",
    "    for doc in pred_list:\n",
    "        for sentence in doc['predicted_ner']:\n",
    "            for ent_pred in sentence:\n",
    "                ents_softmax.append(ent_pred[-1])\n",
    "                \n",
    "    # Get relation prediction softmax scores\n",
    "    rels_softmax = []\n",
    "    for doc in pred_list:\n",
    "        for sentence in doc['predicted_relations']:\n",
    "            for rel_pred in sentence:\n",
    "                rels_softmax.append(rel_pred[-1])\n",
    "                \n",
    "    return ents_softmax, rels_softmax"
   ]
  },
  {
   "cell_type": "code",
   "execution_count": 18,
   "metadata": {},
   "outputs": [],
   "source": [
    "def get_softmax_no_rels(pred_list):\n",
    "    \"\"\"\n",
    "    Gets the softmax scores for a model's predictions of entities and relations.\n",
    "    \n",
    "    parameters:\n",
    "        pred_list, list of dict: dygiepp output\n",
    "        \n",
    "    returns:\n",
    "        ents_softmax, list: softmax scores for predictions of entities\n",
    "    \"\"\"\n",
    "    # Get entity prediction softmax scores \n",
    "    ents_softmax = []\n",
    "    for doc in pred_list:\n",
    "        for sentence in doc['predicted_ner']:\n",
    "            for ent_pred in sentence:\n",
    "                ents_softmax.append(ent_pred[-1])\n",
    "   \n",
    "    return ents_softmax"
   ]
  },
  {
   "cell_type": "markdown",
   "metadata": {},
   "source": [
    "## Applying functions\n",
    "---------------------\n",
    "Here, we'll apply the above functions to get statistics and plots about the corpus and model predictions. For code that requires the raw prediction datasets, the first part of this section will be split into three, one for each dataset, and datasets wil be deleted after they are used. Then, the remainder (more memory efficient) plotting data will be used to make the combined plots about all three datasets."
   ]
  },
  {
   "cell_type": "markdown",
   "metadata": {},
   "source": [
    "### SciERC (with coref)"
   ]
  },
  {
   "cell_type": "markdown",
   "metadata": {},
   "source": [
    "#### Reading in the data:"
   ]
  },
  {
   "cell_type": "code",
   "execution_count": 20,
   "metadata": {},
   "outputs": [],
   "source": [
    "results = read_predictions('../data/first_manuscript_data/dygiepp/pretrained_output/withCoref/scierc/noPunct_SciERC_predictions.jsonl')"
   ]
  },
  {
   "cell_type": "markdown",
   "metadata": {},
   "source": [
    "#### Getting corpus statistics: \n",
    "Since the corpus is identical across models, we'll get corpus statistics here."
   ]
  },
  {
   "cell_type": "code",
   "execution_count": 20,
   "metadata": {},
   "outputs": [
    {
     "name": "stdout",
     "output_type": "stream",
     "text": [
      "8000 documents were used to build the graphs.\n",
      "\n",
      "77719 sentences were used to build the graphs using the scierc model.\n",
      "There are an average of 9.71 sentences per doc, and a median value of 10.0 sentences per doc.\n",
      "The largest doc has 32 sentences, and the smallest doc has 1.\n",
      "\n",
      "There are a total of 1700963 words in the documents used to build the graph using the scierc model.\n",
      "There are an average of 212.62 words per doc, and a median value of 212.0\n",
      "The longest doc has 621 words, and the shortest doc has 7.\n",
      "\n"
     ]
    }
   ],
   "source": [
    "num_sents, num_words, num_word_in_sent = get_corpus_stats(results, 'scierc')"
   ]
  },
  {
   "cell_type": "code",
   "execution_count": 21,
   "metadata": {},
   "outputs": [],
   "source": [
    "num_chars_per_sent = get_chars_per_sent(results)"
   ]
  },
  {
   "cell_type": "code",
   "execution_count": 22,
   "metadata": {},
   "outputs": [
    {
     "name": "stdout",
     "output_type": "stream",
     "text": [
      "sents_per_doc.txt\n",
      "chars_per_sent.txt\n"
     ]
    }
   ],
   "source": [
    "# Write out corpus statistics to use with gibberish generator \n",
    "file_names = {'sents_per_doc.txt':num_sents, 'chars_per_sent.txt':num_chars_per_sent}\n",
    "\n",
    "for file_name, stat_list in file_names.items():\n",
    "    print(file_name)\n",
    "    df = pd.DataFrame(stat_list)\n",
    "    df.to_csv(f'../data/first_manuscript_data/gibberish_data/{file_name}', index=False, header=None)"
   ]
  },
  {
   "cell_type": "code",
   "execution_count": 23,
   "metadata": {
    "scrolled": true
   },
   "outputs": [
    {
     "data": {
      "image/png": "[encoded data removed]",
      "text/plain": [
       "<Figure size 432x288 with 1 Axes>"
      ]
     },
     "metadata": {
      "needs_background": "light"
     },
     "output_type": "display_data"
    }
   ],
   "source": [
    "plot_corpus_sents(num_sents)"
   ]
  },
  {
   "cell_type": "code",
   "execution_count": 24,
   "metadata": {},
   "outputs": [
    {
     "data": {
      "image/png": "[encoded data removed]",
      "text/plain": [
       "<Figure size 432x288 with 1 Axes>"
      ]
     },
     "metadata": {
      "needs_background": "light"
     },
     "output_type": "display_data"
    }
   ],
   "source": [
    "plot_corpus_words(num_words)"
   ]
  },
  {
   "cell_type": "code",
   "execution_count": 25,
   "metadata": {
    "scrolled": false
   },
   "outputs": [
    {
     "data": {
      "image/png": "[encoded data removed]",
      "text/plain": [
       "<Figure size 432x288 with 1 Axes>"
      ]
     },
     "metadata": {
      "needs_background": "light"
     },
     "output_type": "display_data"
    }
   ],
   "source": [
    "plot_corpus_words_per_sent(num_word_in_sent)"
   ]
  },
  {
   "cell_type": "code",
   "execution_count": 26,
   "metadata": {},
   "outputs": [
    {
     "data": {
      "image/png": "[encoded data removed]",
      "text/plain": [
       "<Figure size 432x288 with 1 Axes>"
      ]
     },
     "metadata": {
      "needs_background": "light"
     },
     "output_type": "display_data"
    }
   ],
   "source": [
    "plot_corpus_chars_per_sent(num_chars_per_sent)"
   ]
  },
  {
   "cell_type": "markdown",
   "metadata": {},
   "source": [
    "#### Getting gibberish corpus statistics \n",
    "Here, we'll also get the corpus statistics for the gibberish corpus to make sure their distributions look similar to those for the real corpus plotted above."
   ]
  },
  {
   "cell_type": "code",
   "execution_count": null,
   "metadata": {},
   "outputs": [],
   "source": [
    "gibberish_data = read_predictions('/mnt/home/lotrecks/Shiu_lab/knowledge-graph/data/first_manuscript_data/dygiepp/prepped_data/gibberishAll_dygiepp_formatted_data_scierc.jsonl')"
   ]
  },
  {
   "cell_type": "code",
   "execution_count": null,
   "metadata": {},
   "outputs": [],
   "source": [
    "num_sents_gib, num_words_gib, num_word_in_sent_gib = get_corpus_stats(gibberish_data, 'scierc_gib')"
   ]
  },
  {
   "cell_type": "code",
   "execution_count": null,
   "metadata": {},
   "outputs": [],
   "source": [
    "plot_corpus_sents(num_sents_gib)"
   ]
  },
  {
   "cell_type": "code",
   "execution_count": null,
   "metadata": {},
   "outputs": [],
   "source": [
    "plot_corpus_words(num_words_gib)"
   ]
  },
  {
   "cell_type": "code",
   "execution_count": null,
   "metadata": {
    "scrolled": true
   },
   "outputs": [],
   "source": [
    "plot_corpus_words_per_sent(num_word_in_sent_gib)"
   ]
  },
  {
   "cell_type": "code",
   "execution_count": null,
   "metadata": {},
   "outputs": [],
   "source": [
    "num_chars_per_sent_gib = get_chars_per_sent(gibberish_data)"
   ]
  },
  {
   "cell_type": "code",
   "execution_count": null,
   "metadata": {
    "scrolled": true
   },
   "outputs": [],
   "source": [
    "plot_corpus_chars_per_sent(num_chars_per_sent_gib)"
   ]
  },
  {
   "cell_type": "markdown",
   "metadata": {},
   "source": [
    "The means look similar enough that I'm satisfied with this!The shapes are a bit different, but I assume that's due to sampling with replacement amplifying the frequency of the lower numbers."
   ]
  },
  {
   "cell_type": "markdown",
   "metadata": {},
   "source": [
    "#### Getting per graph data:"
   ]
  },
  {
   "cell_type": "code",
   "execution_count": 21,
   "metadata": {
    "scrolled": true
   },
   "outputs": [
    {
     "name": "stdout",
     "output_type": "stream",
     "text": [
      "Total predictions: 237206\n",
      "\n",
      "Mean predictions per doc, normalized by number of sentences: 3.14 predictions per sentence\n",
      "Mean predictions per doc, normalized by number of words: 0.14 predictions per word\n",
      "\n",
      "Median predictions per doc, normalized by number of sentences: 3.10 predictions per sentence\n",
      "Median predictions per doc, normalized by number of words: 0.14 predictions per word\n",
      "\n",
      "Least number of predictions per doc, normalized by number of sentences: 0.00 predictions per sentence\n",
      "Least number of predictions per doc, normalized by number of words: 0.00 predictions per word\n",
      "\n",
      "Greatest number of predictions per doc, normalized by number of sentences: 10.00 predictions per sentence\n",
      "Greatest number of predictions per doc, normalized by number of words: 0.25 predictions per word\n",
      "\n"
     ]
    }
   ],
   "source": [
    "scierc_ent_stats = get_pred_ent_stats(results, 'scierc')"
   ]
  },
  {
   "cell_type": "code",
   "execution_count": 22,
   "metadata": {},
   "outputs": [
    {
     "name": "stdout",
     "output_type": "stream",
     "text": [
      "Total predictions: 65338\n",
      "\n",
      "Mean predictions per doc, normalized by number of sentences: 0.87 predictions per sentence\n",
      "Mean predictions per doc, normalized by number of words: 0.04 predictions per word\n",
      "\n",
      "Median predictions per doc, normalized by number of sentences: 0.78 predictions per sentence\n",
      "Median predictions per doc, normalized by number of words: 0.04 predictions per word\n",
      "\n",
      "Least number of predictions per doc, normalized by number of sentences: 0.00 predictions per sentence\n",
      "Least number of predictions per doc, normalized by number of words: 0.00 predictions per word\n",
      "\n",
      "Greatest number of predictions per doc, normalized by number of sentences: 5.00 predictions per sentence\n",
      "Greatest number of predictions per doc, normalized by number of words: 0.28 predictions per word\n",
      "\n"
     ]
    }
   ],
   "source": [
    "scierc_rels_stats = get_pred_rels_stats(results, 'scierc')"
   ]
  },
  {
   "cell_type": "code",
   "execution_count": 23,
   "metadata": {},
   "outputs": [],
   "source": [
    "scierc_plot_data = get_plot_data(results, 'scierc')"
   ]
  },
  {
   "cell_type": "markdown",
   "metadata": {},
   "source": [
    "#### Getting softmax scores:"
   ]
  },
  {
   "cell_type": "code",
   "execution_count": 24,
   "metadata": {},
   "outputs": [],
   "source": [
    "scierc_ents_softmax, scierc_rels_softmax = get_softmax(results)"
   ]
  },
  {
   "cell_type": "markdown",
   "metadata": {},
   "source": [
    "### ACE05 (naturally lightweight)"
   ]
  },
  {
   "cell_type": "markdown",
   "metadata": {},
   "source": [
    "#### Reading in the data:"
   ]
  },
  {
   "cell_type": "code",
   "execution_count": 25,
   "metadata": {},
   "outputs": [],
   "source": [
    "results = read_predictions('../data/first_manuscript_data/dygiepp/pretrained_output/lightweight/ace05/noPunct_ACE05_predictions.jsonl')"
   ]
  },
  {
   "cell_type": "markdown",
   "metadata": {},
   "source": [
    "#### Getting per graph data:"
   ]
  },
  {
   "cell_type": "code",
   "execution_count": 26,
   "metadata": {
    "scrolled": true
   },
   "outputs": [
    {
     "name": "stdout",
     "output_type": "stream",
     "text": [
      "Total predictions: 82670\n",
      "\n",
      "Mean predictions per doc, normalized by number of sentences: 1.09 predictions per sentence\n",
      "Mean predictions per doc, normalized by number of words: 0.05 predictions per word\n",
      "\n",
      "Median predictions per doc, normalized by number of sentences: 1.00 predictions per sentence\n",
      "Median predictions per doc, normalized by number of words: 0.05 predictions per word\n",
      "\n",
      "Least number of predictions per doc, normalized by number of sentences: 0.00 predictions per sentence\n",
      "Least number of predictions per doc, normalized by number of words: 0.00 predictions per word\n",
      "\n",
      "Greatest number of predictions per doc, normalized by number of sentences: 5.10 predictions per sentence\n",
      "Greatest number of predictions per doc, normalized by number of words: 0.20 predictions per word\n",
      "\n"
     ]
    }
   ],
   "source": [
    "ace05_ent_stats = get_pred_ent_stats(results, 'ace05')"
   ]
  },
  {
   "cell_type": "code",
   "execution_count": 27,
   "metadata": {},
   "outputs": [
    {
     "name": "stdout",
     "output_type": "stream",
     "text": [
      "Total predictions: 1040\n",
      "\n",
      "Mean predictions per doc, normalized by number of sentences: 0.01 predictions per sentence\n",
      "Mean predictions per doc, normalized by number of words: 0.00 predictions per word\n",
      "\n",
      "Median predictions per doc, normalized by number of sentences: 0.00 predictions per sentence\n",
      "Median predictions per doc, normalized by number of words: 0.00 predictions per word\n",
      "\n",
      "Least number of predictions per doc, normalized by number of sentences: 0.00 predictions per sentence\n",
      "Least number of predictions per doc, normalized by number of words: 0.00 predictions per word\n",
      "\n",
      "Greatest number of predictions per doc, normalized by number of sentences: 1.50 predictions per sentence\n",
      "Greatest number of predictions per doc, normalized by number of words: 0.08 predictions per word\n",
      "\n"
     ]
    }
   ],
   "source": [
    "ace05_rels_stats = get_pred_rels_stats(results, 'ace05')"
   ]
  },
  {
   "cell_type": "code",
   "execution_count": 28,
   "metadata": {},
   "outputs": [],
   "source": [
    "ace05_plot_data = get_plot_data(results, 'ace05')"
   ]
  },
  {
   "cell_type": "markdown",
   "metadata": {},
   "source": [
    "#### Getting softmax scores:"
   ]
  },
  {
   "cell_type": "code",
   "execution_count": 29,
   "metadata": {},
   "outputs": [],
   "source": [
    "ace05_ents_softmax, ace05_rels_softmax = get_softmax(results)"
   ]
  },
  {
   "cell_type": "markdown",
   "metadata": {},
   "source": [
    "### SciERC (lightweight)"
   ]
  },
  {
   "cell_type": "markdown",
   "metadata": {},
   "source": [
    "#### Reading in the data: "
   ]
  },
  {
   "cell_type": "code",
   "execution_count": 30,
   "metadata": {},
   "outputs": [],
   "source": [
    "results = read_predictions('../data/first_manuscript_data/dygiepp/pretrained_output/lightweight/scierc-light/SciERC_predictions.jsonl')"
   ]
  },
  {
   "cell_type": "markdown",
   "metadata": {},
   "source": [
    "#### Getting per graph data:"
   ]
  },
  {
   "cell_type": "code",
   "execution_count": 31,
   "metadata": {
    "scrolled": true
   },
   "outputs": [
    {
     "name": "stdout",
     "output_type": "stream",
     "text": [
      "Total predictions: 301015\n",
      "\n",
      "Mean predictions per doc, normalized by number of sentences: 4.04 predictions per sentence\n",
      "Mean predictions per doc, normalized by number of words: 0.15 predictions per word\n",
      "\n",
      "Median predictions per doc, normalized by number of sentences: 3.91 predictions per sentence\n",
      "Median predictions per doc, normalized by number of words: 0.15 predictions per word\n",
      "\n",
      "Least number of predictions per doc, normalized by number of sentences: 0.00 predictions per sentence\n",
      "Least number of predictions per doc, normalized by number of words: 0.00 predictions per word\n",
      "\n",
      "Greatest number of predictions per doc, normalized by number of sentences: 19.00 predictions per sentence\n",
      "Greatest number of predictions per doc, normalized by number of words: 0.41 predictions per word\n",
      "\n"
     ]
    }
   ],
   "source": [
    "scierc_light_ent_stats = get_pred_ent_stats(results, 'scierc_light')"
   ]
  },
  {
   "cell_type": "code",
   "execution_count": 32,
   "metadata": {},
   "outputs": [
    {
     "name": "stdout",
     "output_type": "stream",
     "text": [
      "Total predictions: 112563\n",
      "\n",
      "Mean predictions per doc, normalized by number of sentences: 1.49 predictions per sentence\n",
      "Mean predictions per doc, normalized by number of words: 0.06 predictions per word\n",
      "\n",
      "Median predictions per doc, normalized by number of sentences: 1.00 predictions per sentence\n",
      "Median predictions per doc, normalized by number of words: 0.04 predictions per word\n",
      "\n",
      "Least number of predictions per doc, normalized by number of sentences: 0.00 predictions per sentence\n",
      "Least number of predictions per doc, normalized by number of words: 0.00 predictions per word\n",
      "\n",
      "Greatest number of predictions per doc, normalized by number of sentences: 41.93 predictions per sentence\n",
      "Greatest number of predictions per doc, normalized by number of words: 2.38 predictions per word\n",
      "\n"
     ]
    }
   ],
   "source": [
    "scierc_light_rels_stats = get_pred_rels_stats(results, 'scierc_light')"
   ]
  },
  {
   "cell_type": "code",
   "execution_count": 33,
   "metadata": {},
   "outputs": [],
   "source": [
    "scierc_light_plot_data = get_plot_data(results, 'scierc_light')"
   ]
  },
  {
   "cell_type": "markdown",
   "metadata": {},
   "source": [
    "#### Getting softmax scores:"
   ]
  },
  {
   "cell_type": "code",
   "execution_count": 34,
   "metadata": {},
   "outputs": [],
   "source": [
    "scierc_light_ents_softmax, scierc_light_rels_softmax = get_softmax(results)"
   ]
  },
  {
   "cell_type": "markdown",
   "metadata": {},
   "source": [
    "### GENIA"
   ]
  },
  {
   "cell_type": "code",
   "execution_count": 35,
   "metadata": {},
   "outputs": [],
   "source": [
    "results = read_predictions('../data/first_manuscript_data/dygiepp/pretrained_output/withCoref/genia/GENIA_predictions.jsonl')"
   ]
  },
  {
   "cell_type": "markdown",
   "metadata": {},
   "source": [
    "#### Getting per graph data:"
   ]
  },
  {
   "cell_type": "code",
   "execution_count": 36,
   "metadata": {
    "scrolled": true
   },
   "outputs": [
    {
     "name": "stdout",
     "output_type": "stream",
     "text": [
      "Total predictions: 68203\n",
      "\n",
      "Mean predictions per doc, normalized by number of sentences: 0.95 predictions per sentence\n",
      "Mean predictions per doc, normalized by number of words: 0.04 predictions per word\n",
      "\n",
      "Median predictions per doc, normalized by number of sentences: 0.78 predictions per sentence\n",
      "Median predictions per doc, normalized by number of words: 0.03 predictions per word\n",
      "\n",
      "Least number of predictions per doc, normalized by number of sentences: 0.00 predictions per sentence\n",
      "Least number of predictions per doc, normalized by number of words: 0.00 predictions per word\n",
      "\n",
      "Greatest number of predictions per doc, normalized by number of sentences: 5.17 predictions per sentence\n",
      "Greatest number of predictions per doc, normalized by number of words: 0.24 predictions per word\n",
      "\n"
     ]
    }
   ],
   "source": [
    "genia_ent_stats = get_pred_ent_stats(results, 'genia')"
   ]
  },
  {
   "cell_type": "code",
   "execution_count": 37,
   "metadata": {},
   "outputs": [],
   "source": [
    "genia_plot_data = get_plot_data_no_rels(results, 'genia')"
   ]
  },
  {
   "cell_type": "markdown",
   "metadata": {},
   "source": [
    "#### Getting softmax scores:"
   ]
  },
  {
   "cell_type": "code",
   "execution_count": 38,
   "metadata": {},
   "outputs": [],
   "source": [
    "genia_ents_softmax = get_softmax_no_rels(results)"
   ]
  },
  {
   "cell_type": "markdown",
   "metadata": {},
   "source": [
    "### GENIA (lightweight)"
   ]
  },
  {
   "cell_type": "code",
   "execution_count": 39,
   "metadata": {},
   "outputs": [],
   "source": [
    "results = read_predictions('../data/first_manuscript_data/dygiepp/pretrained_output/lightweight/genia-light/GENIA_predictions.jsonl')"
   ]
  },
  {
   "cell_type": "markdown",
   "metadata": {},
   "source": [
    "#### Getting per graph data:"
   ]
  },
  {
   "cell_type": "code",
   "execution_count": 40,
   "metadata": {
    "scrolled": true
   },
   "outputs": [
    {
     "name": "stdout",
     "output_type": "stream",
     "text": [
      "Total predictions: 54658\n",
      "\n",
      "Mean predictions per doc, normalized by number of sentences: 0.77 predictions per sentence\n",
      "Mean predictions per doc, normalized by number of words: 0.03 predictions per word\n",
      "\n",
      "Median predictions per doc, normalized by number of sentences: 0.57 predictions per sentence\n",
      "Median predictions per doc, normalized by number of words: 0.02 predictions per word\n",
      "\n",
      "Least number of predictions per doc, normalized by number of sentences: 0.00 predictions per sentence\n",
      "Least number of predictions per doc, normalized by number of words: 0.00 predictions per word\n",
      "\n",
      "Greatest number of predictions per doc, normalized by number of sentences: 5.00 predictions per sentence\n",
      "Greatest number of predictions per doc, normalized by number of words: 0.18 predictions per word\n",
      "\n"
     ]
    }
   ],
   "source": [
    "genia_light_ent_stats = get_pred_ent_stats(results, 'genia_light')"
   ]
  },
  {
   "cell_type": "code",
   "execution_count": 41,
   "metadata": {},
   "outputs": [],
   "source": [
    "genia_light_plot_data = get_plot_data_no_rels(results, 'genia_light')"
   ]
  },
  {
   "cell_type": "markdown",
   "metadata": {},
   "source": [
    "#### Getting softmax scores:"
   ]
  },
  {
   "cell_type": "code",
   "execution_count": 42,
   "metadata": {},
   "outputs": [],
   "source": [
    "genia_light_ents_softmax = get_softmax_no_rels(results)"
   ]
  },
  {
   "cell_type": "markdown",
   "metadata": {},
   "source": [
    "### MECHANIC (coarse)"
   ]
  },
  {
   "cell_type": "code",
   "execution_count": 43,
   "metadata": {},
   "outputs": [],
   "source": [
    "results = read_predictions('../data/first_manuscript_data/dygiepp/pretrained_output/lightweight/mechanic-coarse/noPunct_mechanic-coarse_predictions.jsonl')"
   ]
  },
  {
   "cell_type": "markdown",
   "metadata": {},
   "source": [
    "#### Getting per graph data:"
   ]
  },
  {
   "cell_type": "code",
   "execution_count": 44,
   "metadata": {},
   "outputs": [
    {
     "name": "stdout",
     "output_type": "stream",
     "text": [
      "Total predictions: 204867\n",
      "\n",
      "Mean predictions per doc, normalized by number of sentences: 2.89 predictions per sentence\n",
      "Mean predictions per doc, normalized by number of words: 0.12 predictions per word\n",
      "\n",
      "Median predictions per doc, normalized by number of sentences: 2.82 predictions per sentence\n",
      "Median predictions per doc, normalized by number of words: 0.12 predictions per word\n",
      "\n",
      "Least number of predictions per doc, normalized by number of sentences: 0.00 predictions per sentence\n",
      "Least number of predictions per doc, normalized by number of words: 0.00 predictions per word\n",
      "\n",
      "Greatest number of predictions per doc, normalized by number of sentences: 10.33 predictions per sentence\n",
      "Greatest number of predictions per doc, normalized by number of words: 0.29 predictions per word\n",
      "\n"
     ]
    }
   ],
   "source": [
    "mechanic_coarse_ent_stats = get_pred_ent_stats(results, 'mechanic_coarse')"
   ]
  },
  {
   "cell_type": "code",
   "execution_count": 45,
   "metadata": {},
   "outputs": [
    {
     "name": "stdout",
     "output_type": "stream",
     "text": [
      "Total predictions: 191708\n",
      "\n",
      "Mean predictions per doc, normalized by number of sentences: 2.69 predictions per sentence\n",
      "Mean predictions per doc, normalized by number of words: 0.11 predictions per word\n",
      "\n",
      "Median predictions per doc, normalized by number of sentences: 2.14 predictions per sentence\n",
      "Median predictions per doc, normalized by number of words: 0.09 predictions per word\n",
      "\n",
      "Least number of predictions per doc, normalized by number of sentences: 0.00 predictions per sentence\n",
      "Least number of predictions per doc, normalized by number of words: 0.00 predictions per word\n",
      "\n",
      "Greatest number of predictions per doc, normalized by number of sentences: 70.83 predictions per sentence\n",
      "Greatest number of predictions per doc, normalized by number of words: 2.24 predictions per word\n",
      "\n"
     ]
    }
   ],
   "source": [
    "mechanic_coarse_rels_stats = get_pred_rels_stats(results, 'mechanic_coarse')"
   ]
  },
  {
   "cell_type": "code",
   "execution_count": 46,
   "metadata": {},
   "outputs": [],
   "source": [
    "mechanic_coarse_plot_data = get_plot_data(results, 'mechanic_coarse')"
   ]
  },
  {
   "cell_type": "markdown",
   "metadata": {},
   "source": [
    "### Combined plots "
   ]
  },
  {
   "cell_type": "markdown",
   "metadata": {},
   "source": [
    "#### Prediction numbers\n",
    "---------------------"
   ]
  },
  {
   "cell_type": "code",
   "execution_count": 53,
   "metadata": {
    "scrolled": true
   },
   "outputs": [
    {
     "data": {
      "text/plain": [
       "[Text(0, 0, 'scierc'),\n",
       " Text(1, 0, 'ace05'),\n",
       " Text(2, 0, 'scierc_light'),\n",
       " Text(3, 0, 'genia'),\n",
       " Text(4, 0, 'genia_light'),\n",
       " Text(5, 0, 'mechanic_coarse')]"
      ]
     },
     "execution_count": 53,
     "metadata": {},
     "output_type": "execute_result"
    },
    {
     "data": {
      "image/png": "[encoded data removed]",
      "text/plain": [
       "<Figure size 432x288 with 1 Axes>"
      ]
     },
     "metadata": {
      "needs_background": "light"
     },
     "output_type": "display_data"
    }
   ],
   "source": [
    "# Sentence plot entities\n",
    "## Make dtaframe \n",
    "sentence_ents_df = pd.DataFrame({'scierc':scierc_plot_data['scierc_ents_norm_sents'],\n",
    "                           'ace05':ace05_plot_data['ace05_ents_norm_sents'],\n",
    "                           'scierc_light':scierc_light_plot_data['scierc_light_ents_norm_sents'], \n",
    "                           'genia':genia_plot_data['genia_ents_norm_sents'],\n",
    "                           'genia_light':genia_light_plot_data['genia_light_ents_norm_sents'],\n",
    "                           'mechanic_coarse':mechanic_coarse_plot_data['mechanic_coarse_ents_norm_sents']})\n",
    "## Make plot\n",
    "ax = sns.boxplot(data=sentence_ents_df)\n",
    "ax.set_title('Number of predictions per sentence in document: Entities', fontsize=14)\n",
    "ax.set_ylabel('# predictions / # of sentences in doc', fontsize=12)\n",
    "ax.set_xticklabels(sentence_ents_df.columns.values.tolist(), rotation=45)"
   ]
  },
  {
   "cell_type": "code",
   "execution_count": 58,
   "metadata": {},
   "outputs": [
    {
     "data": {
      "text/plain": [
       "[Text(0, 0, 'scierc'),\n",
       " Text(1, 0, 'ace05'),\n",
       " Text(2, 0, 'scierc_light_relations'),\n",
       " Text(3, 0, 'mechanic_coarse')]"
      ]
     },
     "execution_count": 58,
     "metadata": {},
     "output_type": "execute_result"
    },
    {
     "data": {
      "image/png": "[encoded data removed]",
      "text/plain": [
       "<Figure size 720x720 with 1 Axes>"
      ]
     },
     "metadata": {
      "needs_background": "light"
     },
     "output_type": "display_data"
    }
   ],
   "source": [
    "# Sentence plot relations\n",
    "## Make dataframe\n",
    "sentence_rels_df = pd.DataFrame({'scierc':scierc_plot_data['scierc_rels_norm_sents'],\n",
    "                           'ace05':ace05_plot_data['ace05_rels_norm_sents'],\n",
    "                           'scierc_light_relations':scierc_light_plot_data['scierc_light_rels_norm_sents'],\n",
    "                           'mechanic_coarse':mechanic_coarse_plot_data['mechanic_coarse_rels_norm_sents']})\n",
    "\n",
    "## Make plot\n",
    "plt.figure(figsize=(10,10))\n",
    "ax = sns.boxplot(data=sentence_rels_df)\n",
    "ax.set_title('Number of predictions per sentence in document: Relations', fontsize=14)\n",
    "ax.set_ylabel('# predictions / # of sentences in doc', fontsize=12)\n",
    "ax.set_xticklabels(sentence_rels_df.columns.values.tolist(), rotation=45)"
   ]
  },
  {
   "cell_type": "code",
   "execution_count": 55,
   "metadata": {
    "scrolled": true
   },
   "outputs": [
    {
     "data": {
      "text/plain": [
       "[Text(0, 0, 'scierc'),\n",
       " Text(1, 0, 'ace05'),\n",
       " Text(2, 0, 'scierc_light'),\n",
       " Text(3, 0, 'genia'),\n",
       " Text(4, 0, 'genia_light'),\n",
       " Text(5, 0, 'mechanic_coarse')]"
      ]
     },
     "execution_count": 55,
     "metadata": {},
     "output_type": "execute_result"
    },
    {
     "data": {
      "image/png": "[encoded data removed]",
      "text/plain": [
       "<Figure size 432x288 with 1 Axes>"
      ]
     },
     "metadata": {
      "needs_background": "light"
     },
     "output_type": "display_data"
    }
   ],
   "source": [
    "# Word plot entities\n",
    "## Make dtaframe \n",
    "words_ents_df = pd.DataFrame({'scierc':scierc_plot_data['scierc_ents_norm_words'],\n",
    "                           'ace05':ace05_plot_data['ace05_ents_norm_words'],\n",
    "                           'scierc_light':scierc_light_plot_data['scierc_light_ents_norm_words'],\n",
    "                           'genia':genia_plot_data['genia_ents_norm_words'],\n",
    "                           'genia_light':genia_light_plot_data['genia_light_ents_norm_words'],\n",
    "                           'mechanic_coarse':mechanic_coarse_plot_data['mechanic_coarse_ents_norm_words']})\n",
    "## Make plot\n",
    "ax = sns.boxplot(data=words_ents_df)\n",
    "ax.set_title('Number of predictions per word in document: Entities', fontsize=14)\n",
    "ax.set_ylabel('# predictions / # of words in doc', fontsize=12)\n",
    "ax.set_xticklabels(words_ents_df.columns.values.tolist(), rotation=45)"
   ]
  },
  {
   "cell_type": "code",
   "execution_count": 57,
   "metadata": {},
   "outputs": [
    {
     "data": {
      "text/plain": [
       "[Text(0, 0, 'scierc'),\n",
       " Text(1, 0, 'ace05'),\n",
       " Text(2, 0, 'scierc_light'),\n",
       " Text(3, 0, 'mechanic_coarse')]"
      ]
     },
     "execution_count": 57,
     "metadata": {},
     "output_type": "execute_result"
    },
    {
     "data": {
      "image/png": "[encoded data removed]",
      "text/plain": [
       "<Figure size 720x720 with 1 Axes>"
      ]
     },
     "metadata": {
      "needs_background": "light"
     },
     "output_type": "display_data"
    }
   ],
   "source": [
    "# Word plot relations\n",
    "## Make dataframe \n",
    "words_rels_df = pd.DataFrame({'scierc':scierc_plot_data['scierc_rels_norm_words'],\n",
    "                           'ace05':ace05_plot_data['ace05_rels_norm_words'],\n",
    "                           'scierc_light':scierc_light_plot_data['scierc_light_rels_norm_words'],\n",
    "                           'mechanic_coarse':mechanic_coarse_plot_data['mechanic_coarse_rels_norm_sents']})\n",
    "\n",
    "## Make plot\n",
    "plt.figure(figsize=(10,10))\n",
    "ax = sns.boxplot(data=words_rels_df)\n",
    "ax.set_title('Number of predictions per word in document: Relations', fontsize=14)\n",
    "ax.set_ylabel('# predictions / # of words in doc', fontsize=12)\n",
    "ax.set_xticklabels(words_rels_df.columns.values.tolist(), rotation=45)"
   ]
  },
  {
   "cell_type": "markdown",
   "metadata": {},
   "source": [
    "Also want to plot a bar plot with the total numbers of each type of prediction for each model."
   ]
  },
  {
   "cell_type": "code",
   "execution_count": 60,
   "metadata": {},
   "outputs": [
    {
     "data": {
      "text/html": [
       "<div>\n",
       "<style scoped>\n",
       "    .dataframe tbody tr th:only-of-type {\n",
       "        vertical-align: middle;\n",
       "    }\n",
       "\n",
       "    .dataframe tbody tr th {\n",
       "        vertical-align: top;\n",
       "    }\n",
       "\n",
       "    .dataframe thead th {\n",
       "        text-align: right;\n",
       "    }\n",
       "</style>\n",
       "<table border=\"1\" class=\"dataframe\">\n",
       "  <thead>\n",
       "    <tr style=\"text-align: right;\">\n",
       "      <th></th>\n",
       "      <th>scierc_ents</th>\n",
       "      <th>ace05_ents</th>\n",
       "      <th>scierc_light_ents</th>\n",
       "      <th>genia_ents</th>\n",
       "      <th>genia_light_ents</th>\n",
       "      <th>mechanic_coarse_ents</th>\n",
       "      <th>scierc_rels</th>\n",
       "      <th>ace05_rels</th>\n",
       "      <th>scierc_light_rels</th>\n",
       "      <th>mechanic_coarse_rels</th>\n",
       "    </tr>\n",
       "  </thead>\n",
       "  <tbody>\n",
       "    <tr>\n",
       "      <th>0</th>\n",
       "      <td>237206</td>\n",
       "      <td>82670</td>\n",
       "      <td>301015</td>\n",
       "      <td>68203</td>\n",
       "      <td>54658</td>\n",
       "      <td>204867</td>\n",
       "      <td>65338</td>\n",
       "      <td>1040</td>\n",
       "      <td>112563</td>\n",
       "      <td>204867</td>\n",
       "    </tr>\n",
       "  </tbody>\n",
       "</table>\n",
       "</div>"
      ],
      "text/plain": [
       "   scierc_ents  ace05_ents  scierc_light_ents  genia_ents  genia_light_ents  \\\n",
       "0       237206       82670             301015       68203             54658   \n",
       "\n",
       "   mechanic_coarse_ents  scierc_rels  ace05_rels  scierc_light_rels  \\\n",
       "0                204867        65338        1040             112563   \n",
       "\n",
       "   mechanic_coarse_rels  \n",
       "0                204867  "
      ]
     },
     "execution_count": 60,
     "metadata": {},
     "output_type": "execute_result"
    }
   ],
   "source": [
    "# Get numbers for each\n",
    "stats_dict = {}\n",
    "for model_stat_df in [scierc_ent_stats, ace05_ent_stats, scierc_light_ent_stats, genia_ent_stats, genia_light_ent_stats, mechanic_coarse_ent_stats]:\n",
    "    stats_dict[model_stat_df['model_name'].loc[0] + '_ents'] = [model_stat_df['total_preds'].loc[0]]\n",
    "    \n",
    "for model_stat_df in [scierc_rels_stats, ace05_rels_stats, scierc_light_rels_stats, mechanic_coarse_ent_stats]:\n",
    "    stats_dict[model_stat_df['model_name'].loc[0] + '_rels'] = [model_stat_df['total_preds'].loc[0]]\n",
    "\n",
    "total_stats_df = pd.DataFrame(stats_dict)\n",
    "total_stats_df.head()"
   ]
  },
  {
   "cell_type": "code",
   "execution_count": 61,
   "metadata": {
    "scrolled": true
   },
   "outputs": [
    {
     "data": {
      "text/plain": [
       "(array([0, 1, 2, 3, 4, 5, 6, 7, 8, 9]),\n",
       " [Text(0, 0, 'scierc_ents'),\n",
       "  Text(1, 0, 'ace05_ents'),\n",
       "  Text(2, 0, 'scierc_light_ents'),\n",
       "  Text(3, 0, 'genia_ents'),\n",
       "  Text(4, 0, 'genia_light_ents'),\n",
       "  Text(5, 0, 'mechanic_coarse_ents'),\n",
       "  Text(6, 0, 'scierc_rels'),\n",
       "  Text(7, 0, 'ace05_rels'),\n",
       "  Text(8, 0, 'scierc_light_rels'),\n",
       "  Text(9, 0, 'mechanic_coarse_rels')])"
      ]
     },
     "execution_count": 61,
     "metadata": {},
     "output_type": "execute_result"
    },
    {
     "data": {
      "image/png": "[encoded data removed]",
      "text/plain": [
       "<Figure size 432x288 with 1 Axes>"
      ]
     },
     "metadata": {
      "needs_background": "light"
     },
     "output_type": "display_data"
    }
   ],
   "source": [
    "# Plot \n",
    "ax = sns.barplot(data=total_stats_df)\n",
    "ax.set_title('Total number of predictions', fontsize=14)\n",
    "ax.set_ylabel('Total number of predictions', fontsize=12)\n",
    "plt.xticks(rotation=90)"
   ]
  },
  {
   "cell_type": "code",
   "execution_count": 49,
   "metadata": {
    "scrolled": true
   },
   "outputs": [
    {
     "data": {
      "text/plain": [
       "(array([0, 1, 2, 3, 4, 5, 6, 7]),\n",
       " [Text(0, 0, 'scierc_entities'),\n",
       "  Text(1, 0, 'ace05_entities'),\n",
       "  Text(2, 0, 'scierc_light_entities'),\n",
       "  Text(3, 0, 'genia_entities'),\n",
       "  Text(4, 0, 'genia_light_entities'),\n",
       "  Text(5, 0, 'scierc_relations'),\n",
       "  Text(6, 0, 'ace05_relations'),\n",
       "  Text(7, 0, 'scierc_light_relations')])"
      ]
     },
     "execution_count": 49,
     "metadata": {},
     "output_type": "execute_result"
    },
    {
     "data": {
      "image/png": "[encoded data removed]",
      "text/plain": [
       "<Figure size 432x288 with 1 Axes>"
      ]
     },
     "metadata": {
      "needs_background": "light"
     },
     "output_type": "display_data"
    }
   ],
   "source": [
    "# Softmax plot \n",
    "## Make dataframe\n",
    "lists =  [scierc_ents_softmax, ace05_ents_softmax, scierc_light_ents_softmax, genia_ents_softmax, genia_light_ents_softmax, scierc_rels_softmax, ace05_rels_softmax, scierc_light_rels_softmax]\n",
    "list_names = ['scierc_entities', 'ace05_entities', 'scierc_light_entities', 'genia_entities', 'genia_light_entities','scierc_relations', 'ace05_relations', 'scierc_light_relations']\n",
    "index_col = []\n",
    "softmax_col = []\n",
    "for name, data in zip(list_names, lists):\n",
    "    for item in data:\n",
    "        index_col.append(name)\n",
    "        softmax_col.append(item)\n",
    "\n",
    "long_softmax_df = pd.DataFrame({'prediction_type':index_col, 'softmax_score':softmax_col})\n",
    "\n",
    "## Make plot\n",
    "ax = sns.violinplot(x='prediction_type', y='softmax_score', data=long_softmax_df)\n",
    "ax.set_title('Softmax scores for model predictions', fontsize=14)\n",
    "ax.set_xlabel('Prediction type', fontsize=12)\n",
    "ax.set_ylabel('Softmax score', fontsize=12)\n",
    "plt.xticks(rotation=90)"
   ]
  },
  {
   "cell_type": "code",
   "execution_count": 50,
   "metadata": {},
   "outputs": [
    {
     "data": {
      "text/html": [
       "<div>\n",
       "<style scoped>\n",
       "    .dataframe tbody tr th:only-of-type {\n",
       "        vertical-align: middle;\n",
       "    }\n",
       "\n",
       "    .dataframe tbody tr th {\n",
       "        vertical-align: top;\n",
       "    }\n",
       "\n",
       "    .dataframe thead th {\n",
       "        text-align: right;\n",
       "    }\n",
       "</style>\n",
       "<table border=\"1\" class=\"dataframe\">\n",
       "  <thead>\n",
       "    <tr style=\"text-align: right;\">\n",
       "      <th></th>\n",
       "      <th>softmax_score</th>\n",
       "    </tr>\n",
       "    <tr>\n",
       "      <th>prediction_type</th>\n",
       "      <th></th>\n",
       "    </tr>\n",
       "  </thead>\n",
       "  <tbody>\n",
       "    <tr>\n",
       "      <th>ace05_entities</th>\n",
       "      <td>0.883853</td>\n",
       "    </tr>\n",
       "    <tr>\n",
       "      <th>ace05_relations</th>\n",
       "      <td>0.867150</td>\n",
       "    </tr>\n",
       "    <tr>\n",
       "      <th>genia_entities</th>\n",
       "      <td>0.841535</td>\n",
       "    </tr>\n",
       "    <tr>\n",
       "      <th>genia_light_entities</th>\n",
       "      <td>0.750129</td>\n",
       "    </tr>\n",
       "    <tr>\n",
       "      <th>scierc_entities</th>\n",
       "      <td>0.940701</td>\n",
       "    </tr>\n",
       "    <tr>\n",
       "      <th>scierc_light_entities</th>\n",
       "      <td>0.897008</td>\n",
       "    </tr>\n",
       "    <tr>\n",
       "      <th>scierc_light_relations</th>\n",
       "      <td>0.805659</td>\n",
       "    </tr>\n",
       "    <tr>\n",
       "      <th>scierc_relations</th>\n",
       "      <td>0.948415</td>\n",
       "    </tr>\n",
       "  </tbody>\n",
       "</table>\n",
       "</div>"
      ],
      "text/plain": [
       "                        softmax_score\n",
       "prediction_type                      \n",
       "ace05_entities               0.883853\n",
       "ace05_relations              0.867150\n",
       "genia_entities               0.841535\n",
       "genia_light_entities         0.750129\n",
       "scierc_entities              0.940701\n",
       "scierc_light_entities        0.897008\n",
       "scierc_light_relations       0.805659\n",
       "scierc_relations             0.948415"
      ]
     },
     "execution_count": 50,
     "metadata": {},
     "output_type": "execute_result"
    }
   ],
   "source": [
    "# Get mean and median for each \n",
    "grouped_df = long_softmax_df.groupby('prediction_type')\n",
    "grouped_df.mean()"
   ]
  },
  {
   "cell_type": "code",
   "execution_count": 51,
   "metadata": {
    "scrolled": true
   },
   "outputs": [
    {
     "data": {
      "text/html": [
       "<div>\n",
       "<style scoped>\n",
       "    .dataframe tbody tr th:only-of-type {\n",
       "        vertical-align: middle;\n",
       "    }\n",
       "\n",
       "    .dataframe tbody tr th {\n",
       "        vertical-align: top;\n",
       "    }\n",
       "\n",
       "    .dataframe thead th {\n",
       "        text-align: right;\n",
       "    }\n",
       "</style>\n",
       "<table border=\"1\" class=\"dataframe\">\n",
       "  <thead>\n",
       "    <tr style=\"text-align: right;\">\n",
       "      <th></th>\n",
       "      <th>softmax_score</th>\n",
       "    </tr>\n",
       "    <tr>\n",
       "      <th>prediction_type</th>\n",
       "      <th></th>\n",
       "    </tr>\n",
       "  </thead>\n",
       "  <tbody>\n",
       "    <tr>\n",
       "      <th>ace05_entities</th>\n",
       "      <td>0.99210</td>\n",
       "    </tr>\n",
       "    <tr>\n",
       "      <th>ace05_relations</th>\n",
       "      <td>0.94690</td>\n",
       "    </tr>\n",
       "    <tr>\n",
       "      <th>genia_entities</th>\n",
       "      <td>0.90690</td>\n",
       "    </tr>\n",
       "    <tr>\n",
       "      <th>genia_light_entities</th>\n",
       "      <td>0.75665</td>\n",
       "    </tr>\n",
       "    <tr>\n",
       "      <th>scierc_entities</th>\n",
       "      <td>0.99980</td>\n",
       "    </tr>\n",
       "    <tr>\n",
       "      <th>scierc_light_entities</th>\n",
       "      <td>0.98960</td>\n",
       "    </tr>\n",
       "    <tr>\n",
       "      <th>scierc_light_relations</th>\n",
       "      <td>0.94810</td>\n",
       "    </tr>\n",
       "    <tr>\n",
       "      <th>scierc_relations</th>\n",
       "      <td>0.99970</td>\n",
       "    </tr>\n",
       "  </tbody>\n",
       "</table>\n",
       "</div>"
      ],
      "text/plain": [
       "                        softmax_score\n",
       "prediction_type                      \n",
       "ace05_entities                0.99210\n",
       "ace05_relations               0.94690\n",
       "genia_entities                0.90690\n",
       "genia_light_entities          0.75665\n",
       "scierc_entities               0.99980\n",
       "scierc_light_entities         0.98960\n",
       "scierc_light_relations        0.94810\n",
       "scierc_relations              0.99970"
      ]
     },
     "execution_count": 51,
     "metadata": {},
     "output_type": "execute_result"
    }
   ],
   "source": [
    "grouped_df.median()"
   ]
  },
  {
   "cell_type": "code",
   "execution_count": 24,
   "metadata": {},
   "outputs": [],
   "source": [
    "# Gibberish data softmax \n",
    "## Read in the data \n",
    "import os \n",
    "\n",
    "file_list = ['../data/first_manuscript_data/dygiepp/pretrained_output/withCoref/scierc/gibberishAll_scierc_predictions.jsonl',\n",
    "             '../data/first_manuscript_data/dygiepp/pretrained_output/lightweight/scierc-light/gibberishAll_scierc-light_predictions.jsonl',\n",
    "             '../data/first_manuscript_data/dygiepp/pretrained_output/withCoref/genia/gibberishAll_genia_predictions.jsonl',\n",
    "             '../data/first_manuscript_data/dygiepp/pretrained_output/lightweight/genia-light/gibberishAll_genia-light_predictions.jsonl',\n",
    "             '../data/first_manuscript_data/dygiepp/pretrained_output/lightweight/ace05/gibberishAll_ace05_predictions.jsonl',\n",
    "             '../data/first_manuscript_data/dygiepp/pretrained_output/lightweight/mechanic-granular/gibberishAll_mechanic-granular_predictions.jsonl',\n",
    "             '../data/first_manuscript_data/dygiepp/pretrained_output/lightweight/mechanic-coarse/gibberishAll_mechanic-coarse_predictions.jsonl']\n",
    "\n",
    "file_short_names = [os.path.basename(file_name).split('_')[1] for file_name in file_list]\n",
    "\n",
    "gibberish_softmax = {}\n",
    "for file_short_name, file_name in zip(file_short_names, file_list):\n",
    "    # Read in results\n",
    "    results = read_predictions(file_name)\n",
    "    # Get softmax scores \n",
    "    if 'genia' not in file_short_name:\n",
    "        ent_softmax, rel_softmax = get_softmax(results)\n",
    "        gibberish_softmax[f'{file_short_name}_entities'] = ent_softmax\n",
    "        gibberish_softmax[f'{file_short_name}_relations'] = rel_softmax\n",
    "    else:\n",
    "        ent_softmax = get_softmax_no_rels(results)\n",
    "        gibberish_softmax[f'{file_short_name}_entities'] = ent_softmax"
   ]
  },
  {
   "cell_type": "code",
   "execution_count": 25,
   "metadata": {
    "scrolled": true
   },
   "outputs": [
    {
     "data": {
      "text/plain": [
       "(array([0, 1, 2, 3, 4, 5, 6, 7]),\n",
       " [Text(0, 0, 'scierc_entities'),\n",
       "  Text(1, 0, 'scierc_relations'),\n",
       "  Text(2, 0, 'scierc-light_entities'),\n",
       "  Text(3, 0, 'scierc-light_relations'),\n",
       "  Text(4, 0, 'genia_entities'),\n",
       "  Text(5, 0, 'genia-light_entities'),\n",
       "  Text(6, 0, 'ace05_entities'),\n",
       "  Text(7, 0, 'ace05_relations')])"
      ]
     },
     "execution_count": 25,
     "metadata": {},
     "output_type": "execute_result"
    },
    {
     "data": {
      "image/png": "[encoded data removed]",
      "text/plain": [
       "<Figure size 432x288 with 1 Axes>"
      ]
     },
     "metadata": {
      "needs_background": "light"
     },
     "output_type": "display_data"
    }
   ],
   "source": [
    "# Make gibberish softmax plot \n",
    "## Mechanic gets left out here because it has no data \n",
    "index_col_gib = []\n",
    "softmax_col_gib = []\n",
    "for key, value in gibberish_softmax.items():\n",
    "    for item in value:\n",
    "        index_col_gib.append(key)\n",
    "        softmax_col_gib.append(item)\n",
    "        \n",
    "long_softmax_gib = pd.DataFrame({'prediction_type':index_col_gib, 'softmax_score':softmax_col_gib})\n",
    "\n",
    "## Make plot\n",
    "ax = sns.violinplot(x='prediction_type', y='softmax_score', data=long_softmax_gib)\n",
    "ax.set_title('Softmax scores for model predictions on gibberish data', fontsize=14)\n",
    "ax.set_xlabel('Prediction type', fontsize=12)\n",
    "ax.set_ylabel('Softmax score', fontsize=12)\n",
    "plt.xticks(rotation=90)"
   ]
  },
  {
   "cell_type": "code",
   "execution_count": 22,
   "metadata": {},
   "outputs": [
    {
     "data": {
      "text/html": [
       "<div>\n",
       "<style scoped>\n",
       "    .dataframe tbody tr th:only-of-type {\n",
       "        vertical-align: middle;\n",
       "    }\n",
       "\n",
       "    .dataframe tbody tr th {\n",
       "        vertical-align: top;\n",
       "    }\n",
       "\n",
       "    .dataframe thead th {\n",
       "        text-align: right;\n",
       "    }\n",
       "</style>\n",
       "<table border=\"1\" class=\"dataframe\">\n",
       "  <thead>\n",
       "    <tr style=\"text-align: right;\">\n",
       "      <th></th>\n",
       "      <th>softmax_score</th>\n",
       "    </tr>\n",
       "    <tr>\n",
       "      <th>prediction_type</th>\n",
       "      <th></th>\n",
       "    </tr>\n",
       "  </thead>\n",
       "  <tbody>\n",
       "    <tr>\n",
       "      <th>ace05_ents</th>\n",
       "      <td>0.840919</td>\n",
       "    </tr>\n",
       "    <tr>\n",
       "      <th>ace05_rels</th>\n",
       "      <td>0.784788</td>\n",
       "    </tr>\n",
       "    <tr>\n",
       "      <th>genia-light_ents</th>\n",
       "      <td>0.617316</td>\n",
       "    </tr>\n",
       "    <tr>\n",
       "      <th>genia_ents</th>\n",
       "      <td>0.667300</td>\n",
       "    </tr>\n",
       "    <tr>\n",
       "      <th>scierc-light_ents</th>\n",
       "      <td>0.789846</td>\n",
       "    </tr>\n",
       "    <tr>\n",
       "      <th>scierc-light_rels</th>\n",
       "      <td>0.849458</td>\n",
       "    </tr>\n",
       "    <tr>\n",
       "      <th>scierc_ents</th>\n",
       "      <td>0.855989</td>\n",
       "    </tr>\n",
       "    <tr>\n",
       "      <th>scierc_rels</th>\n",
       "      <td>0.927753</td>\n",
       "    </tr>\n",
       "  </tbody>\n",
       "</table>\n",
       "</div>"
      ],
      "text/plain": [
       "                   softmax_score\n",
       "prediction_type                 \n",
       "ace05_ents              0.840919\n",
       "ace05_rels              0.784788\n",
       "genia-light_ents        0.617316\n",
       "genia_ents              0.667300\n",
       "scierc-light_ents       0.789846\n",
       "scierc-light_rels       0.849458\n",
       "scierc_ents             0.855989\n",
       "scierc_rels             0.927753"
      ]
     },
     "execution_count": 22,
     "metadata": {},
     "output_type": "execute_result"
    }
   ],
   "source": [
    "grouped_gib = long_softmax_gib.groupby('prediction_type')\n",
    "grouped_gib.mean()"
   ]
  },
  {
   "cell_type": "code",
   "execution_count": 23,
   "metadata": {},
   "outputs": [
    {
     "data": {
      "text/html": [
       "<div>\n",
       "<style scoped>\n",
       "    .dataframe tbody tr th:only-of-type {\n",
       "        vertical-align: middle;\n",
       "    }\n",
       "\n",
       "    .dataframe tbody tr th {\n",
       "        vertical-align: top;\n",
       "    }\n",
       "\n",
       "    .dataframe thead th {\n",
       "        text-align: right;\n",
       "    }\n",
       "</style>\n",
       "<table border=\"1\" class=\"dataframe\">\n",
       "  <thead>\n",
       "    <tr style=\"text-align: right;\">\n",
       "      <th></th>\n",
       "      <th>softmax_score</th>\n",
       "    </tr>\n",
       "    <tr>\n",
       "      <th>prediction_type</th>\n",
       "      <th></th>\n",
       "    </tr>\n",
       "  </thead>\n",
       "  <tbody>\n",
       "    <tr>\n",
       "      <th>ace05_ents</th>\n",
       "      <td>0.9396</td>\n",
       "    </tr>\n",
       "    <tr>\n",
       "      <th>ace05_rels</th>\n",
       "      <td>0.8269</td>\n",
       "    </tr>\n",
       "    <tr>\n",
       "      <th>genia-light_ents</th>\n",
       "      <td>0.5951</td>\n",
       "    </tr>\n",
       "    <tr>\n",
       "      <th>genia_ents</th>\n",
       "      <td>0.6497</td>\n",
       "    </tr>\n",
       "    <tr>\n",
       "      <th>scierc-light_ents</th>\n",
       "      <td>0.8377</td>\n",
       "    </tr>\n",
       "    <tr>\n",
       "      <th>scierc-light_rels</th>\n",
       "      <td>0.9425</td>\n",
       "    </tr>\n",
       "    <tr>\n",
       "      <th>scierc_ents</th>\n",
       "      <td>0.9465</td>\n",
       "    </tr>\n",
       "    <tr>\n",
       "      <th>scierc_rels</th>\n",
       "      <td>0.9863</td>\n",
       "    </tr>\n",
       "  </tbody>\n",
       "</table>\n",
       "</div>"
      ],
      "text/plain": [
       "                   softmax_score\n",
       "prediction_type                 \n",
       "ace05_ents                0.9396\n",
       "ace05_rels                0.8269\n",
       "genia-light_ents          0.5951\n",
       "genia_ents                0.6497\n",
       "scierc-light_ents         0.8377\n",
       "scierc-light_rels         0.9425\n",
       "scierc_ents               0.9465\n",
       "scierc_rels               0.9863"
      ]
     },
     "execution_count": 23,
     "metadata": {},
     "output_type": "execute_result"
    }
   ],
   "source": [
    "grouped_gib.median()"
   ]
  }
 ],
 "metadata": {
  "kernelspec": {
   "display_name": "kg",
   "language": "python",
   "name": "kg"
  },
  "language_info": {
   "codemirror_mode": {
    "name": "ipython",
    "version": 3
   },
   "file_extension": ".py",
   "mimetype": "text/x-python",
   "name": "python",
   "nbconvert_exporter": "python",
   "pygments_lexer": "ipython3",
   "version": "3.8.5"
  }
 },
 "nbformat": 4,
 "nbformat_minor": 4
}
