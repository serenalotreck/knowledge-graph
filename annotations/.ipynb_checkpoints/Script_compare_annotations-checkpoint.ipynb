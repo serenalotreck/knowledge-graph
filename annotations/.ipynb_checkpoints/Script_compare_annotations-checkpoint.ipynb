{
 "cells": [
  {
   "cell_type": "markdown",
   "metadata": {},
   "source": [
    "# Compare Serena's and Shinhan's annotation"
   ]
  },
  {
   "cell_type": "markdown",
   "metadata": {},
   "source": [
    "## Testing a few cases\n",
    "\n",
    "* <><>X</> Y</>: give \"X Y\", \"X\"\n",
    "* <><>X</> <>Y</></>: \"X Y\", \"X\", \"Y\"\n",
    "* <><>X</> <>Y</> <>Z</></>: \"X Y Z\", \"X\", \"Y\", \"Z\"\n",
    "* <><><>X</> Y</> <>Z</></>: \"X Y Z\", \"X Y\", \"Z\""
   ]
  },
  {
   "cell_type": "code",
   "execution_count": 67,
   "metadata": {},
   "outputs": [],
   "source": [
    "##\n",
    "# Test functions\n",
    "\n",
    "def a_iterate(astr, alist):\n",
    "    \n",
    "    # See if this string can be parsed into entities\n",
    "    astr2 = a_check(astr)\n",
    "    \n",
    "    # Cannot be further parsed with a_check\n",
    "    if len(astr2) == 1:\n",
    "        alist = strip_tags(astr2[0], alist)\n",
    "        astr_stripped_outer = strip_outer(astr2[0])\n",
    "        alist = a_iterate(astr_stripped_outer, alist)\n",
    "    else:\n",
    "        for i in astr2:\n",
    "            alist = a_iterate(i, alist)\n",
    "            \n",
    "    return alist\n",
    "\n",
    "# Begin tag: <entsl>\n",
    "# End tag: </entsl>\n",
    "# Can be nested\n",
    "#   e.g., <><>blah</> bleh</>\n",
    "def a_check(astr):\n",
    "    entL = [] # entity list\n",
    "    cBgn = 0  # begin tag count\n",
    "    iBgn = 0  # begin tag index\n",
    "    cEnd = 0  # end tag count\n",
    "    iEnd = 0  # end tag index\n",
    "    for i in range(len(astr)):\n",
    "        # End tag\n",
    "        if astr[i] == \"<\":\n",
    "            if astr[i+1] == \"/\":\n",
    "                #print(\"Found end:\",astr[iBgn:i])\n",
    "                cEnd += 1\n",
    "                \n",
    "                # Equal number of begin and end tags, bound an entity\n",
    "                if cEnd == cBgn:\n",
    "                    # Set end tag index\n",
    "                    iEnd = i + len(\"</>\")\n",
    "                    #print(\"Match end:\",astr[iBgn:iEnd])\n",
    "                    \n",
    "                    ent = astr[iBgn:iEnd]\n",
    "                    entL.append(ent)\n",
    "                    \n",
    "                    # Reset\n",
    "                    cBgn = cEnd = iBgn = iEnd = 0\n",
    "            # Otherwise it is a begin tag\n",
    "            else:\n",
    "                #print(\"Found bgn:\",filestr[i:i+10])\n",
    "                # First begin tag, set begin tag index\n",
    "                if cBgn == 0:\n",
    "                    iBgn = i\n",
    "                cBgn += 1\n",
    "    return entL\n",
    "\n",
    "# Rid of all tags\n",
    "def strip_tags(astr2, alist):\n",
    "    astr3 = []\n",
    "    # Rid of all <> and </>\n",
    "    astr2 = astr2.split(\"<>\")\n",
    "    for i in astr2:\n",
    "        i = i.split(\"</>\")\n",
    "        astr3.extend(i)\n",
    "    \n",
    "    #print(astr3)\n",
    "    alist.append(\"\".join(astr3))\n",
    "    return alist\n",
    "\n",
    "# Rid of the outer most tags\n",
    "def strip_outer(astr2):\n",
    "    astr4 = astr2[astr2.find(\">\")+1:astr2.rfind(\"<\")]\n",
    "    print(astr4)\n",
    "    return astr4"
   ]
  },
  {
   "cell_type": "code",
   "execution_count": 72,
   "metadata": {},
   "outputs": [
    {
     "name": "stdout",
     "output_type": "stream",
     "text": [
      "<><>X</> Y</> <>Z</>\n",
      "<>X</> Y\n",
      "X\n",
      "Z\n"
     ]
    },
    {
     "data": {
      "text/plain": [
       "['X Y Z', 'X Y', 'X', 'Z']"
      ]
     },
     "execution_count": 72,
     "metadata": {},
     "output_type": "execute_result"
    }
   ],
   "source": [
    "# Test cases\n",
    "\n",
    "astr  = \"<><><>X</> Y</> <>Z</></>\"\n",
    "alist = []\n",
    "alust = a_iterate(astr, alist)\n",
    "alist"
   ]
  },
  {
   "cell_type": "code",
   "execution_count": 69,
   "metadata": {},
   "outputs": [
    {
     "data": {
      "text/plain": [
       "'<><>X</> <>Y</></>'"
      ]
     },
     "execution_count": 69,
     "metadata": {},
     "output_type": "execute_result"
    }
   ],
   "source": [
    "# Tested\n",
    "\"<><>X</> Y</>\"\n",
    "\"<><>X</> <>Y</></>\"\n",
    "\"<><>X</> <>Y</> <>Z</></>\"\n",
    "\"<><><>X</> Y</> <>Z</></>\""
   ]
  },
  {
   "cell_type": "markdown",
   "metadata": {},
   "source": [
    "## Parse the annotated files"
   ]
  },
  {
   "cell_type": "code",
   "execution_count": 1,
   "metadata": {},
   "outputs": [],
   "source": [
    "from pathlib import Path\n",
    "\n",
    "data = Path('data')\n",
    "\n",
    "sgl  = data / \"abstract-jasmonicac-set - sgl_1-6.txt\"\n",
    "shs  = data / \"abstract-jasmonicac-set - shs_1-6.txt\"\n",
    "ori  = data / \"\""
   ]
  },
  {
   "cell_type": "code",
   "execution_count": 29,
   "metadata": {},
   "outputs": [],
   "source": [
    "# Do 3 things\n",
    "# 1) lower case everything\n",
    "# 2) Rid of empty lines\n",
    "# 3) Rid of new line char\n",
    "# Return\n",
    "#   A string with lines joined with one space\n",
    "def cleanup(file):\n",
    "    cleaned = []\n",
    "    filein  = open(file).readlines()\n",
    "    for i in filein:\n",
    "        i = i.lower().strip()\n",
    "        if i != \"\":\n",
    "            cleaned.append(i)\n",
    "    \n",
    "    return \" \".join(cleaned)"
   ]
  },
  {
   "cell_type": "code",
   "execution_count": 102,
   "metadata": {},
   "outputs": [],
   "source": [
    "def a_iterate(astr, alist): \n",
    "    astr2 = a_check(astr)\n",
    "    if len(astr2) == 1:\n",
    "        alist = strip_tags(astr2[0], alist)\n",
    "        astr_stripped_outer = strip_outer(astr2[0])\n",
    "        alist = a_iterate(astr_stripped_outer, alist)\n",
    "    else:\n",
    "        for i in astr2:\n",
    "            alist = a_iterate(i, alist)\n",
    "            \n",
    "    return alist\n",
    "\n",
    "def a_check(astr):\n",
    "    entL = [] # entity list\n",
    "    cBgn = 0  # begin tag count\n",
    "    iBgn = 0  # begin tag index\n",
    "    cEnd = 0  # end tag count\n",
    "    iEnd = 0  # end tag index\n",
    "    for i in range(len(astr)):\n",
    "        if astr[i] == \"<\":\n",
    "            if astr[i+1] == \"/\":\n",
    "                cEnd += 1\n",
    "                if cEnd == cBgn:\n",
    "                    iEnd = i + len(\"</ent>\")\n",
    "                    ent = astr[iBgn:iEnd]\n",
    "                    entL.append(ent)\n",
    "                    cBgn = cEnd = iBgn = iEnd = 0\n",
    "            else:\n",
    "                if cBgn == 0:\n",
    "                    iBgn = i\n",
    "                cBgn += 1\n",
    "    return entL\n",
    "\n",
    "# Rid of all tags\n",
    "def strip_tags(astr2, alist):\n",
    "    astr3 = []\n",
    "    astr2 = astr2.split(\"<ent>\")\n",
    "    for i in astr2:\n",
    "        i = i.split(\"</ent>\")\n",
    "        astr3.extend(i)\n",
    "    alist.append(\"\".join(astr3))\n",
    "    return alist\n",
    "\n",
    "# Rid of the outer most tags\n",
    "def strip_outer(astr2):\n",
    "    astr4 = astr2[astr2.find(\">\")+1:astr2.rfind(\"<\")]\n",
    "    return astr4\n",
    "\n",
    "def list_to_dict(alist):\n",
    "    adict = {}\n",
    "    for i in alist:\n",
    "        if i not in adict:\n",
    "            adict[i] = 0\n",
    "    return adict"
   ]
  },
  {
   "cell_type": "code",
   "execution_count": 103,
   "metadata": {},
   "outputs": [
    {
     "data": {
      "text/plain": [
       "136"
      ]
     },
     "execution_count": 103,
     "metadata": {},
     "output_type": "execute_result"
    }
   ],
   "source": [
    "sgl_str = cleanup(sgl)\n",
    "sgl_lst = []\n",
    "sgl_lst = a_iterate(sgl_str, sgl_lst)\n",
    "sgl_dct = list_to_dict(sgl_lst)\n",
    "len(sgl_dct)"
   ]
  },
  {
   "cell_type": "code",
   "execution_count": 108,
   "metadata": {},
   "outputs": [
    {
     "data": {
      "text/plain": [
       "84"
      ]
     },
     "execution_count": 108,
     "metadata": {},
     "output_type": "execute_result"
    }
   ],
   "source": [
    "shs_str = cleanup(shs)\n",
    "shs_lst = []\n",
    "shs_lst = a_iterate(shs_str, shs_lst)\n",
    "shs_dct = list_to_dict(shs_lst)\n",
    "len(shs_dct)"
   ]
  },
  {
   "cell_type": "code",
   "execution_count": 110,
   "metadata": {},
   "outputs": [],
   "source": [
    "oup = open(\"ent_compare.txt\",\"w\")\n",
    "oup.write(\"Entity\\tSL\\tSS\\n\")\n",
    "for i in sgl_dct:\n",
    "    if i in shs_dct:\n",
    "        shs_dct[i] = 1\n",
    "        oup.write(f\"{i}\\t1\\t1\\n\")\n",
    "    else:\n",
    "        oup.write(f\"{i}\\t1\\t0\\n\")\n",
    "    \n",
    "for i in shs_dct:\n",
    "    if shs_dct[i] == 0:\n",
    "        oup.write(f\"{i}\\t0\\t1\\n\")\n",
    "        #print(\"Only in SS:\",i)\n",
    "    \n",
    "oup.close()"
   ]
  },
  {
   "cell_type": "code",
   "execution_count": null,
   "metadata": {},
   "outputs": [],
   "source": []
  }
 ],
 "metadata": {
  "kernelspec": {
   "display_name": "Python 3",
   "language": "python",
   "name": "python3"
  },
  "language_info": {
   "codemirror_mode": {
    "name": "ipython",
    "version": 3
   },
   "file_extension": ".py",
   "mimetype": "text/x-python",
   "name": "python",
   "nbconvert_exporter": "python",
   "pygments_lexer": "ipython3",
   "version": "3.6.10"
  }
 },
 "nbformat": 4,
 "nbformat_minor": 4
}
